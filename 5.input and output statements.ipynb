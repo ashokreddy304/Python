{
 "cells": [
  {
   "cell_type": "markdown",
   "id": "67458753-b0bf-4950-9c89-9722a1b495ca",
   "metadata": {},
   "source": [
    "# input()\n",
    "#### The input() function is used to take input from the user during program execution.\n",
    "#### Whatever the user types is always received as a string (text), even if they enter a number."
   ]
  },
  {
   "cell_type": "code",
   "execution_count": 1,
   "id": "030e1a05-390f-4d9d-9381-d84012f31672",
   "metadata": {},
   "outputs": [
    {
     "name": "stdin",
     "output_type": "stream",
     "text": [
      "enter valus 3\n"
     ]
    },
    {
     "data": {
      "text/plain": [
       "str"
      ]
     },
     "execution_count": 1,
     "metadata": {},
     "output_type": "execute_result"
    }
   ],
   "source": [
    "x = input('enter valus')\n",
    "type(x)"
   ]
  },
  {
   "cell_type": "markdown",
   "id": "b4007a5e-2908-40c2-ae31-c5d1147e50df",
   "metadata": {},
   "source": [
    "#### Write a program to read 2 numbers from the keyboard and print sum"
   ]
  },
  {
   "cell_type": "code",
   "execution_count": 8,
   "id": "45d430cb-f108-484a-86fa-873481f7fba1",
   "metadata": {},
   "outputs": [
    {
     "name": "stdin",
     "output_type": "stream",
     "text": [
      "Enter 1st Number:  39\n",
      "Enter 2cd Number:  50\n"
     ]
    },
    {
     "name": "stdout",
     "output_type": "stream",
     "text": [
      "The sum of 39 and 50 is 89\n"
     ]
    }
   ],
   "source": [
    "a = int(input(\"Enter 1st Number: \"))\n",
    "b = int(input(\"Enter 2cd Number: \"))\n",
    "print(f'The sum of {a} and {b} is {a+b}')"
   ]
  },
  {
   "cell_type": "markdown",
   "id": "61406397-53b4-4cc3-8106-cdc624cf2416",
   "metadata": {},
   "source": [
    "### how to read multiple values from the keyboard in a single line"
   ]
  },
  {
   "cell_type": "code",
   "execution_count": 14,
   "id": "2c657639-176c-40e3-93a4-75a5ba1c42b2",
   "metadata": {},
   "outputs": [
    {
     "name": "stdin",
     "output_type": "stream",
     "text": [
      "Enter 2 Numbers: 23456789,98765432\n"
     ]
    },
    {
     "name": "stdout",
     "output_type": "stream",
     "text": [
      "Product of 23456789 and 98765432 is 2316719898917848\n"
     ]
    }
   ],
   "source": [
    "a,b = [int(x) for x in input('Enter 2 Numbers:').split(\",\")]\n",
    "print(f'Product of {a} and {b} is {a*b}')"
   ]
  },
  {
   "cell_type": "code",
   "execution_count": 17,
   "id": "4c182447-8f78-4152-bb8a-cf802198354e",
   "metadata": {},
   "outputs": [
    {
     "name": "stdin",
     "output_type": "stream",
     "text": [
      "Enter 3 float number: 29.9,30.50,50.20\n"
     ]
    },
    {
     "data": {
      "text/plain": [
       "'the product of 29.9 and 30.5 and 50.2 is 45779.89'"
      ]
     },
     "execution_count": 17,
     "metadata": {},
     "output_type": "execute_result"
    }
   ],
   "source": [
    "a,b,c = [float(x) for x in input('Enter 3 float number:').split(',')]\n",
    "f'the product of {a} and {b} and {c} is {a*b*c}'"
   ]
  },
  {
   "cell_type": "markdown",
   "id": "1f65d29b-5ca3-42b9-b877-591c1d1e8dab",
   "metadata": {},
   "source": [
    "# eval()"
   ]
  },
  {
   "cell_type": "markdown",
   "id": "84ce8e5c-aea3-4bab-bc5b-853256c26dd1",
   "metadata": {},
   "source": [
    "### eval() function take string and eavaluate the result"
   ]
  },
  {
   "cell_type": "markdown",
   "id": "2a9d08b0-2e30-4aa8-b055-899a309cd2e9",
   "metadata": {},
   "source": [
    "#### eval() is a built-in Python function that evaluates a string as a Python expression and returns the result."
   ]
  },
  {
   "cell_type": "code",
   "execution_count": 18,
   "id": "94d61b8a-7a85-411d-b0a2-74a30af5b848",
   "metadata": {},
   "outputs": [
    {
     "data": {
      "text/plain": [
       "(10, 20, 30)"
      ]
     },
     "execution_count": 18,
     "metadata": {},
     "output_type": "execute_result"
    }
   ],
   "source": [
    "x = eval('10,20,30')\n",
    "x"
   ]
  },
  {
   "cell_type": "code",
   "execution_count": 30,
   "id": "9c17d00a-67e6-4a99-9dff-f123b75781b8",
   "metadata": {},
   "outputs": [
    {
     "name": "stdin",
     "output_type": "stream",
     "text": [
      "enter list 20,30,50\n"
     ]
    },
    {
     "data": {
      "text/plain": [
       "[20, 30, 50]"
      ]
     },
     "execution_count": 30,
     "metadata": {},
     "output_type": "execute_result"
    }
   ],
   "source": [
    "x = list(eval(input('enter list')))\n",
    "x"
   ]
  },
  {
   "cell_type": "code",
   "execution_count": 21,
   "id": "635057f6-5529-4f42-aab9-29e8ec01a893",
   "metadata": {},
   "outputs": [
    {
     "data": {
      "text/plain": [
       "[10, 20, 30, 40, 50]"
      ]
     },
     "execution_count": 21,
     "metadata": {},
     "output_type": "execute_result"
    }
   ],
   "source": [
    "list(x)"
   ]
  },
  {
   "cell_type": "code",
   "execution_count": 26,
   "id": "e4051184-5661-47f4-8f4c-a4db90db9380",
   "metadata": {},
   "outputs": [
    {
     "name": "stdout",
     "output_type": "stream",
     "text": [
      "20\n",
      "30\n",
      "40\n"
     ]
    }
   ],
   "source": [
    "l = [20,30,40]\n",
    "for x in l:\n",
    "    print(x)"
   ]
  },
  {
   "cell_type": "markdown",
   "id": "5286ca85-a25c-4426-9c8c-e9373df809d9",
   "metadata": {},
   "source": [
    "# Output Statements"
   ]
  },
  {
   "cell_type": "markdown",
   "id": "396d416d-44be-44bf-b655-596122350456",
   "metadata": {},
   "source": [
    "#### We can use print() function to display output."
   ]
  },
  {
   "cell_type": "markdown",
   "id": "e8457756-ba50-45e2-acb2-2b21de9d0886",
   "metadata": {},
   "source": [
    "### Form-1"
   ]
  },
  {
   "cell_type": "markdown",
   "id": "87dffdc1-057b-48ad-aaac-3f69c1b4cbd3",
   "metadata": {},
   "source": [
    "#### print() with out any argument just it print new line character."
   ]
  },
  {
   "cell_type": "code",
   "execution_count": 31,
   "id": "7663a1fd-1b3c-4e7d-9e28-0c5213f0a779",
   "metadata": {},
   "outputs": [
    {
     "name": "stdout",
     "output_type": "stream",
     "text": [
      "\n"
     ]
    }
   ],
   "source": [
    "print()"
   ]
  },
  {
   "cell_type": "markdown",
   "id": "7ad81ca5-0018-4a46-9ff5-21b292a428e5",
   "metadata": {},
   "source": [
    "### Form-2"
   ]
  },
  {
   "cell_type": "code",
   "execution_count": 32,
   "id": "54c5f4ca-f119-46d6-9d58-1cf10427bfb5",
   "metadata": {},
   "outputs": [
    {
     "name": "stdout",
     "output_type": "stream",
     "text": [
      "Hello World\n"
     ]
    }
   ],
   "source": [
    "print('Hello World')"
   ]
  },
  {
   "cell_type": "code",
   "execution_count": null,
   "id": "cf09870b-4b04-4976-a371-443c58d07aa4",
   "metadata": {},
   "outputs": [],
   "source": [
    "#### \\n -> New line\n",
    "#### \\t -> Horizontal Tab\n",
    "#### \\r -> Carriage Return\n",
    "#### \\b -> Back Space\n",
    "#### \\f -> Form Feed\n",
    "#### \\v -> Vertical Tab\n",
    "#### \\' -> Single Quote\n",
    "#### \\\" -> Double Quote\n",
    "#### \\\\ -> Back Slash Symbol"
   ]
  },
  {
   "cell_type": "code",
   "execution_count": 33,
   "id": "da1c93ce-6a2c-4d6f-aadb-3ba807ecd534",
   "metadata": {},
   "outputs": [
    {
     "name": "stdout",
     "output_type": "stream",
     "text": [
      "Hello \n",
      " world\n"
     ]
    }
   ],
   "source": [
    "# we can use escape characters also\n",
    "print('Hello \\n world') # New line"
   ]
  },
  {
   "cell_type": "code",
   "execution_count": 34,
   "id": "99b7dab5-f579-48ec-9161-b2f52ce6c0f8",
   "metadata": {},
   "outputs": [
    {
     "name": "stdout",
     "output_type": "stream",
     "text": [
      "Hello \t world\n"
     ]
    }
   ],
   "source": [
    "print('Hello \\t world') # Horizontal Tab"
   ]
  },
  {
   "cell_type": "code",
   "execution_count": 35,
   "id": "8d6e0e08-0263-40c0-a272-ebf0a5a57461",
   "metadata": {},
   "outputs": [
    {
     "name": "stdout",
     "output_type": "stream",
     "text": [
      " world\n"
     ]
    }
   ],
   "source": [
    "print('Hello \\r world') # Carriage Return"
   ]
  },
  {
   "cell_type": "markdown",
   "id": "eb2f1aa2-4a69-4166-87a9-97259c7a73f1",
   "metadata": {},
   "source": [
    "## Form-3"
   ]
  },
  {
   "cell_type": "code",
   "execution_count": 36,
   "id": "16cd7d21-ce5f-48e0-9dfc-a2df0592fa38",
   "metadata": {},
   "outputs": [
    {
     "name": "stdout",
     "output_type": "stream",
     "text": [
      "The Values are: 10 20 30\n"
     ]
    }
   ],
   "source": [
    "# print() with variable number of arguments\n",
    "a,b,c = 10,20,30\n",
    "print('The Values are:',a,b,c)"
   ]
  },
  {
   "cell_type": "code",
   "execution_count": 37,
   "id": "448d59bd-dd17-42c9-b437-75f921ed18c1",
   "metadata": {},
   "outputs": [],
   "source": [
    "#  by default output values are seperated by space. if we want we can specify seperator by usig 'sep' attribute"
   ]
  },
  {
   "cell_type": "code",
   "execution_count": 42,
   "id": "4401405e-005e-4c38-b8da-521757a420de",
   "metadata": {},
   "outputs": [
    {
     "name": "stdout",
     "output_type": "stream",
     "text": [
      "10 - 20 - 30\n"
     ]
    }
   ],
   "source": [
    "print(a,b,c,sep=' - ')"
   ]
  },
  {
   "cell_type": "markdown",
   "id": "3380519c-adbe-41a4-88d2-405e016861cc",
   "metadata": {},
   "source": [
    "### Form -4 print() with end attribute"
   ]
  },
  {
   "cell_type": "code",
   "execution_count": 43,
   "id": "f9d1b174-7123-4171-9eeb-ffd7da9cebd3",
   "metadata": {},
   "outputs": [
    {
     "name": "stdout",
     "output_type": "stream",
     "text": [
      "Ashok\n",
      "Learning\n",
      "DS\n"
     ]
    }
   ],
   "source": [
    "print('Ashok')\n",
    "print('Learning')\n",
    "print('DS')"
   ]
  },
  {
   "cell_type": "code",
   "execution_count": 45,
   "id": "363bcc20-58da-495f-b8e2-abcf99a5a7d8",
   "metadata": {},
   "outputs": [
    {
     "name": "stdout",
     "output_type": "stream",
     "text": [
      "Ashok Learning DS\n"
     ]
    }
   ],
   "source": [
    "print('Ashok',end=' ') # if we want output in the same line.\n",
    "print('Learning',end=' ')\n",
    "print('DS')"
   ]
  },
  {
   "cell_type": "markdown",
   "id": "11abb1cc-9bf5-48f2-ac66-4df17e729ace",
   "metadata": {},
   "source": [
    "### Using .format()"
   ]
  },
  {
   "cell_type": "code",
   "execution_count": 46,
   "id": "9cf7592c-7f92-401c-aea6-7ed84d7fe1da",
   "metadata": {},
   "outputs": [
    {
     "name": "stdout",
     "output_type": "stream",
     "text": [
      "My name is Ashok and I am 25 years old.\n"
     ]
    }
   ],
   "source": [
    "name = \"Ashok\"\n",
    "age = 25\n",
    "print(\"My name is {} and I am {} years old.\".format(name, age))\n"
   ]
  },
  {
   "cell_type": "markdown",
   "id": "e7b4cf70-3d9a-4843-a677-0891d7b5f3fe",
   "metadata": {},
   "source": [
    "#### Using f-strings (Recommended in Python 3.6+)"
   ]
  },
  {
   "cell_type": "code",
   "execution_count": 47,
   "id": "8c282b5b-06ca-4f87-8104-3ae9f489edd1",
   "metadata": {},
   "outputs": [
    {
     "name": "stdout",
     "output_type": "stream",
     "text": [
      "My name is Ashok and I am 25 years old.\n"
     ]
    }
   ],
   "source": [
    "name = \"Ashok\"\n",
    "age = 25\n",
    "print(f\"My name is {name} and I am {age} years old.\")\n"
   ]
  },
  {
   "cell_type": "code",
   "execution_count": null,
   "id": "3bf9d5cc-77ad-4050-a173-0ff23bee587e",
   "metadata": {},
   "outputs": [],
   "source": []
  }
 ],
 "metadata": {
  "kernelspec": {
   "display_name": "Python 3 (ipykernel)",
   "language": "python",
   "name": "python3"
  },
  "language_info": {
   "codemirror_mode": {
    "name": "ipython",
    "version": 3
   },
   "file_extension": ".py",
   "mimetype": "text/x-python",
   "name": "python",
   "nbconvert_exporter": "python",
   "pygments_lexer": "ipython3",
   "version": "3.12.7"
  }
 },
 "nbformat": 4,
 "nbformat_minor": 5
}
