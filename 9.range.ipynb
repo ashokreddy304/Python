{
 "cells": [
  {
   "cell_type": "markdown",
   "id": "2b08fe3b-3f0f-4ec9-8ea4-71d656d66a14",
   "metadata": {},
   "source": [
    "# range"
   ]
  },
  {
   "cell_type": "markdown",
   "id": "b3b97928-bb6b-41eb-95f1-da7e30b91eed",
   "metadata": {},
   "source": [
    "#### The range type in Python represents an immutable sequence of numbers commonly used for looping a specific number of times."
   ]
  },
  {
   "cell_type": "markdown",
   "id": "f15123ea-3dfe-4c5c-bc88-e87cb6626625",
   "metadata": {},
   "source": [
    "### range(start, stop, step)\n",
    "#### start: Starting number (default is 0)\n",
    "#### stop: End (exclusive)\n",
    "#### step: How much to increment (default is 1)"
   ]
  },
  {
   "cell_type": "code",
   "execution_count": 1,
   "id": "3d004145-5ef7-4edd-96c0-9f1f900378c4",
   "metadata": {},
   "outputs": [
    {
     "data": {
      "text/plain": [
       "[0, 1, 2, 3, 4]"
      ]
     },
     "execution_count": 1,
     "metadata": {},
     "output_type": "execute_result"
    }
   ],
   "source": [
    "r = range(5)\n",
    "list(r)"
   ]
  },
  {
   "cell_type": "code",
   "execution_count": 2,
   "id": "d649b469-4d9a-4fc3-8acd-ef1192fd1482",
   "metadata": {},
   "outputs": [
    {
     "data": {
      "text/plain": [
       "[1, 2, 3, 4, 5, 6, 7, 8, 9]"
      ]
     },
     "execution_count": 2,
     "metadata": {},
     "output_type": "execute_result"
    }
   ],
   "source": [
    "r = range(1,10)\n",
    "list(r)"
   ]
  },
  {
   "cell_type": "code",
   "execution_count": 6,
   "id": "a7e63b2b-86bb-4b90-a6a5-da0df2960c1e",
   "metadata": {},
   "outputs": [
    {
     "name": "stdout",
     "output_type": "stream",
     "text": [
      "(1, 3, 5, 7, 9, 11, 13, 15, 17, 19)\n",
      "{1, 3, 5, 7, 9, 11, 13, 15, 17, 19}\n",
      "[1, 3, 5, 7, 9, 11, 13, 15, 17, 19]\n"
     ]
    }
   ],
   "source": [
    "r = range(1,20,2)\n",
    "print(tuple(r))\n",
    "print(set(r))\n",
    "print(list(r))"
   ]
  },
  {
   "cell_type": "markdown",
   "id": "9b888ec4-973a-4a53-bcc4-fe72be7312bb",
   "metadata": {},
   "source": [
    "### Important Properties\n",
    "#### Memory Efficient: range does not store all values in memory — it generates them on demand.\n",
    "#### Immutable: You can't modify a range object once it's created."
   ]
  },
  {
   "cell_type": "code",
   "execution_count": 9,
   "id": "02ee8fec-7b54-4e16-b72d-caf21db8b361",
   "metadata": {},
   "outputs": [
    {
     "name": "stdout",
     "output_type": "stream",
     "text": [
      "[10, 8, 6, 4, 2]\n"
     ]
    }
   ],
   "source": [
    "r = range(10,0,-2)\n",
    "print(list(r))"
   ]
  },
  {
   "cell_type": "code",
   "execution_count": 10,
   "id": "a9fa684e-04ed-44b7-be1e-d258273a87bc",
   "metadata": {},
   "outputs": [
    {
     "name": "stdout",
     "output_type": "stream",
     "text": [
      "[2, 4, 6, 8, 10]\n"
     ]
    }
   ],
   "source": [
    "r = range(10,0,-2)\n",
    "print(list(reversed(r)))"
   ]
  },
  {
   "cell_type": "markdown",
   "id": "b0bebf45-6e5d-4125-97da-ca022ee62ec9",
   "metadata": {},
   "source": [
    "### Indexing and slicing"
   ]
  },
  {
   "cell_type": "code",
   "execution_count": 11,
   "id": "653acac9-8837-4c4b-8927-2dfce0ed3fed",
   "metadata": {},
   "outputs": [
    {
     "name": "stdout",
     "output_type": "stream",
     "text": [
      "10\n",
      "range(13, 17)\n",
      "[13, 14, 15, 16]\n"
     ]
    }
   ],
   "source": [
    "r = range(10, 20)\n",
    "print(r[0])       \n",
    "print(r[3:7])    \n",
    "print(list(r[3:7]))  \n"
   ]
  },
  {
   "cell_type": "markdown",
   "id": "738472e7-f527-4d2d-af8a-39b72a24daf6",
   "metadata": {},
   "source": [
    "### Using in with range"
   ]
  },
  {
   "cell_type": "code",
   "execution_count": 13,
   "id": "8cf874de-48e2-48ed-9af4-f17a35aab2ea",
   "metadata": {},
   "outputs": [
    {
     "name": "stdout",
     "output_type": "stream",
     "text": [
      "True\n",
      "False\n"
     ]
    }
   ],
   "source": [
    "r = range(1, 10)\n",
    "print(5 in r) \n",
    "print(15 in r)    \n"
   ]
  },
  {
   "cell_type": "code",
   "execution_count": 14,
   "id": "6b39887b-bcef-48ef-9f53-b12aa5bf5e0e",
   "metadata": {},
   "outputs": [
    {
     "name": "stdout",
     "output_type": "stream",
     "text": [
      "Hello 0\n",
      "Hello 1\n",
      "Hello 2\n"
     ]
    }
   ],
   "source": [
    "for i in range(3):\n",
    "    print(\"Hello\", i)"
   ]
  },
  {
   "cell_type": "code",
   "execution_count": 15,
   "id": "5ac4aa18-cf6d-4e58-ae8a-c6ddfbdd975d",
   "metadata": {},
   "outputs": [
    {
     "name": "stdout",
     "output_type": "stream",
     "text": [
      "0 a\n",
      "1 b\n",
      "2 c\n"
     ]
    }
   ],
   "source": [
    "data = ['a', 'b', 'c']\n",
    "for i in range(len(data)):\n",
    "    print(i, data[i])\n"
   ]
  },
  {
   "cell_type": "code",
   "execution_count": 16,
   "id": "d6596a9e-bf73-4d4d-8bc2-7820f81bdfe1",
   "metadata": {},
   "outputs": [
    {
     "name": "stdout",
     "output_type": "stream",
     "text": [
      "a\n",
      "b\n",
      "c\n"
     ]
    }
   ],
   "source": [
    "for i in data:\n",
    "    print(i)"
   ]
  },
  {
   "cell_type": "code",
   "execution_count": null,
   "id": "32cd52da-267e-4630-b0f0-6f9fb81aa6c4",
   "metadata": {},
   "outputs": [],
   "source": []
  }
 ],
 "metadata": {
  "kernelspec": {
   "display_name": "Python 3 (ipykernel)",
   "language": "python",
   "name": "python3"
  },
  "language_info": {
   "codemirror_mode": {
    "name": "ipython",
    "version": 3
   },
   "file_extension": ".py",
   "mimetype": "text/x-python",
   "name": "python",
   "nbconvert_exporter": "python",
   "pygments_lexer": "ipython3",
   "version": "3.12.7"
  }
 },
 "nbformat": 4,
 "nbformat_minor": 5
}
