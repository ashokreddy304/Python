{
 "cells": [
  {
   "cell_type": "markdown",
   "id": "9e830442-b82f-45c7-89fa-c78273fac08e",
   "metadata": {},
   "source": [
    "## Identifier\n",
    "### In Python, an identifier is the name used to identify a variable, function, class, module, or object."
   ]
  },
  {
   "cell_type": "markdown",
   "id": "9ac34dad-e153-4c5c-956a-19a7dd16a7ae",
   "metadata": {},
   "source": [
    "#### Rules to define Identifier"
   ]
  },
  {
   "cell_type": "markdown",
   "id": "be576447-2389-4691-8c90-b2d7a6d4be4d",
   "metadata": {},
   "source": [
    "#### The only allowed Characters \n",
    "####  1. Alphabet symbols, either lower case or upper case\n",
    "####  By mistake if we using any other symbol like $ then we will get syntax error"
   ]
  },
  {
   "cell_type": "code",
   "execution_count": 1,
   "id": "8ae37d28-dc16-48d7-90ea-a0a956fb9e89",
   "metadata": {},
   "outputs": [
    {
     "data": {
      "text/plain": [
       "10"
      ]
     },
     "execution_count": 1,
     "metadata": {},
     "output_type": "execute_result"
    }
   ],
   "source": [
    "cash = 10\n",
    "cash"
   ]
  },
  {
   "cell_type": "code",
   "execution_count": 2,
   "id": "5c35f212-499b-4dd6-9ab3-c785df0eaeac",
   "metadata": {},
   "outputs": [
    {
     "ename": "SyntaxError",
     "evalue": "invalid syntax (3648802222.py, line 1)",
     "output_type": "error",
     "traceback": [
      "\u001b[1;36m  Cell \u001b[1;32mIn[2], line 1\u001b[1;36m\u001b[0m\n\u001b[1;33m    ca$h = 10\u001b[0m\n\u001b[1;37m      ^\u001b[0m\n\u001b[1;31mSyntaxError\u001b[0m\u001b[1;31m:\u001b[0m invalid syntax\n"
     ]
    }
   ],
   "source": [
    "ca$h = 10"
   ]
  },
  {
   "cell_type": "markdown",
   "id": "eae017e6-30c3-4962-937a-db63226cde40",
   "metadata": {},
   "source": [
    "#### Identifier should not start with number"
   ]
  },
  {
   "cell_type": "code",
   "execution_count": 3,
   "id": "554dcbfa-04ce-4a49-9d84-36596a064729",
   "metadata": {},
   "outputs": [
    {
     "ename": "SyntaxError",
     "evalue": "invalid decimal literal (2989942625.py, line 1)",
     "output_type": "error",
     "traceback": [
      "\u001b[1;36m  Cell \u001b[1;32mIn[3], line 1\u001b[1;36m\u001b[0m\n\u001b[1;33m    123se = 10\u001b[0m\n\u001b[1;37m      ^\u001b[0m\n\u001b[1;31mSyntaxError\u001b[0m\u001b[1;31m:\u001b[0m invalid decimal literal\n"
     ]
    }
   ],
   "source": [
    "123se = 10"
   ]
  },
  {
   "cell_type": "code",
   "execution_count": 4,
   "id": "d83cac17-deb0-4c37-acd7-21c937e531fd",
   "metadata": {},
   "outputs": [
    {
     "data": {
      "text/plain": [
       "20"
      ]
     },
     "execution_count": 4,
     "metadata": {},
     "output_type": "execute_result"
    }
   ],
   "source": [
    "se123 = 20\n",
    "se123"
   ]
  },
  {
   "cell_type": "markdown",
   "id": "e866bd9a-30d2-4abd-8825-5afdf69ec89b",
   "metadata": {},
   "source": [
    "#### Identifier are case sensitive. of course python language is case senstive language"
   ]
  },
  {
   "cell_type": "code",
   "execution_count": 5,
   "id": "62b7b5c3-c74c-4352-b2db-38ef6cd3df28",
   "metadata": {},
   "outputs": [
    {
     "name": "stdout",
     "output_type": "stream",
     "text": [
      "10\n",
      "20\n"
     ]
    }
   ],
   "source": [
    "a = 10\n",
    "A = 20\n",
    "print(a)\n",
    "print(A)"
   ]
  },
  {
   "cell_type": "code",
   "execution_count": null,
   "id": "e7e513f3-138a-4746-ad69-b3f66c90e5a1",
   "metadata": {},
   "outputs": [],
   "source": []
  }
 ],
 "metadata": {
  "kernelspec": {
   "display_name": "Python 3 (ipykernel)",
   "language": "python",
   "name": "python3"
  },
  "language_info": {
   "codemirror_mode": {
    "name": "ipython",
    "version": 3
   },
   "file_extension": ".py",
   "mimetype": "text/x-python",
   "name": "python",
   "nbconvert_exporter": "python",
   "pygments_lexer": "ipython3",
   "version": "3.12.7"
  }
 },
 "nbformat": 4,
 "nbformat_minor": 5
}
