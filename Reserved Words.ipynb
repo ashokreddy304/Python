{
 "cells": [
  {
   "cell_type": "markdown",
   "id": "992836e1-a28e-4d57-98d3-17cbff4582e2",
   "metadata": {},
   "source": [
    "# Reserved Words\n",
    "#### In Python, some words are reserved to represet to some meaning or functionality such type of words are called reserved words.\n",
    "#### All Reserved words in python contain only alphabet symbols.\n",
    "#### Except the fllowing 3 words True,False,None"
   ]
  },
  {
   "cell_type": "code",
   "execution_count": 1,
   "id": "a0d18efe-7687-44be-9b90-d768d89be9c5",
   "metadata": {},
   "outputs": [
    {
     "data": {
      "text/plain": [
       "['False',\n",
       " 'None',\n",
       " 'True',\n",
       " 'and',\n",
       " 'as',\n",
       " 'assert',\n",
       " 'async',\n",
       " 'await',\n",
       " 'break',\n",
       " 'class',\n",
       " 'continue',\n",
       " 'def',\n",
       " 'del',\n",
       " 'elif',\n",
       " 'else',\n",
       " 'except',\n",
       " 'finally',\n",
       " 'for',\n",
       " 'from',\n",
       " 'global',\n",
       " 'if',\n",
       " 'import',\n",
       " 'in',\n",
       " 'is',\n",
       " 'lambda',\n",
       " 'nonlocal',\n",
       " 'not',\n",
       " 'or',\n",
       " 'pass',\n",
       " 'raise',\n",
       " 'return',\n",
       " 'try',\n",
       " 'while',\n",
       " 'with',\n",
       " 'yield']"
      ]
     },
     "execution_count": 1,
     "metadata": {},
     "output_type": "execute_result"
    }
   ],
   "source": [
    "import keyword\n",
    "keyword.kwlist"
   ]
  },
  {
   "cell_type": "code",
   "execution_count": null,
   "id": "63d0cd82-69cc-44c3-b469-e1e33d630783",
   "metadata": {},
   "outputs": [],
   "source": [
    "get.c"
   ]
  }
 ],
 "metadata": {
  "kernelspec": {
   "display_name": "Python 3 (ipykernel)",
   "language": "python",
   "name": "python3"
  },
  "language_info": {
   "codemirror_mode": {
    "name": "ipython",
    "version": 3
   },
   "file_extension": ".py",
   "mimetype": "text/x-python",
   "name": "python",
   "nbconvert_exporter": "python",
   "pygments_lexer": "ipython3",
   "version": "3.12.7"
  }
 },
 "nbformat": 4,
 "nbformat_minor": 5
}
