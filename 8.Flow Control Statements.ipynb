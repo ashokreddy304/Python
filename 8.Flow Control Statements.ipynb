{
 "cells": [
  {
   "cell_type": "markdown",
   "id": "735a90a6-d930-4c67-a8d0-118ce91a768b",
   "metadata": {},
   "source": [
    "## Flow control describes the order in which statements will be executed at run time."
   ]
  },
  {
   "cell_type": "markdown",
   "id": "8cec088d-a432-440f-a0c0-a825025c57dd",
   "metadata": {},
   "source": [
    "### Conditional Statements\n",
    "##### 1. if\n",
    "##### 2. if - else\n",
    "##### 3. if - elif - else\n",
    "### Transfer Statements\n",
    "##### 1. break\n",
    "##### 2. continue\n",
    "##### 3. pass\n",
    "### Iterative Statements\n",
    "##### 1. for\n",
    "##### 2. while"
   ]
  },
  {
   "cell_type": "code",
   "execution_count": null,
   "id": "912e4028-b538-4a85-8bfd-bdd1b2d2b873",
   "metadata": {},
   "outputs": [],
   "source": []
  },
  {
   "cell_type": "markdown",
   "id": "ac964b11-5ca9-4278-9c35-ae0dc172c83f",
   "metadata": {},
   "source": [
    "### Conditional Statements\n",
    "#### if\n",
    "#### if condition: \n",
    "        statement1\n",
    "        statement2\n",
    "#### if condition is true then statements will be executed."
   ]
  },
  {
   "cell_type": "code",
   "execution_count": 1,
   "id": "eef19be0-f818-4205-9fc9-c7c5b968d01e",
   "metadata": {},
   "outputs": [
    {
     "name": "stdin",
     "output_type": "stream",
     "text": [
      "Enter Name:  Ashok\n"
     ]
    },
    {
     "name": "stdout",
     "output_type": "stream",
     "text": [
      "Ashok Good Morning\n",
      "how are you\n"
     ]
    }
   ],
   "source": [
    "name = input('Enter Name: ')\n",
    "if name == 'Ashok':\n",
    "    print('Ashok Good Morning')\n",
    "print('how are you')"
   ]
  },
  {
   "cell_type": "code",
   "execution_count": 2,
   "id": "4b7cea88-d4c2-448b-a681-a184420004a1",
   "metadata": {},
   "outputs": [
    {
     "name": "stdin",
     "output_type": "stream",
     "text": [
      "Enter Name:  abcd\n"
     ]
    },
    {
     "name": "stdout",
     "output_type": "stream",
     "text": [
      "how are you\n"
     ]
    }
   ],
   "source": [
    "name = input('Enter Name: ')\n",
    "if name == 'Ashok':\n",
    "    print('Ashok Good Morning')\n",
    "print('how are you')"
   ]
  },
  {
   "cell_type": "code",
   "execution_count": 4,
   "id": "0f851e6f-fab5-4be9-9586-35a96c46bc1c",
   "metadata": {},
   "outputs": [
    {
     "name": "stdin",
     "output_type": "stream",
     "text": [
      "Enter Roll No:  101\n"
     ]
    },
    {
     "name": "stdout",
     "output_type": "stream",
     "text": [
      "I am ashok\n"
     ]
    }
   ],
   "source": [
    "rollno = int(input('Enter Roll No: '))\n",
    "if rollno == 101:\n",
    "    print('I am ashok')\n"
   ]
  },
  {
   "cell_type": "code",
   "execution_count": 5,
   "id": "19375d36-edcc-4fbc-bc56-05b3ebd1709c",
   "metadata": {},
   "outputs": [
    {
     "name": "stdin",
     "output_type": "stream",
     "text": [
      "Enter Roll No:  102\n"
     ]
    }
   ],
   "source": [
    "rollno = int(input('Enter Roll No: ')) # if the condition is true this stmnts will work.\n",
    "if rollno == 101:\n",
    "    print('I am ashok')"
   ]
  },
  {
   "cell_type": "markdown",
   "id": "9c083cc3-d7de-41f1-bc97-734580ff35d8",
   "metadata": {},
   "source": [
    "### if-else"
   ]
  },
  {
   "cell_type": "markdown",
   "id": "59b82743-b57c-42d7-94d4-acebe4ccb8a5",
   "metadata": {},
   "source": [
    "#### if condition:\n",
    "    action-1\n",
    "#### else:\n",
    "    action-2"
   ]
  },
  {
   "cell_type": "code",
   "execution_count": 10,
   "id": "eb0a3630-cf0c-4122-9d8c-cd81bf01227e",
   "metadata": {},
   "outputs": [
    {
     "name": "stdin",
     "output_type": "stream",
     "text": [
      "Enter Roll Number: 101\n"
     ]
    },
    {
     "name": "stdout",
     "output_type": "stream",
     "text": [
      "name is Ashok\n"
     ]
    }
   ],
   "source": [
    "rollnum = int(input('Enter Roll Number:'))\n",
    "if rollnum == 101:\n",
    "    print('name is Ashok')\n",
    "else:\n",
    "    print('Enter valid roll Number')"
   ]
  },
  {
   "cell_type": "code",
   "execution_count": 12,
   "id": "2a0dc5ee-31b0-4b78-add9-de1d7bd4d5dc",
   "metadata": {},
   "outputs": [
    {
     "name": "stdin",
     "output_type": "stream",
     "text": [
      "Enter Roll Number: 102\n"
     ]
    },
    {
     "name": "stdout",
     "output_type": "stream",
     "text": [
      "pls Enter valid roll Number\n"
     ]
    }
   ],
   "source": [
    "rollnum = int(input('Enter Roll Number:'))\n",
    "if rollnum == 101:\n",
    "    print('Ashok')\n",
    "else:\n",
    "    print('pls Enter valid roll Number')"
   ]
  },
  {
   "cell_type": "code",
   "execution_count": 14,
   "id": "58c76774-fa05-475c-a8e3-92e67dc1a771",
   "metadata": {},
   "outputs": [
    {
     "data": {
      "text/plain": [
       "[10, 20, 30, 40, 50, 60, 70, 80, 90]"
      ]
     },
     "execution_count": 14,
     "metadata": {},
     "output_type": "execute_result"
    }
   ],
   "source": [
    "l = []\n",
    "for i in range(1,100):\n",
    "    if i%10 == 0:\n",
    "        l.append(i)\n",
    "l"
   ]
  },
  {
   "cell_type": "markdown",
   "id": "c55caf69-cd22-44d1-bdea-8832141469f4",
   "metadata": {},
   "source": [
    "## if - elif - else"
   ]
  },
  {
   "cell_type": "markdown",
   "id": "d5143f74-c631-47af-845d-393aea9350ce",
   "metadata": {},
   "source": [
    "##### if condition1:\n",
    "        action1\n",
    "##### elif condition2:\n",
    "        action2\n",
    "##### elif condition3:\n",
    "        action3\n",
    "##### else:\n",
    "        default Action\n"
   ]
  },
  {
   "cell_type": "code",
   "execution_count": 15,
   "id": "68692c46-874b-4617-9903-4edcb01d49bb",
   "metadata": {},
   "outputs": [
    {
     "name": "stdin",
     "output_type": "stream",
     "text": [
      "Enter your Favourite Brand: RC\n"
     ]
    },
    {
     "name": "stdout",
     "output_type": "stream",
     "text": [
      "It is Childrens brand\n"
     ]
    }
   ],
   "source": [
    "brand = input('Enter your Favourite Brand:')\n",
    "if brand == 'RC':\n",
    "    print('It is Childrens brand')\n",
    "elif brand == 'kf':\n",
    "    print('it is not much kick')\n",
    "elif brand == 'FO':\n",
    "    print('Buy one get one Free')\n",
    "else:\n",
    "    print('Other Brands are not recommended')"
   ]
  },
  {
   "cell_type": "code",
   "execution_count": 16,
   "id": "577af3ed-aad7-41e5-80b1-670d3bf36cee",
   "metadata": {},
   "outputs": [
    {
     "name": "stdin",
     "output_type": "stream",
     "text": [
      "Enter your Favourite Brand: RC\n"
     ]
    },
    {
     "name": "stdout",
     "output_type": "stream",
     "text": [
      "It is Childrens brand\n"
     ]
    }
   ],
   "source": [
    "brand = input('Enter your Favourite Brand:')\n",
    "if brand == 'RC':\n",
    "    print('It is Childrens brand')\n",
    "elif brand == 'kf':\n",
    "    print('it is not much kick')\n",
    "elif brand == 'FO':\n",
    "    print('Buy one get one Free')\n",
    "else:\n",
    "    print('Other Brands are not recommended')"
   ]
  },
  {
   "cell_type": "code",
   "execution_count": 17,
   "id": "cfd1b8cc-67c0-4a06-8377-bd3bd01cdb49",
   "metadata": {},
   "outputs": [
    {
     "name": "stdin",
     "output_type": "stream",
     "text": [
      "Enter your Favourite Brand: OT\n"
     ]
    },
    {
     "name": "stdout",
     "output_type": "stream",
     "text": [
      "Other Brands are not recommended\n"
     ]
    }
   ],
   "source": [
    "brand = input('Enter your Favourite Brand:')\n",
    "if brand == 'RC':\n",
    "    print('It is Childrens brand')\n",
    "elif brand == 'kf':\n",
    "    print('it is not much kick')\n",
    "elif brand == 'FO':\n",
    "    print('Buy one get one Free')\n",
    "else:\n",
    "    print('Other Brands are not recommended')"
   ]
  },
  {
   "cell_type": "markdown",
   "id": "be09c27f-17d5-44c6-9a84-91300eb523db",
   "metadata": {},
   "source": [
    "#### WAP TO FIND MAX NUMBER OF GIVEN NUMBERS\n"
   ]
  },
  {
   "cell_type": "code",
   "execution_count": 18,
   "id": "bd51fa02-6234-4648-aef9-f3cd6d5caf1a",
   "metadata": {},
   "outputs": [
    {
     "name": "stdin",
     "output_type": "stream",
     "text": [
      "Enter First Number 1\n",
      "Enter second Number 2\n"
     ]
    },
    {
     "name": "stdout",
     "output_type": "stream",
     "text": [
      "Biggest Number is 2\n"
     ]
    }
   ],
   "source": [
    "n1 = int(input('Enter First Number'))\n",
    "n2 = int(input('Enter second Number'))\n",
    "if n1>n2:\n",
    "    print('Biggest Number is',n1)\n",
    "else:\n",
    "    print('Biggest Number is', n2)"
   ]
  },
  {
   "cell_type": "code",
   "execution_count": 20,
   "id": "83ad3e45-5b4e-4d21-8281-ee92860cf350",
   "metadata": {},
   "outputs": [
    {
     "name": "stdin",
     "output_type": "stream",
     "text": [
      "Enter First Number 10\n",
      "Enter second Number 300000000000\n"
     ]
    },
    {
     "name": "stdout",
     "output_type": "stream",
     "text": [
      "Biggest Number is 300000000000\n"
     ]
    }
   ],
   "source": [
    "n1 = int(input('Enter First Number'))\n",
    "n2 = int(input('Enter second Number'))\n",
    "if n1>n2:\n",
    "    print('Biggest Number is',n1)\n",
    "else:\n",
    "    print('Biggest Number is', n2)"
   ]
  },
  {
   "cell_type": "markdown",
   "id": "73a64107-7df5-4d09-b569-ee61ed1ac4ce",
   "metadata": {},
   "source": [
    "#### WAP to find Biggest of given 3 numbers from the key board"
   ]
  },
  {
   "cell_type": "code",
   "execution_count": 21,
   "id": "1488580a-f0a3-4b8c-afd9-f37b5166f805",
   "metadata": {},
   "outputs": [
    {
     "name": "stdin",
     "output_type": "stream",
     "text": [
      "Enter First Number 1\n",
      "Enter second Number 2\n",
      "Enter 3rd Number 3\n"
     ]
    },
    {
     "name": "stdout",
     "output_type": "stream",
     "text": [
      "The max Number 3\n"
     ]
    }
   ],
   "source": [
    "n1 = int(input('Enter First Number'))\n",
    "n2 = int(input('Enter second Number'))\n",
    "n3 = int(input('Enter Thrid Number'))\n",
    "if n1>n2 and n1>n3:\n",
    "    print('The Max number',n1)\n",
    "elif n2>n3:\n",
    "    print('The max number',n2)\n",
    "else:\n",
    "    print('The max Number',n3)"
   ]
  },
  {
   "cell_type": "markdown",
   "id": "c41c0e58-334f-4279-ac54-7449279f8de9",
   "metadata": {},
   "source": [
    "### wap to check whether the given number is in between 1 and 100"
   ]
  },
  {
   "cell_type": "code",
   "execution_count": 22,
   "id": "84d7ce39-182b-4798-bcab-8a5dc8eea4af",
   "metadata": {},
   "outputs": [
    {
     "name": "stdin",
     "output_type": "stream",
     "text": [
      "Enter First Number 2\n"
     ]
    },
    {
     "name": "stdout",
     "output_type": "stream",
     "text": [
      "The given number 2 is between 1 to 100\n"
     ]
    }
   ],
   "source": [
    "n = int(input('Enter First Number'))\n",
    "if n>=1 and n<=100:\n",
    "    print('The given number',n,'is between 1 to 100')\n",
    "else:\n",
    "    print('The Given number',n,'is not between 1 to 100')"
   ]
  },
  {
   "cell_type": "code",
   "execution_count": 23,
   "id": "7a670c5b-6721-4fe2-9ee4-84fa1e0bc81b",
   "metadata": {},
   "outputs": [
    {
     "name": "stdin",
     "output_type": "stream",
     "text": [
      "Enter First Number 101\n"
     ]
    },
    {
     "name": "stdout",
     "output_type": "stream",
     "text": [
      "The Given number 101 is not between 1 to 100\n"
     ]
    }
   ],
   "source": [
    "n = int(input('Enter First Number'))\n",
    "if n>=1 and n<=100:\n",
    "    print('The given number',n,'is between 1 to 100')\n",
    "else:\n",
    "    print('The Given number',n,'is not between 1 to 100')"
   ]
  },
  {
   "cell_type": "code",
   "execution_count": 26,
   "id": "af88ecc4-8879-408d-a55e-9c85f07ae52f",
   "metadata": {},
   "outputs": [
    {
     "data": {
      "text/plain": [
       "(4, 5, 6, 7)"
      ]
     },
     "execution_count": 26,
     "metadata": {},
     "output_type": "execute_result"
    }
   ],
   "source": [
    "t = (1,2,3,4,5,6,7,8)\n",
    "t[3:-1]"
   ]
  },
  {
   "cell_type": "code",
   "execution_count": null,
   "id": "bd053d17-f6a0-4165-aa84-89396db8f29a",
   "metadata": {},
   "outputs": [],
   "source": []
  }
 ],
 "metadata": {
  "kernelspec": {
   "display_name": "Python 3 (ipykernel)",
   "language": "python",
   "name": "python3"
  },
  "language_info": {
   "codemirror_mode": {
    "name": "ipython",
    "version": 3
   },
   "file_extension": ".py",
   "mimetype": "text/x-python",
   "name": "python",
   "nbconvert_exporter": "python",
   "pygments_lexer": "ipython3",
   "version": "3.12.7"
  }
 },
 "nbformat": 4,
 "nbformat_minor": 5
}
