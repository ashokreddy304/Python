{
 "cells": [
  {
   "cell_type": "markdown",
   "id": "ca48820f-f841-46e2-9d16-4a99acd69ce7",
   "metadata": {},
   "source": [
    "### Type casting means converting one data type into another"
   ]
  },
  {
   "cell_type": "markdown",
   "id": "be93255e-c1dc-4fb1-92b3-efe19f263576",
   "metadata": {},
   "source": [
    "## converting other types to int\n",
    "#### We can convert any type into another type except complex types.\n",
    "#### If we want to convert str () to int (). str should represent only an integral value and should be specified in decimal form."
   ]
  },
  {
   "cell_type": "code",
   "execution_count": 2,
   "id": "d74a4316-1f16-4444-87d4-1f152189b776",
   "metadata": {},
   "outputs": [
    {
     "name": "stdout",
     "output_type": "stream",
     "text": [
      "10\n"
     ]
    },
    {
     "ename": "TypeError",
     "evalue": "int() argument must be a string, a bytes-like object or a real number, not 'complex'",
     "output_type": "error",
     "traceback": [
      "\u001b[1;31m---------------------------------------------------------------------------\u001b[0m",
      "\u001b[1;31mTypeError\u001b[0m                                 Traceback (most recent call last)",
      "Cell \u001b[1;32mIn[2], line 2\u001b[0m\n\u001b[0;32m      1\u001b[0m \u001b[38;5;28mprint\u001b[39m(\u001b[38;5;28mint\u001b[39m(\u001b[38;5;241m10.5\u001b[39m))\n\u001b[1;32m----> 2\u001b[0m \u001b[38;5;28mprint\u001b[39m(\u001b[38;5;28mint\u001b[39m(\u001b[38;5;241m10\u001b[39m\u001b[38;5;241m+\u001b[39m\u001b[38;5;241m20\u001b[39mj))\n\u001b[0;32m      3\u001b[0m \u001b[38;5;28mprint\u001b[39m(\u001b[38;5;28mint\u001b[39m(\u001b[38;5;28;01mTrue\u001b[39;00m))\n",
      "\u001b[1;31mTypeError\u001b[0m: int() argument must be a string, a bytes-like object or a real number, not 'complex'"
     ]
    }
   ],
   "source": [
    "print(int(10.5))\n",
    "print(int(10+20j))\n",
    "print(int(True))"
   ]
  },
  {
   "cell_type": "code",
   "execution_count": 3,
   "id": "51b745dc-8037-4196-ab6c-2930d7a11026",
   "metadata": {},
   "outputs": [
    {
     "name": "stdout",
     "output_type": "stream",
     "text": [
      "1\n"
     ]
    }
   ],
   "source": [
    "print(int(True))"
   ]
  },
  {
   "cell_type": "code",
   "execution_count": 5,
   "id": "5bcc7949-4d06-44a0-bad8-adeb9861a1df",
   "metadata": {},
   "outputs": [
    {
     "name": "stdout",
     "output_type": "stream",
     "text": [
      "0\n",
      "100\n"
     ]
    }
   ],
   "source": [
    "print(int(False))\n",
    "print(int('100'))"
   ]
  },
  {
   "cell_type": "code",
   "execution_count": 6,
   "id": "0830e220-97da-45f3-a181-a5d51642d3a1",
   "metadata": {},
   "outputs": [
    {
     "ename": "ValueError",
     "evalue": "invalid literal for int() with base 10: '10.5'",
     "output_type": "error",
     "traceback": [
      "\u001b[1;31m---------------------------------------------------------------------------\u001b[0m",
      "\u001b[1;31mValueError\u001b[0m                                Traceback (most recent call last)",
      "Cell \u001b[1;32mIn[6], line 1\u001b[0m\n\u001b[1;32m----> 1\u001b[0m \u001b[38;5;28mprint\u001b[39m(\u001b[38;5;28mint\u001b[39m(\u001b[38;5;124m'\u001b[39m\u001b[38;5;124m10.5\u001b[39m\u001b[38;5;124m'\u001b[39m))\n",
      "\u001b[1;31mValueError\u001b[0m: invalid literal for int() with base 10: '10.5'"
     ]
    }
   ],
   "source": [
    "print(int('10.5'))"
   ]
  },
  {
   "cell_type": "markdown",
   "id": "72ba8bcf-abf9-42c8-86f5-8dc99c46904e",
   "metadata": {},
   "source": [
    "# Converting from other type to Float"
   ]
  },
  {
   "cell_type": "markdown",
   "id": "014ae2e4-c3d1-425a-906e-bbe1a8558a9b",
   "metadata": {},
   "source": [
    "#### 1. We can convert any type of value to a float except a complex type.\n",
    "####  2. Whenever we are trying to convert str type to float type compulsary str should be either integral or floating literal."
   ]
  },
  {
   "cell_type": "code",
   "execution_count": 7,
   "id": "c36fdfa0-1ecc-45c8-994d-b16a16ab40a9",
   "metadata": {},
   "outputs": [
    {
     "data": {
      "text/plain": [
       "10.0"
      ]
     },
     "execution_count": 7,
     "metadata": {},
     "output_type": "execute_result"
    }
   ],
   "source": [
    "float(10)"
   ]
  },
  {
   "cell_type": "code",
   "execution_count": 8,
   "id": "6e404035-1d58-4dbf-a513-d39804c32b58",
   "metadata": {},
   "outputs": [
    {
     "ename": "TypeError",
     "evalue": "float() argument must be a string or a real number, not 'complex'",
     "output_type": "error",
     "traceback": [
      "\u001b[1;31m---------------------------------------------------------------------------\u001b[0m",
      "\u001b[1;31mTypeError\u001b[0m                                 Traceback (most recent call last)",
      "Cell \u001b[1;32mIn[8], line 1\u001b[0m\n\u001b[1;32m----> 1\u001b[0m \u001b[38;5;28mfloat\u001b[39m(\u001b[38;5;241m10\u001b[39m\u001b[38;5;241m+\u001b[39m\u001b[38;5;241m20\u001b[39mj)\n",
      "\u001b[1;31mTypeError\u001b[0m: float() argument must be a string or a real number, not 'complex'"
     ]
    }
   ],
   "source": [
    "float(10+20j)"
   ]
  },
  {
   "cell_type": "code",
   "execution_count": 9,
   "id": "7311783f-569e-4815-91a3-9b06a282f69d",
   "metadata": {},
   "outputs": [
    {
     "data": {
      "text/plain": [
       "1.0"
      ]
     },
     "execution_count": 9,
     "metadata": {},
     "output_type": "execute_result"
    }
   ],
   "source": [
    "float(True)"
   ]
  },
  {
   "cell_type": "code",
   "execution_count": 10,
   "id": "6674ddb8-cdcf-432d-b5f3-5e33ae8cb7f2",
   "metadata": {},
   "outputs": [
    {
     "data": {
      "text/plain": [
       "0.0"
      ]
     },
     "execution_count": 10,
     "metadata": {},
     "output_type": "execute_result"
    }
   ],
   "source": [
    "float(False)"
   ]
  },
  {
   "cell_type": "code",
   "execution_count": 11,
   "id": "5919316e-2d4d-4f46-9173-663c168948d3",
   "metadata": {},
   "outputs": [
    {
     "ename": "ValueError",
     "evalue": "could not convert string to float: 'ten'",
     "output_type": "error",
     "traceback": [
      "\u001b[1;31m---------------------------------------------------------------------------\u001b[0m",
      "\u001b[1;31mValueError\u001b[0m                                Traceback (most recent call last)",
      "Cell \u001b[1;32mIn[11], line 1\u001b[0m\n\u001b[1;32m----> 1\u001b[0m \u001b[38;5;28mfloat\u001b[39m(\u001b[38;5;124m'\u001b[39m\u001b[38;5;124mten\u001b[39m\u001b[38;5;124m'\u001b[39m)\n",
      "\u001b[1;31mValueError\u001b[0m: could not convert string to float: 'ten'"
     ]
    }
   ],
   "source": [
    "float('ten')"
   ]
  },
  {
   "cell_type": "code",
   "execution_count": 12,
   "id": "d274818d-57f4-41df-9f7f-480213a8080e",
   "metadata": {},
   "outputs": [
    {
     "data": {
      "text/plain": [
       "10.0"
      ]
     },
     "execution_count": 12,
     "metadata": {},
     "output_type": "execute_result"
    }
   ],
   "source": [
    "float('10')"
   ]
  },
  {
   "cell_type": "markdown",
   "id": "7548da67-d5ee-4fd5-a944-ae5a1c53e18c",
   "metadata": {},
   "source": [
    "# Convert other types to complex type\n",
    "\n",
    "#### comlex(x,y)\n",
    "#### x = real part\n",
    "#### y = imaginary part\n",
    "#### complex will accept only two parameters "
   ]
  },
  {
   "cell_type": "code",
   "execution_count": 13,
   "id": "684ae88c-0f10-4b73-ab88-7703c33e96e6",
   "metadata": {},
   "outputs": [
    {
     "name": "stdout",
     "output_type": "stream",
     "text": [
      "(10+0j)\n",
      "(10.5+0j)\n",
      "(1+0j)\n",
      "0j\n",
      "(10+0j)\n",
      "(10.5+0j)\n"
     ]
    }
   ],
   "source": [
    "print(complex(10))\n",
    "print(complex(10.5))\n",
    "print(complex(True))\n",
    "print(complex(False))\n",
    "print(complex('10'))\n",
    "print(complex('10.5'))"
   ]
  },
  {
   "cell_type": "code",
   "execution_count": 14,
   "id": "fa50d9e5-bc64-473a-adc6-0b0f1eab6f1e",
   "metadata": {},
   "outputs": [
    {
     "ename": "ValueError",
     "evalue": "complex() arg is a malformed string",
     "output_type": "error",
     "traceback": [
      "\u001b[1;31m---------------------------------------------------------------------------\u001b[0m",
      "\u001b[1;31mValueError\u001b[0m                                Traceback (most recent call last)",
      "Cell \u001b[1;32mIn[14], line 1\u001b[0m\n\u001b[1;32m----> 1\u001b[0m \u001b[38;5;28mprint\u001b[39m(\u001b[38;5;28mcomplex\u001b[39m(\u001b[38;5;124m'\u001b[39m\u001b[38;5;124mten\u001b[39m\u001b[38;5;124m'\u001b[39m))\n",
      "\u001b[1;31mValueError\u001b[0m: complex() arg is a malformed string"
     ]
    }
   ],
   "source": [
    "print(complex('ten'))"
   ]
  },
  {
   "cell_type": "markdown",
   "id": "f0b2ad4e-479e-47b8-837f-f332137baa30",
   "metadata": {},
   "source": [
    "# Convert other types to bool"
   ]
  },
  {
   "cell_type": "markdown",
   "id": "d1ac3a31-88dc-46f4-8d1f-12335e5ad9de",
   "metadata": {},
   "source": [
    "### if x is in data type\n",
    "#### Zero (0) means False\n",
    "#### Non-zero (Any Number) is True"
   ]
  },
  {
   "cell_type": "code",
   "execution_count": 15,
   "id": "219a7916-18f3-4ea9-8095-9aedbf4dbfb1",
   "metadata": {},
   "outputs": [
    {
     "data": {
      "text/plain": [
       "False"
      ]
     },
     "execution_count": 15,
     "metadata": {},
     "output_type": "execute_result"
    }
   ],
   "source": [
    "bool(0)"
   ]
  },
  {
   "cell_type": "code",
   "execution_count": 17,
   "id": "77fd1e76-1739-4a77-94f3-0394b9bdcaea",
   "metadata": {},
   "outputs": [
    {
     "data": {
      "text/plain": [
       "True"
      ]
     },
     "execution_count": 17,
     "metadata": {},
     "output_type": "execute_result"
    }
   ],
   "source": [
    "bool(1)"
   ]
  },
  {
   "cell_type": "markdown",
   "id": "114f4789-cbae-4ffe-a23d-ea0bb347dfda",
   "metadata": {},
   "source": [
    "### if x is a float data type\n",
    "#### If the total number value is zero, then the result is False; otherwise True"
   ]
  },
  {
   "cell_type": "code",
   "execution_count": 18,
   "id": "9391204e-ee61-4f88-a584-cc1d63b6daa0",
   "metadata": {},
   "outputs": [
    {
     "data": {
      "text/plain": [
       "True"
      ]
     },
     "execution_count": 18,
     "metadata": {},
     "output_type": "execute_result"
    }
   ],
   "source": [
    "bool(1.0)"
   ]
  },
  {
   "cell_type": "code",
   "execution_count": 19,
   "id": "754d4370-1e54-4dbc-8c9a-89dfc564583e",
   "metadata": {},
   "outputs": [
    {
     "data": {
      "text/plain": [
       "False"
      ]
     },
     "execution_count": 19,
     "metadata": {},
     "output_type": "execute_result"
    }
   ],
   "source": [
    "bool(0.0)"
   ]
  },
  {
   "cell_type": "markdown",
   "id": "574b14df-9577-4a91-b057-61f5d9ea9397",
   "metadata": {},
   "source": [
    "### if x is a complex data type.\n",
    "##### if both real and imaginary parts are zero then the result is false otherise result is True"
   ]
  },
  {
   "cell_type": "code",
   "execution_count": 20,
   "id": "a4a972ad-6c66-4e53-8b3d-5cf2855fe43c",
   "metadata": {},
   "outputs": [
    {
     "name": "stdout",
     "output_type": "stream",
     "text": [
      "False\n",
      "True\n",
      "True\n",
      "True\n"
     ]
    }
   ],
   "source": [
    "print(bool(0+0j))\n",
    "print(bool(1+20j))\n",
    "print(bool(0+20j))\n",
    "print(bool(1+0j))"
   ]
  },
  {
   "cell_type": "markdown",
   "id": "42e0d52b-a71b-41cd-acdb-64ba825c789b",
   "metadata": {},
   "source": [
    "# Convert other type values to str type"
   ]
  },
  {
   "cell_type": "code",
   "execution_count": 1,
   "id": "7beeb7cb-aa96-4d18-a4bd-f3a61a04dbfc",
   "metadata": {},
   "outputs": [
    {
     "name": "stdout",
     "output_type": "stream",
     "text": [
      "10\n",
      "10.5\n",
      "(10+9j)\n",
      "True\n",
      "False\n"
     ]
    }
   ],
   "source": [
    "print(str(10))\n",
    "print(str(10.5))\n",
    "print(str(10+9j))\n",
    "print(str(True))\n",
    "print(str(False))"
   ]
  },
  {
   "cell_type": "code",
   "execution_count": null,
   "id": "75f55184-d425-42b7-a940-55ef4f6e12c3",
   "metadata": {},
   "outputs": [],
   "source": []
  }
 ],
 "metadata": {
  "kernelspec": {
   "display_name": "Python 3 (ipykernel)",
   "language": "python",
   "name": "python3"
  },
  "language_info": {
   "codemirror_mode": {
    "name": "ipython",
    "version": 3
   },
   "file_extension": ".py",
   "mimetype": "text/x-python",
   "name": "python",
   "nbconvert_exporter": "python",
   "pygments_lexer": "ipython3",
   "version": "3.12.7"
  }
 },
 "nbformat": 4,
 "nbformat_minor": 5
}
