{
 "cells": [
  {
   "cell_type": "markdown",
   "id": "cf73293a-7a26-4cc3-9817-a248a7df6639",
   "metadata": {},
   "source": [
    "# set "
   ]
  },
  {
   "cell_type": "markdown",
   "id": "c74f91c6-ec90-4a6a-9bf1-9a3507835cd3",
   "metadata": {},
   "source": [
    "#### 1. If we want to represent a group of unique values in a single unit, then we should go for a set.\n",
    "#### 2. Duplicate elements are allowed.\n",
    "#### 3. Insertion order is not preserved.\n",
    "#### 4. indexing and slicing are not allowed.\n",
    "#### 5. Heterogeneous elements are permitted.\n",
    "#### 6. Set objects are mutable.\n",
    "#### 7. We can represent a set in curly braces with a comma separator."
   ]
  },
  {
   "cell_type": "markdown",
   "id": "95f65686-928e-4963-aaa0-95d6c343a2d8",
   "metadata": {},
   "source": [
    "## Creation of set Objects"
   ]
  },
  {
   "cell_type": "code",
   "execution_count": 11,
   "id": "c73b9c60-bc57-417b-b7a6-6e7eee6a0189",
   "metadata": {},
   "outputs": [
    {
     "name": "stdout",
     "output_type": "stream",
     "text": [
      "{40, 10, 20, 30}\n",
      "<class 'set'>\n"
     ]
    }
   ],
   "source": [
    "s = {10,20,30,40}\n",
    "print(s)\n",
    "print(type(s))"
   ]
  },
  {
   "cell_type": "markdown",
   "id": "db287bbd-18c2-48b3-96de-40d5bb7368a9",
   "metadata": {},
   "source": [
    "## We can create set object using set ( ) function s = set(any sequence)"
   ]
  },
  {
   "cell_type": "code",
   "execution_count": 12,
   "id": "eb51f7b2-fdd6-47e3-8d03-cc6a60cedccc",
   "metadata": {},
   "outputs": [
    {
     "name": "stdout",
     "output_type": "stream",
     "text": [
      "{40, 10, 50, 20, 60, 30}\n"
     ]
    }
   ],
   "source": [
    "l = [10,20,30,40,50,60]\n",
    "s = set(l)\n",
    "print(s)"
   ]
  },
  {
   "cell_type": "code",
   "execution_count": 13,
   "id": "715453e6-32b5-4e2e-8383-1fe4e5a6f41a",
   "metadata": {},
   "outputs": [
    {
     "name": "stdout",
     "output_type": "stream",
     "text": [
      "{0, 1, 2, 3, 4}\n"
     ]
    }
   ],
   "source": [
    "s = set(range(5))\n",
    "print(s)"
   ]
  },
  {
   "cell_type": "markdown",
   "id": "090f0a54-5484-40e4-8188-6bb66aae59f1",
   "metadata": {},
   "source": [
    "## Note\n",
    "#### While creating an empty set, we have to take special care.\n",
    "#### Compulsory We should use set( ) function.\n",
    "#### s = { } -> It is treated as dictionary but not empty set."
   ]
  },
  {
   "cell_type": "code",
   "execution_count": 14,
   "id": "ea5eaca3-af9b-4973-a5cd-1efaa56dfbec",
   "metadata": {},
   "outputs": [
    {
     "name": "stdout",
     "output_type": "stream",
     "text": [
      "{}\n",
      "<class 'dict'>\n"
     ]
    }
   ],
   "source": [
    "s = {}\n",
    "print(s)\n",
    "print(type(s))"
   ]
  },
  {
   "cell_type": "code",
   "execution_count": 15,
   "id": "b880c595-c863-4ca3-89df-5f685a5c7bcd",
   "metadata": {},
   "outputs": [
    {
     "name": "stdout",
     "output_type": "stream",
     "text": [
      "set()\n",
      "<class 'set'>\n"
     ]
    }
   ],
   "source": [
    "s = set()\n",
    "print(s)\n",
    "print(type(s))"
   ]
  },
  {
   "cell_type": "markdown",
   "id": "21c7eb14-34a1-4a09-9208-f09522b65726",
   "metadata": {},
   "source": [
    "# Important functions of set"
   ]
  },
  {
   "cell_type": "markdown",
   "id": "d649c588-d5ba-4a9e-b0fc-d3ed8d2b9d63",
   "metadata": {},
   "source": [
    "### 1. add() \n",
    "#### -> To add item x to the set\n",
    "#### -> add() function takes only one argument.\n",
    "#### -> s.add(x)"
   ]
  },
  {
   "cell_type": "code",
   "execution_count": 17,
   "id": "f48f044c-106b-4291-992a-06c1f80fe2fe",
   "metadata": {},
   "outputs": [
    {
     "data": {
      "text/plain": [
       "{1, 2, 3, 4, 5, 6, 'AI'}"
      ]
     },
     "execution_count": 17,
     "metadata": {},
     "output_type": "execute_result"
    }
   ],
   "source": [
    "s = {1,2,3,4,5,6}\n",
    "s.add('AI')\n",
    "s"
   ]
  },
  {
   "cell_type": "code",
   "execution_count": 18,
   "id": "00c5f915-92dc-4642-8334-ab932ea497c1",
   "metadata": {},
   "outputs": [
    {
     "ename": "TypeError",
     "evalue": "set.add() takes exactly one argument (2 given)",
     "output_type": "error",
     "traceback": [
      "\u001b[1;31m---------------------------------------------------------------------------\u001b[0m",
      "\u001b[1;31mTypeError\u001b[0m                                 Traceback (most recent call last)",
      "Cell \u001b[1;32mIn[18], line 2\u001b[0m\n\u001b[0;32m      1\u001b[0m s \u001b[38;5;241m=\u001b[39m {\u001b[38;5;241m1\u001b[39m,\u001b[38;5;241m2\u001b[39m,\u001b[38;5;241m3\u001b[39m,\u001b[38;5;241m4\u001b[39m,\u001b[38;5;241m5\u001b[39m,\u001b[38;5;241m6\u001b[39m}\n\u001b[1;32m----> 2\u001b[0m s\u001b[38;5;241m.\u001b[39madd(\u001b[38;5;124m'\u001b[39m\u001b[38;5;124mAI\u001b[39m\u001b[38;5;124m'\u001b[39m,\u001b[38;5;241m2\u001b[39m)\n\u001b[0;32m      3\u001b[0m s\n",
      "\u001b[1;31mTypeError\u001b[0m: set.add() takes exactly one argument (2 given)"
     ]
    }
   ],
   "source": [
    "s = {1,2,3,4,5,6}\n",
    "s.add('AI',2)\n",
    "s"
   ]
  },
  {
   "cell_type": "markdown",
   "id": "f3c1f087-515f-444b-84ed-4649af97d27a",
   "metadata": {},
   "source": [
    "## 2.update(x,y,z)"
   ]
  },
  {
   "cell_type": "markdown",
   "id": "a53ed80c-856e-46ec-8f5c-1c6e98bf5434",
   "metadata": {},
   "source": [
    "##### -> To add multiple items to the set\n",
    "##### -> Arguments are not individual elements, and these are iterable objects like List, range, etc\n",
    "##### -> All elements present in the given Iterable objects will be added to the set."
   ]
  },
  {
   "cell_type": "code",
   "execution_count": 22,
   "id": "e11c13b0-b461-4857-b43b-35b05bda71a3",
   "metadata": {},
   "outputs": [
    {
     "data": {
      "text/plain": [
       "{1, 10, 2, 20, 3, 30, 4, 5, 6, 90, 91, 92, 93, 94, 'a', 'b', 'c'}"
      ]
     },
     "execution_count": 22,
     "metadata": {},
     "output_type": "execute_result"
    }
   ],
   "source": [
    "s = {10,20,30}\n",
    "l = [1,2,3,4,5,6]\n",
    "t = ('a','b','c')\n",
    "s.update(l,range(90,95),t)\n",
    "s"
   ]
  },
  {
   "cell_type": "markdown",
   "id": "879d7855-8568-4ee0-945f-7991dcc3ea5d",
   "metadata": {},
   "source": [
    "## What is the difference between add() and update()\n",
    "##### 1. We can use add( ) to add an individual item to the set, whereas we can use the update () function to add multiple items to the set.\n",
    "##### 2. The add () function takes only a single argument, and the update function takes multiple items."
   ]
  },
  {
   "cell_type": "markdown",
   "id": "4855fd92-7f29-4d24-97b8-079418115f77",
   "metadata": {},
   "source": [
    "## 3. copy()\n",
    "#### -> Returns a copy of the set.\n",
    "#### -> It is a cloned object, which means once we make any changes copy objects, those changes will not affect the original object."
   ]
  },
  {
   "cell_type": "code",
   "execution_count": 26,
   "id": "74e37625-5892-44a4-b1c1-5b3e92015db4",
   "metadata": {},
   "outputs": [
    {
     "data": {
      "text/plain": [
       "{1, 2, 3, 4, 5, 6, 7, 20, 23, 26, 29}"
      ]
     },
     "execution_count": 26,
     "metadata": {},
     "output_type": "execute_result"
    }
   ],
   "source": [
    "l = [1,2,3,4]\n",
    "s = {5,6,7}\n",
    "s.update(l,range(20,30,3))\n",
    "s"
   ]
  },
  {
   "cell_type": "code",
   "execution_count": 28,
   "id": "1569a9e9-381c-490f-bd5c-ef117ed3c7a8",
   "metadata": {},
   "outputs": [
    {
     "data": {
      "text/plain": [
       "{1, 2, 3, 4, 5, 6, 7, 20, 23, 26, 29}"
      ]
     },
     "execution_count": 28,
     "metadata": {},
     "output_type": "execute_result"
    }
   ],
   "source": [
    "s2 = s.copy()\n",
    "s2"
   ]
  },
  {
   "cell_type": "markdown",
   "id": "d1d403c5-5988-4b05-a036-17755c41e9bd",
   "metadata": {},
   "source": [
    "## 4.pop()\n",
    "#### It removes and returns some random element from the set.\n",
    "#### If we pass any arguments to pop() in a set, we will get an error, unlike in a list, where it accepts an index."
   ]
  },
  {
   "cell_type": "code",
   "execution_count": 29,
   "id": "a0e2e80d-9ea1-42b2-8ca3-21379c118fff",
   "metadata": {},
   "outputs": [
    {
     "data": {
      "text/plain": [
       "50"
      ]
     },
     "execution_count": 29,
     "metadata": {},
     "output_type": "execute_result"
    }
   ],
   "source": [
    "s = {10,20,30,40,50,60,70}\n",
    "s.pop()"
   ]
  },
  {
   "cell_type": "code",
   "execution_count": 33,
   "id": "d71bb0c9-5a85-43cd-8b86-7ca128e719dd",
   "metadata": {},
   "outputs": [
    {
     "data": {
      "text/plain": [
       "20"
      ]
     },
     "execution_count": 33,
     "metadata": {},
     "output_type": "execute_result"
    }
   ],
   "source": [
    "s = {10,20,30,40,60}\n",
    "s.pop()"
   ]
  },
  {
   "cell_type": "code",
   "execution_count": 35,
   "id": "560a340b-46e4-4997-aa68-78ef68854a13",
   "metadata": {},
   "outputs": [
    {
     "data": {
      "text/plain": [
       "70"
      ]
     },
     "execution_count": 35,
     "metadata": {},
     "output_type": "execute_result"
    }
   ],
   "source": [
    "s = {10,30,40,60,70}\n",
    "s.pop()"
   ]
  },
  {
   "cell_type": "code",
   "execution_count": 36,
   "id": "d394225c-190c-46ae-acac-bfc7fbba6383",
   "metadata": {},
   "outputs": [
    {
     "ename": "TypeError",
     "evalue": "set.pop() takes no arguments (1 given)",
     "output_type": "error",
     "traceback": [
      "\u001b[1;31m---------------------------------------------------------------------------\u001b[0m",
      "\u001b[1;31mTypeError\u001b[0m                                 Traceback (most recent call last)",
      "Cell \u001b[1;32mIn[36], line 1\u001b[0m\n\u001b[1;32m----> 1\u001b[0m s\u001b[38;5;241m.\u001b[39mpop(\u001b[38;5;241m10\u001b[39m)\n",
      "\u001b[1;31mTypeError\u001b[0m: set.pop() takes no arguments (1 given)"
     ]
    }
   ],
   "source": [
    "s.pop(10)"
   ]
  },
  {
   "cell_type": "markdown",
   "id": "2b0c6398-ba08-498c-8941-62f9fdd26a99",
   "metadata": {},
   "source": [
    "## 5.remove()\n",
    "##### It removes the specified element from the set.\n",
    "##### If the specified element is not present in the list, then we will get KeyError"
   ]
  },
  {
   "cell_type": "code",
   "execution_count": 37,
   "id": "2b42ff47-080b-4791-a016-db71747df946",
   "metadata": {},
   "outputs": [
    {
     "data": {
      "text/plain": [
       "{20, 30, 40, 50}"
      ]
     },
     "execution_count": 37,
     "metadata": {},
     "output_type": "execute_result"
    }
   ],
   "source": [
    "s = {10,20,30,40,50}\n",
    "s.remove(10)\n",
    "s"
   ]
  },
  {
   "cell_type": "code",
   "execution_count": 38,
   "id": "11e6df18-e20a-4378-ac60-7488deb0356f",
   "metadata": {},
   "outputs": [
    {
     "ename": "KeyError",
     "evalue": "60",
     "output_type": "error",
     "traceback": [
      "\u001b[1;31m---------------------------------------------------------------------------\u001b[0m",
      "\u001b[1;31mKeyError\u001b[0m                                  Traceback (most recent call last)",
      "Cell \u001b[1;32mIn[38], line 1\u001b[0m\n\u001b[1;32m----> 1\u001b[0m s\u001b[38;5;241m.\u001b[39mremove(\u001b[38;5;241m60\u001b[39m)\n",
      "\u001b[1;31mKeyError\u001b[0m: 60"
     ]
    }
   ],
   "source": [
    "s.remove(60)"
   ]
  },
  {
   "cell_type": "markdown",
   "id": "7f8a8c13-bc52-445b-a2b8-0a3dadcb9d3e",
   "metadata": {},
   "source": [
    "## 6.discard(x)\n",
    "##### It removes the specified element from the set.\n",
    "##### If the specified element is not present in the set, then we won't get any error."
   ]
  },
  {
   "cell_type": "code",
   "execution_count": 39,
   "id": "3564f9b4-d001-4d7d-ba74-a81dc009be4d",
   "metadata": {},
   "outputs": [
    {
     "data": {
      "text/plain": [
       "{1, 3, 4, 5, 6, 7, 8, 9}"
      ]
     },
     "execution_count": 39,
     "metadata": {},
     "output_type": "execute_result"
    }
   ],
   "source": [
    "s = {1,2,3,4,5,6,7,8,9}\n",
    "s.discard(2)\n",
    "s"
   ]
  },
  {
   "cell_type": "code",
   "execution_count": 40,
   "id": "c92e6e4b-12cc-452d-9dd2-7c7c3b92fcaa",
   "metadata": {},
   "outputs": [
    {
     "data": {
      "text/plain": [
       "{1, 3, 5, 6, 7, 8, 9}"
      ]
     },
     "execution_count": 40,
     "metadata": {},
     "output_type": "execute_result"
    }
   ],
   "source": [
    "s.discard(4)\n",
    "s"
   ]
  },
  {
   "cell_type": "markdown",
   "id": "071f99a4-ea6b-440e-96b9-0c06984b5707",
   "metadata": {},
   "source": [
    "## 7.clear()\n",
    "#### -> To Remove all elements from the set"
   ]
  },
  {
   "cell_type": "code",
   "execution_count": 43,
   "id": "809e6ba1-f112-4011-8622-834a496d410e",
   "metadata": {},
   "outputs": [
    {
     "data": {
      "text/plain": [
       "set()"
      ]
     },
     "execution_count": 43,
     "metadata": {},
     "output_type": "execute_result"
    }
   ],
   "source": [
    "s = {10,20,30,40,50}\n",
    "s.clear()\n",
    "s"
   ]
  },
  {
   "cell_type": "markdown",
   "id": "53e13e34-6fc1-41e4-a156-12f97fa98b89",
   "metadata": {},
   "source": [
    "# Explain the differences between pop(), remove(), discard() functions?"
   ]
  },
  {
   "cell_type": "markdown",
   "id": "9950651a-7b2b-4945-8ef7-9c725f3c6f87",
   "metadata": {},
   "source": [
    "## pop()\n",
    "##### Purpose: Removes and returns a random (arbitrary) element from the set.\n",
    "##### Syntax: set.pop()\n",
    "##### Cannot take any arguments.\n",
    "##### If the set is empty, it raises a KeyError.\n",
    "\n",
    "## remove()\n",
    "##### Purpose: Removes the specified element from the set.\n",
    "##### Syntax: set.remove(element)\n",
    "##### If the element is not found, it raises a KeyError.\n",
    "\n",
    "## discard()\n",
    "##### Purpose: Removes the specified element from the set.\n",
    "##### Syntax: set.discard(element)\n",
    "##### If the element is not found, it does nothing (no error)."
   ]
  },
  {
   "cell_type": "markdown",
   "id": "d0fc2560-2471-4268-b1c9-a26064e21e8a",
   "metadata": {},
   "source": [
    "# Mathematical Operations on the set."
   ]
  },
  {
   "cell_type": "markdown",
   "id": "6a5cc3c9-680c-4d97-b803-c7ac8f052edb",
   "metadata": {},
   "source": [
    "## 1.Union():\n",
    "#### -> s1.union(s2). We can use this function to return all elements present in both sets.\n",
    "#### -> s1.union(s2)\n",
    "#### -> s1 | s2"
   ]
  },
  {
   "cell_type": "code",
   "execution_count": 45,
   "id": "adee07b9-8b45-4707-9781-19ab29740e3f",
   "metadata": {},
   "outputs": [
    {
     "data": {
      "text/plain": [
       "{10, 20, 30, 40, 50, 60}"
      ]
     },
     "execution_count": 45,
     "metadata": {},
     "output_type": "execute_result"
    }
   ],
   "source": [
    "s1 = {10,20,30,40}\n",
    "s2 = {30,40,50,60}\n",
    "s1 | s2"
   ]
  },
  {
   "cell_type": "code",
   "execution_count": 42,
   "id": "8cf55ee7-cb96-4d93-809e-261f458baacd",
   "metadata": {},
   "outputs": [
    {
     "data": {
      "text/plain": [
       "{10, 20, 30, 40, 50, 60}"
      ]
     },
     "execution_count": 42,
     "metadata": {},
     "output_type": "execute_result"
    }
   ],
   "source": [
    "s1.union(s2)"
   ]
  },
  {
   "cell_type": "markdown",
   "id": "7120f3b6-6e79-40f0-affa-b57f5153cd4f",
   "metadata": {},
   "source": [
    "## 2.intersection():\n",
    "#### -> s1.intersection(s2). We can use this function to return common elements present in both s1 and s2.\n",
    "#### -> s1.intersection(s2)\n",
    "#### -> s1 & s2"
   ]
  },
  {
   "cell_type": "code",
   "execution_count": 47,
   "id": "dceffb09-31cb-4bef-afd0-4e48fb29679a",
   "metadata": {},
   "outputs": [
    {
     "data": {
      "text/plain": [
       "{30, 40}"
      ]
     },
     "execution_count": 47,
     "metadata": {},
     "output_type": "execute_result"
    }
   ],
   "source": [
    "s1.intersection(s2)"
   ]
  },
  {
   "cell_type": "code",
   "execution_count": 49,
   "id": "a200b50a-5e35-4844-979f-d01c646d011b",
   "metadata": {},
   "outputs": [
    {
     "data": {
      "text/plain": [
       "{30, 40}"
      ]
     },
     "execution_count": 49,
     "metadata": {},
     "output_type": "execute_result"
    }
   ],
   "source": [
    "s1 & s2"
   ]
  },
  {
   "cell_type": "markdown",
   "id": "5011d8d5-9b36-498e-bd1f-f2baa4c1c1d0",
   "metadata": {},
   "source": [
    "## 3.difference():\n",
    "#### -> s1.difference(s2). We can use this function to return the elements in s1 but not in s2\n",
    "#### -> s1.difference(s2)\n",
    "#### -> s1 - s2"
   ]
  },
  {
   "cell_type": "code",
   "execution_count": 51,
   "id": "ab2b0153-039c-4968-9f7c-1e066ab49ce7",
   "metadata": {},
   "outputs": [
    {
     "data": {
      "text/plain": [
       "{10, 20}"
      ]
     },
     "execution_count": 51,
     "metadata": {},
     "output_type": "execute_result"
    }
   ],
   "source": [
    "s1 = {10,20,30,40}\n",
    "s2 = {30,40,50,60}\n",
    "s1.difference(s2)"
   ]
  },
  {
   "cell_type": "code",
   "execution_count": 52,
   "id": "b03d8179-fbfa-427f-afad-681a2b5d5e6d",
   "metadata": {},
   "outputs": [
    {
     "data": {
      "text/plain": [
       "{10, 20}"
      ]
     },
     "execution_count": 52,
     "metadata": {},
     "output_type": "execute_result"
    }
   ],
   "source": [
    "s1-s2"
   ]
  },
  {
   "cell_type": "markdown",
   "id": "5f90710c-afad-40d1-b0ca-8b12e06b1b6b",
   "metadata": {},
   "source": [
    "## 4.symmetric_difference():\n",
    "#### -> s1.symmetric_difference(s2). We can use this function to return the elements in either s1 OR s2 but not in both\n",
    "#### -> s1.symmetric_difference(s2)\n",
    "#### -> s1^s2"
   ]
  },
  {
   "cell_type": "code",
   "execution_count": 54,
   "id": "b776168c-69a5-4f59-b840-c1c7ddf05f1d",
   "metadata": {},
   "outputs": [
    {
     "data": {
      "text/plain": [
       "{10, 20, 50, 60}"
      ]
     },
     "execution_count": 54,
     "metadata": {},
     "output_type": "execute_result"
    }
   ],
   "source": [
    "s1 = {10,20,30,40}\n",
    "s2 = {30,40,50,60}\n",
    "s1.symmetric_difference(s2)"
   ]
  },
  {
   "cell_type": "code",
   "execution_count": 55,
   "id": "05880e91-3502-4fc3-922f-09bc9cfe44b9",
   "metadata": {},
   "outputs": [
    {
     "data": {
      "text/plain": [
       "{10, 20, 50, 60}"
      ]
     },
     "execution_count": 55,
     "metadata": {},
     "output_type": "execute_result"
    }
   ],
   "source": [
    "s1^s2"
   ]
  },
  {
   "cell_type": "markdown",
   "id": "e8f39bfe-7a48-4566-b2d5-e09ff5626cfa",
   "metadata": {},
   "source": [
    "## 5.intersection_update():\n",
    "#### -> set1.intersection_update(set2, set3, ...) \n",
    "#### -> Purpose: Keeps only common elements between sets (Intersection operation).\n",
    "#### -> Modifies the original set."
   ]
  },
  {
   "cell_type": "code",
   "execution_count": 65,
   "id": "e66549be-5265-4cc1-8e62-851fd89605c5",
   "metadata": {},
   "outputs": [
    {
     "data": {
      "text/plain": [
       "{3, 4}"
      ]
     },
     "execution_count": 65,
     "metadata": {},
     "output_type": "execute_result"
    }
   ],
   "source": [
    "s1 = {1, 2, 3, 4}\n",
    "s2 = {3, 4, 5}\n",
    "\n",
    "s1.intersection_update(s2)\n",
    "s1"
   ]
  },
  {
   "cell_type": "code",
   "execution_count": 66,
   "id": "b9f31c7b-9059-4770-902e-379b3d8accae",
   "metadata": {},
   "outputs": [
    {
     "data": {
      "text/plain": [
       "{3, 4, 5}"
      ]
     },
     "execution_count": 66,
     "metadata": {},
     "output_type": "execute_result"
    }
   ],
   "source": [
    "s2"
   ]
  },
  {
   "cell_type": "code",
   "execution_count": 67,
   "id": "afca477d-40b3-495d-8fc6-7377ad02879d",
   "metadata": {},
   "outputs": [
    {
     "data": {
      "text/plain": [
       "{3, 4}"
      ]
     },
     "execution_count": 67,
     "metadata": {},
     "output_type": "execute_result"
    }
   ],
   "source": [
    "s2.intersection_update(s1)\n",
    "s2"
   ]
  },
  {
   "cell_type": "code",
   "execution_count": 69,
   "id": "7ebbdc16-a862-46b2-92ec-0df7ec296a5a",
   "metadata": {},
   "outputs": [
    {
     "name": "stdout",
     "output_type": "stream",
     "text": [
      "Common Customers: {'Charlie'}\n"
     ]
    }
   ],
   "source": [
    "# Intersection → Customers who bought from both stores\n",
    "store_a = {\"Alice\", \"Bob\", \"Charlie\"}\n",
    "store_b = {\"Charlie\", \"David\", \"Emma\"}\n",
    "\n",
    "# Intersection → Customers who bought from both stores\n",
    "common_customers = store_a.copy()\n",
    "common_customers.intersection_update(store_b)\n",
    "print(\"Common Customers:\", common_customers)"
   ]
  },
  {
   "cell_type": "markdown",
   "id": "3f4e68d9-eaf8-437f-b6c4-d60edf986567",
   "metadata": {},
   "source": [
    "## 6.difference_update():\n",
    "#### -> set1.difference_update(set2, set3, ...)\n",
    "#### -> Purpose: Removes elements found in another set from the current set (Difference operation).\n",
    "#### -> Modifies the original set."
   ]
  },
  {
   "cell_type": "code",
   "execution_count": 70,
   "id": "8bb21145-0ac3-4746-a01c-42aad776f83c",
   "metadata": {},
   "outputs": [
    {
     "data": {
      "text/plain": [
       "{1, 2}"
      ]
     },
     "execution_count": 70,
     "metadata": {},
     "output_type": "execute_result"
    }
   ],
   "source": [
    "s1 = {1, 2, 3, 4}\n",
    "s2 = {3, 4, 5}\n",
    "\n",
    "s1.difference_update(s2)\n",
    "s1 # Removes elements {3, 4} from a"
   ]
  },
  {
   "cell_type": "code",
   "execution_count": 72,
   "id": "575d8d3f-59ac-4ed1-a2d2-ff7787343f01",
   "metadata": {},
   "outputs": [
    {
     "name": "stdout",
     "output_type": "stream",
     "text": [
      "Only Store A: {'Alice', 'Bob'}\n"
     ]
    }
   ],
   "source": [
    "# Difference → Customers who bought only from Store A\n",
    "store_a = {\"Alice\", \"Bob\", \"Charlie\"}\n",
    "store_b = {\"Charlie\", \"David\", \"Emma\"}\n",
    "\n",
    "only_store_a = store_a.copy()\n",
    "only_store_a.difference_update(store_b)\n",
    "\n",
    "print(\"Only Store A:\", only_store_a)"
   ]
  },
  {
   "cell_type": "markdown",
   "id": "9534250f-cc14-4870-a648-34b3ad58b082",
   "metadata": {},
   "source": [
    "## 7.symmetric_difference_update():\n",
    "#### -> set1.symmetric_difference_update(set2)\n",
    "#### -> Purpose: Keeps only elements that are in either set, but not in both (symmetric difference).\n",
    "#### -> Modifies the original set."
   ]
  },
  {
   "cell_type": "code",
   "execution_count": 73,
   "id": "23b500b5-de50-4565-a438-ffc57b20aaa6",
   "metadata": {},
   "outputs": [
    {
     "name": "stdout",
     "output_type": "stream",
     "text": [
      "{1, 2, 3, 6, 7, 8}\n"
     ]
    }
   ],
   "source": [
    "s1 = {1, 2, 3}\n",
    "s2 = {3, 4, 5}\n",
    "\n",
    "a.symmetric_difference_update(b)\n",
    "print(a) #  Removes common elements (3) and keeps unique ones from both sets."
   ]
  },
  {
   "cell_type": "code",
   "execution_count": 75,
   "id": "55bd387e-78f9-4b94-8555-a40722756dd2",
   "metadata": {},
   "outputs": [
    {
     "name": "stdout",
     "output_type": "stream",
     "text": [
      "Unique to One Store: {'Bob', 'Alice', 'David', 'Emma'}\n"
     ]
    }
   ],
   "source": [
    "store_a = {\"Alice\", \"Bob\", \"Charlie\"}\n",
    "store_b = {\"Charlie\", \"David\", \"Emma\"}\n",
    "# Symmetric Difference → Customers who bought from only one store\n",
    "unique_customers = store_a.copy()\n",
    "unique_customers.symmetric_difference_update(store_b)\n",
    "print(\"Unique to One Store:\", unique_customers)"
   ]
  },
  {
   "cell_type": "markdown",
   "id": "df980b7e-4444-45f7-8a3d-0c04f75bad8c",
   "metadata": {},
   "source": [
    "# set comparison methods"
   ]
  },
  {
   "cell_type": "markdown",
   "id": "590203b8-1aaa-4b66-b311-f305772641ca",
   "metadata": {},
   "source": [
    "## isdisjoint()\n",
    "#### -> Checks if two sets have no elements in common.\n",
    "#### -> Returns True if they are completely separate.\n",
    "#### -> Returns False if they share even one element"
   ]
  },
  {
   "cell_type": "code",
   "execution_count": 76,
   "id": "2ebec0de-39be-42aa-8a8f-3d84e036be0a",
   "metadata": {},
   "outputs": [
    {
     "data": {
      "text/plain": [
       "True"
      ]
     },
     "execution_count": 76,
     "metadata": {},
     "output_type": "execute_result"
    }
   ],
   "source": [
    "s1 = {1,2,3,4}\n",
    "s2 = {5,6,7,8}\n",
    "s1.isdisjoint(s2)"
   ]
  },
  {
   "cell_type": "code",
   "execution_count": 77,
   "id": "add9b6dd-07be-4749-988f-f55e3614a603",
   "metadata": {},
   "outputs": [
    {
     "data": {
      "text/plain": [
       "False"
      ]
     },
     "execution_count": 77,
     "metadata": {},
     "output_type": "execute_result"
    }
   ],
   "source": [
    "s1 = {1,2,3,4}\n",
    "s2 = {4,5,6,7,8}\n",
    "s1.isdisjoint(s2)"
   ]
  },
  {
   "cell_type": "markdown",
   "id": "703fc747-51f5-4df3-9c0a-5a08db7ff035",
   "metadata": {},
   "source": [
    "## issubset()\n",
    "#### -> Checks if all elements of one set are present in another.\n",
    "#### -> Returns True if the first set is a subset of the second."
   ]
  },
  {
   "cell_type": "code",
   "execution_count": 78,
   "id": "05b58576-c6fa-42dc-899d-e96f1c7b3cf3",
   "metadata": {},
   "outputs": [
    {
     "data": {
      "text/plain": [
       "True"
      ]
     },
     "execution_count": 78,
     "metadata": {},
     "output_type": "execute_result"
    }
   ],
   "source": [
    "s1 = {1,2}\n",
    "s2 = {1,2,3,4}\n",
    "s1.issubset(s2)"
   ]
  },
  {
   "cell_type": "code",
   "execution_count": 79,
   "id": "971bdf0f-8d9e-45c9-8dfc-0ee9906f4911",
   "metadata": {},
   "outputs": [
    {
     "data": {
      "text/plain": [
       "False"
      ]
     },
     "execution_count": 79,
     "metadata": {},
     "output_type": "execute_result"
    }
   ],
   "source": [
    "s2.issubset(s1)"
   ]
  },
  {
   "cell_type": "markdown",
   "id": "e0810e8a-83f6-42d4-a5f4-1825942fd3f2",
   "metadata": {},
   "source": [
    "## issuperset()\n",
    "#### -> Checks if the first set contains all elements of another set.\n",
    "#### -> Opposite of issubset()."
   ]
  },
  {
   "cell_type": "code",
   "execution_count": 80,
   "id": "9647899e-9f05-41e0-a51f-3d1ab55f4c57",
   "metadata": {},
   "outputs": [
    {
     "data": {
      "text/plain": [
       "True"
      ]
     },
     "execution_count": 80,
     "metadata": {},
     "output_type": "execute_result"
    }
   ],
   "source": [
    "s1 = {1,2,3,4,5,6}\n",
    "s2 = {1,2}\n",
    "s1.issuperset(s2)"
   ]
  },
  {
   "cell_type": "code",
   "execution_count": 81,
   "id": "a4259805-9605-4506-a220-c96e6eb77933",
   "metadata": {},
   "outputs": [
    {
     "data": {
      "text/plain": [
       "False"
      ]
     },
     "execution_count": 81,
     "metadata": {},
     "output_type": "execute_result"
    }
   ],
   "source": [
    "s2.issuperset(s1)"
   ]
  },
  {
   "cell_type": "markdown",
   "id": "7c09a6e7-3abc-41db-a184-f46d9ae3a99a",
   "metadata": {},
   "source": [
    "# Membership Operators"
   ]
  },
  {
   "cell_type": "code",
   "execution_count": 82,
   "id": "db505a1b-41fb-4718-9ef6-36888f37abc7",
   "metadata": {},
   "outputs": [
    {
     "data": {
      "text/plain": [
       "{10, 2.34, 'AI', 'DA', 'DS', False, True}"
      ]
     },
     "execution_count": 82,
     "metadata": {},
     "output_type": "execute_result"
    }
   ],
   "source": [
    "s = {10,2.34,'AI','DA','DS',True,False}\n",
    "s"
   ]
  },
  {
   "cell_type": "code",
   "execution_count": 84,
   "id": "2a1f43d6-0c84-4f7d-8d41-91795fe9bce8",
   "metadata": {},
   "outputs": [
    {
     "data": {
      "text/plain": [
       "True"
      ]
     },
     "execution_count": 84,
     "metadata": {},
     "output_type": "execute_result"
    }
   ],
   "source": [
    "10 in s"
   ]
  },
  {
   "cell_type": "code",
   "execution_count": 86,
   "id": "5e0d9e96-81ab-4869-8fcb-d9963b8b1c09",
   "metadata": {},
   "outputs": [
    {
     "data": {
      "text/plain": [
       "False"
      ]
     },
     "execution_count": 86,
     "metadata": {},
     "output_type": "execute_result"
    }
   ],
   "source": [
    "True not in s"
   ]
  },
  {
   "cell_type": "code",
   "execution_count": 87,
   "id": "196750a2-1462-4c3e-9613-50524e4ccef0",
   "metadata": {},
   "outputs": [
    {
     "data": {
      "text/plain": [
       "True"
      ]
     },
     "execution_count": 87,
     "metadata": {},
     "output_type": "execute_result"
    }
   ],
   "source": [
    "100 not in s"
   ]
  },
  {
   "cell_type": "markdown",
   "id": "a6562702-9545-4ebe-9b59-03103305568d",
   "metadata": {},
   "source": [
    "# set Comprehension"
   ]
  },
  {
   "cell_type": "code",
   "execution_count": 88,
   "id": "6322c312-b7b0-4d6a-9031-2be0b0feeae3",
   "metadata": {},
   "outputs": [
    {
     "data": {
      "text/plain": [
       "{1, 11, 21, 31, 41, 51, 61, 71, 81, 91}"
      ]
     },
     "execution_count": 88,
     "metadata": {},
     "output_type": "execute_result"
    }
   ],
   "source": [
    "s = {x for x in range(1,100,10)}\n",
    "s"
   ]
  },
  {
   "cell_type": "code",
   "execution_count": 90,
   "id": "4854010d-5185-46cd-87f3-8561ee23bfc2",
   "metadata": {},
   "outputs": [
    {
     "data": {
      "text/plain": [
       "{15, 30, 45, 60, 75, 90}"
      ]
     },
     "execution_count": 90,
     "metadata": {},
     "output_type": "execute_result"
    }
   ],
   "source": [
    "s = {x for x in range(1,100) if x%15==0}\n",
    "s"
   ]
  },
  {
   "cell_type": "code",
   "execution_count": 94,
   "id": "958893ba-5ed9-4346-a83b-bcf30f224728",
   "metadata": {},
   "outputs": [
    {
     "data": {
      "text/plain": [
       "{1, 3, 5}"
      ]
     },
     "execution_count": 94,
     "metadata": {},
     "output_type": "execute_result"
    }
   ],
   "source": [
    "s = { x for x in list([1,2,3,4,5]) if x%2 != 0}\n",
    "s"
   ]
  },
  {
   "cell_type": "code",
   "execution_count": 96,
   "id": "ec76b5ea-36da-4f0e-91b6-423b9cae1e97",
   "metadata": {},
   "outputs": [
    {
     "data": {
      "text/plain": [
       "{2, 4, 6, 8}"
      ]
     },
     "execution_count": 96,
     "metadata": {},
     "output_type": "execute_result"
    }
   ],
   "source": [
    "s = { x *2 for x in range(1,5)}\n",
    "s"
   ]
  },
  {
   "cell_type": "code",
   "execution_count": 99,
   "id": "c67c041c-c12f-4def-a9bc-9b8f9d161403",
   "metadata": {},
   "outputs": [
    {
     "data": {
      "text/plain": [
       "{10,\n",
       " 11,\n",
       " 12,\n",
       " 13,\n",
       " 14,\n",
       " 15,\n",
       " 16,\n",
       " 17,\n",
       " 18,\n",
       " 19,\n",
       " 20,\n",
       " 21,\n",
       " 22,\n",
       " 23,\n",
       " 24,\n",
       " 25,\n",
       " 26,\n",
       " 27,\n",
       " 28,\n",
       " 29,\n",
       " 30,\n",
       " 31,\n",
       " 32,\n",
       " 33,\n",
       " 34,\n",
       " 35,\n",
       " 36,\n",
       " 37,\n",
       " 38,\n",
       " 39,\n",
       " 40,\n",
       " 41,\n",
       " 42,\n",
       " 43,\n",
       " 44,\n",
       " 45,\n",
       " 46,\n",
       " 47,\n",
       " 48,\n",
       " 49,\n",
       " 50,\n",
       " 51,\n",
       " 52,\n",
       " 53,\n",
       " 54,\n",
       " 55,\n",
       " 56,\n",
       " 57,\n",
       " 58,\n",
       " 59,\n",
       " 60,\n",
       " 61,\n",
       " 62,\n",
       " 63,\n",
       " 64,\n",
       " 65,\n",
       " 66,\n",
       " 67,\n",
       " 68,\n",
       " 69,\n",
       " 70,\n",
       " 71,\n",
       " 72,\n",
       " 73,\n",
       " 74,\n",
       " 75,\n",
       " 76,\n",
       " 77,\n",
       " 78,\n",
       " 79,\n",
       " 80,\n",
       " 81,\n",
       " 82,\n",
       " 83,\n",
       " 84,\n",
       " 85,\n",
       " 86,\n",
       " 87,\n",
       " 88,\n",
       " 89,\n",
       " 90,\n",
       " 91,\n",
       " 92,\n",
       " 93,\n",
       " 94,\n",
       " 95,\n",
       " 96,\n",
       " 97,\n",
       " 98,\n",
       " 99}"
      ]
     },
     "execution_count": 99,
     "metadata": {},
     "output_type": "execute_result"
    }
   ],
   "source": [
    "s = {x for x in range(10,100) if x/10 != 0}\n",
    "s"
   ]
  },
  {
   "cell_type": "code",
   "execution_count": null,
   "id": "06da94d8-44b5-4b49-b2db-cdf099f4858a",
   "metadata": {},
   "outputs": [],
   "source": []
  }
 ],
 "metadata": {
  "kernelspec": {
   "display_name": "Python 3 (ipykernel)",
   "language": "python",
   "name": "python3"
  },
  "language_info": {
   "codemirror_mode": {
    "name": "ipython",
    "version": 3
   },
   "file_extension": ".py",
   "mimetype": "text/x-python",
   "name": "python",
   "nbconvert_exporter": "python",
   "pygments_lexer": "ipython3",
   "version": "3.12.7"
  }
 },
 "nbformat": 4,
 "nbformat_minor": 5
}
