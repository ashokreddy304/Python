{
 "cells": [
  {
   "cell_type": "markdown",
   "id": "8ecdf303-abc3-426e-89a3-98393894ba88",
   "metadata": {},
   "source": [
    "# dictionary"
   ]
  },
  {
   "cell_type": "markdown",
   "id": "5050a553-6e5a-473b-98e2-78ae99f09ec5",
   "metadata": {},
   "source": [
    "- We can use a list, tuple, set to represent a group of individual objects as a single entity.\n",
    "- If we want to represent a group of objects as key-value pairs, then we should go for a dictionary.\n",
    "- Duplicate keys are not allowed, but duplicate values are allowed\n",
    "- Heterogeneous objects are allowed for both key and values.\n",
    "- Insertion order is not preserved.\n",
    "- Dictionaries are mutable\n",
    "- Dictionaries are dynamic.\n",
    "- Indexing and slicing concepts are not applicable."
   ]
  },
  {
   "cell_type": "markdown",
   "id": "1bb8501d-5a51-47b6-99b4-6a36c3666200",
   "metadata": {},
   "source": [
    "# How to create Dictionary "
   ]
  },
  {
   "cell_type": "code",
   "execution_count": 1,
   "id": "c9339d89-4830-484d-b79d-d1092c370520",
   "metadata": {},
   "outputs": [
    {
     "data": {
      "text/plain": [
       "{}"
      ]
     },
     "execution_count": 1,
     "metadata": {},
     "output_type": "execute_result"
    }
   ],
   "source": [
    "d = {}\n",
    "d"
   ]
  },
  {
   "cell_type": "code",
   "execution_count": 3,
   "id": "8fa525ff-f2c5-48b7-8300-21fabf1ce552",
   "metadata": {},
   "outputs": [
    {
     "data": {
      "text/plain": [
       "{}"
      ]
     },
     "execution_count": 3,
     "metadata": {},
     "output_type": "execute_result"
    }
   ],
   "source": [
    "d = dict()\n",
    "d"
   ]
  },
  {
   "cell_type": "markdown",
   "id": "b6773c4c-3c2b-420e-aee8-4637d40384ec",
   "metadata": {},
   "source": [
    "- we are creating empty dict. we can add entires as follows"
   ]
  },
  {
   "cell_type": "code",
   "execution_count": 5,
   "id": "d394388b-a1c3-4a9f-932e-26a72e900483",
   "metadata": {},
   "outputs": [
    {
     "data": {
      "text/plain": [
       "{100: 'AI', 200: 'DS', 300: 'DA'}"
      ]
     },
     "execution_count": 5,
     "metadata": {},
     "output_type": "execute_result"
    }
   ],
   "source": [
    "d[100] = 'AI'\n",
    "d[200] = 'DS'\n",
    "d[300] = 'DA'\n",
    "d"
   ]
  },
  {
   "cell_type": "markdown",
   "id": "3650851c-d526-42c4-9093-1436a5af795d",
   "metadata": {},
   "source": [
    "- if we know data in advance then we can dict as follows"
   ]
  },
  {
   "cell_type": "code",
   "execution_count": 7,
   "id": "e4c7888f-37b4-4017-8bfe-897d62a5dc81",
   "metadata": {},
   "outputs": [
    {
     "data": {
      "text/plain": [
       "{100: 'PYTHON', 200: 'DATA', 300: 'SCIENCE'}"
      ]
     },
     "execution_count": 7,
     "metadata": {},
     "output_type": "execute_result"
    }
   ],
   "source": [
    "d = {100:'PYTHON',200:'DATA',300:'SCIENCE'}\n",
    "d"
   ]
  },
  {
   "cell_type": "markdown",
   "id": "2be230fd-4c2d-46ba-ad79-7e311dc3bc27",
   "metadata": {},
   "source": [
    "# How to Access Data from the Dictionary"
   ]
  },
  {
   "cell_type": "code",
   "execution_count": 8,
   "id": "5b8d8377-e393-4e42-b403-91cef3ac56f6",
   "metadata": {},
   "outputs": [
    {
     "name": "stdout",
     "output_type": "stream",
     "text": [
      "PYTHON\n",
      "DATA\n"
     ]
    }
   ],
   "source": [
    "d = {100:'PYTHON',200:'DATA',300:'SCIENCE'}\n",
    "print(d[100])\n",
    "print(d[200])"
   ]
  },
  {
   "cell_type": "markdown",
   "id": "7d3e423e-855c-4ca6-bf52-4980942ebe94",
   "metadata": {},
   "source": [
    "- if the specified key is not available then we will get KeyError"
   ]
  },
  {
   "cell_type": "code",
   "execution_count": 9,
   "id": "5d03f2e4-45b1-4072-8744-0185d3178deb",
   "metadata": {},
   "outputs": [
    {
     "ename": "KeyError",
     "evalue": "400",
     "output_type": "error",
     "traceback": [
      "\u001b[1;31m---------------------------------------------------------------------------\u001b[0m",
      "\u001b[1;31mKeyError\u001b[0m                                  Traceback (most recent call last)",
      "Cell \u001b[1;32mIn[9], line 1\u001b[0m\n\u001b[1;32m----> 1\u001b[0m d[\u001b[38;5;241m400\u001b[39m]\n",
      "\u001b[1;31mKeyError\u001b[0m: 400"
     ]
    }
   ],
   "source": [
    "d[400]"
   ]
  },
  {
   "cell_type": "markdown",
   "id": "d0336d9d-0913-4bdd-bca0-1ee6de78982f",
   "metadata": {},
   "source": [
    "# How to update dictionaries\n",
    "- d[key] = value\n",
    "- If the key is not available, then a new entry will be added to the dict with the specified key-value pair.\n",
    "- If the key already available then old value will be replaced with new value."
   ]
  },
  {
   "cell_type": "code",
   "execution_count": 11,
   "id": "f8312b45-e8c3-4a78-81c8-362f389a2307",
   "metadata": {},
   "outputs": [
    {
     "data": {
      "text/plain": [
       "{100: 'PYTHON', 200: 'DATA', 300: 'SCIENCE'}"
      ]
     },
     "execution_count": 11,
     "metadata": {},
     "output_type": "execute_result"
    }
   ],
   "source": [
    "d"
   ]
  },
  {
   "cell_type": "code",
   "execution_count": 12,
   "id": "56ea9e37-4271-477c-ac52-95582187efdb",
   "metadata": {},
   "outputs": [],
   "source": [
    "d[100] = 'Ashok'"
   ]
  },
  {
   "cell_type": "code",
   "execution_count": 13,
   "id": "5bad2537-e2a4-4d38-81ef-6561d0529c78",
   "metadata": {},
   "outputs": [
    {
     "data": {
      "text/plain": [
       "{100: 'Ashok', 200: 'DATA', 300: 'SCIENCE'}"
      ]
     },
     "execution_count": 13,
     "metadata": {},
     "output_type": "execute_result"
    }
   ],
   "source": [
    "d"
   ]
  },
  {
   "cell_type": "code",
   "execution_count": 14,
   "id": "81c8312f-e15e-448b-9825-e2b8b27fc3e2",
   "metadata": {},
   "outputs": [
    {
     "data": {
      "text/plain": [
       "{100: 'Ashok', 200: 'DATA', 300: 'SCIENCE', 400: 'Analyst'}"
      ]
     },
     "execution_count": 14,
     "metadata": {},
     "output_type": "execute_result"
    }
   ],
   "source": [
    "d[400] = 'Analyst'\n",
    "d"
   ]
  },
  {
   "cell_type": "markdown",
   "id": "568425b6-f25a-4f7d-beff-f0cddb8f879f",
   "metadata": {},
   "source": [
    "# How to Delete Elements from the dictionary\n",
    "- It deleted entry associated with the specified key.\n",
    "- If the key is not available then we will get KeyError"
   ]
  },
  {
   "cell_type": "markdown",
   "id": "3e143871-37ef-42ed-a08e-8e314d986e51",
   "metadata": {},
   "source": [
    "### 1. del d[key]"
   ]
  },
  {
   "cell_type": "code",
   "execution_count": 16,
   "id": "7c00a770-25e7-4f55-8f48-0a2cdfedc6fb",
   "metadata": {},
   "outputs": [
    {
     "data": {
      "text/plain": [
       "{100: 'Ashok', 200: 'DATA', 300: 'SCIENCE', 400: 'Analyst'}"
      ]
     },
     "execution_count": 16,
     "metadata": {},
     "output_type": "execute_result"
    }
   ],
   "source": [
    "d"
   ]
  },
  {
   "cell_type": "code",
   "execution_count": 18,
   "id": "b62244a7-5e1e-4b79-9ca5-db917d35834a",
   "metadata": {},
   "outputs": [
    {
     "data": {
      "text/plain": [
       "{100: 'Ashok', 200: 'DATA', 300: 'SCIENCE'}"
      ]
     },
     "execution_count": 18,
     "metadata": {},
     "output_type": "execute_result"
    }
   ],
   "source": [
    "del d[400]\n",
    "d"
   ]
  },
  {
   "cell_type": "code",
   "execution_count": 19,
   "id": "af323064-1f9f-4c7c-9ba3-d2795432d95c",
   "metadata": {},
   "outputs": [
    {
     "ename": "KeyError",
     "evalue": "400",
     "output_type": "error",
     "traceback": [
      "\u001b[1;31m---------------------------------------------------------------------------\u001b[0m",
      "\u001b[1;31mKeyError\u001b[0m                                  Traceback (most recent call last)",
      "Cell \u001b[1;32mIn[19], line 1\u001b[0m\n\u001b[1;32m----> 1\u001b[0m \u001b[38;5;28;01mdel\u001b[39;00m d[\u001b[38;5;241m400\u001b[39m]\n",
      "\u001b[1;31mKeyError\u001b[0m: 400"
     ]
    }
   ],
   "source": [
    "del d[400]"
   ]
  },
  {
   "cell_type": "markdown",
   "id": "f0a8f0f4-adc4-4492-a0cd-b27f9b82085b",
   "metadata": {},
   "source": [
    "### 2. d.clear()\n",
    "- It removes all entries from the dict"
   ]
  },
  {
   "cell_type": "code",
   "execution_count": 21,
   "id": "a5a66003-0dd7-4a44-b2f8-867478018057",
   "metadata": {},
   "outputs": [
    {
     "data": {
      "text/plain": [
       "{100: 'Ashok', 200: 'DATA', 300: 'SCIENCE'}"
      ]
     },
     "execution_count": 21,
     "metadata": {},
     "output_type": "execute_result"
    }
   ],
   "source": [
    "d"
   ]
  },
  {
   "cell_type": "code",
   "execution_count": 22,
   "id": "cf5ee9e2-08c9-4c6d-b1ba-80b876e90b1b",
   "metadata": {},
   "outputs": [],
   "source": [
    "d.clear()"
   ]
  },
  {
   "cell_type": "code",
   "execution_count": 23,
   "id": "38cbdc1f-53d4-4dcb-bc2c-b4e48ab904cc",
   "metadata": {},
   "outputs": [
    {
     "data": {
      "text/plain": [
       "{}"
      ]
     },
     "execution_count": 23,
     "metadata": {},
     "output_type": "execute_result"
    }
   ],
   "source": [
    "d"
   ]
  },
  {
   "cell_type": "markdown",
   "id": "420b38b2-5dc6-4c06-91a7-d483f1d60775",
   "metadata": {},
   "source": [
    "### 3. del d\n",
    "- To delete total dict. now can not access d."
   ]
  },
  {
   "cell_type": "code",
   "execution_count": 25,
   "id": "5e66043d-ddec-43df-995a-404e70806e23",
   "metadata": {},
   "outputs": [
    {
     "name": "stdout",
     "output_type": "stream",
     "text": [
      "{100: 'Ashok', 200: 'DATA', 300: 'SCIENCE', 400: 'Analyst'}\n"
     ]
    },
    {
     "ename": "NameError",
     "evalue": "name 'd' is not defined",
     "output_type": "error",
     "traceback": [
      "\u001b[1;31m---------------------------------------------------------------------------\u001b[0m",
      "\u001b[1;31mNameError\u001b[0m                                 Traceback (most recent call last)",
      "Cell \u001b[1;32mIn[25], line 4\u001b[0m\n\u001b[0;32m      2\u001b[0m \u001b[38;5;28mprint\u001b[39m(d)\n\u001b[0;32m      3\u001b[0m \u001b[38;5;28;01mdel\u001b[39;00m d\n\u001b[1;32m----> 4\u001b[0m \u001b[38;5;28mprint\u001b[39m(d)\n",
      "\u001b[1;31mNameError\u001b[0m: name 'd' is not defined"
     ]
    }
   ],
   "source": [
    "d = {100: 'Ashok', 200: 'DATA', 300: 'SCIENCE', 400: 'Analyst'}\n",
    "print(d)\n",
    "del d\n",
    "print(d)"
   ]
  },
  {
   "cell_type": "markdown",
   "id": "29194af1-19a8-4f83-ac26-20225dd30a40",
   "metadata": {},
   "source": [
    "# Important Functions of dict"
   ]
  },
  {
   "cell_type": "markdown",
   "id": "31b8dd0e-ec65-4768-9157-b974117a9366",
   "metadata": {},
   "source": [
    "### 1.dict()\n",
    "- To create a dict\n",
    "- d = dict() -> It creates empty dict\n",
    "- d = dict({100:'python',200:'DS'}) -> It create dict with specified elements.\n",
    "- d = dict([(100,'python'),(200,'DA'),(300,'DS)]) -> it creates dict with the given list of tuple elements"
   ]
  },
  {
   "cell_type": "code",
   "execution_count": 26,
   "id": "5ddcd771-e755-4c23-9d21-94c1d8558a3b",
   "metadata": {},
   "outputs": [
    {
     "data": {
      "text/plain": [
       "{}"
      ]
     },
     "execution_count": 26,
     "metadata": {},
     "output_type": "execute_result"
    }
   ],
   "source": [
    "d = dict()\n",
    "d"
   ]
  },
  {
   "cell_type": "code",
   "execution_count": 28,
   "id": "fa1b4ed9-df48-4565-9f49-7b2c9a999f1f",
   "metadata": {},
   "outputs": [
    {
     "data": {
      "text/plain": [
       "{100: 'python', 200: 'DS', 300: 'DA'}"
      ]
     },
     "execution_count": 28,
     "metadata": {},
     "output_type": "execute_result"
    }
   ],
   "source": [
    "d = dict({100:'python',200:'DS',300:'DA'})\n",
    "d"
   ]
  },
  {
   "cell_type": "code",
   "execution_count": 29,
   "id": "668229cf-a0ab-4194-a892-cd0bdfd58292",
   "metadata": {},
   "outputs": [
    {
     "data": {
      "text/plain": [
       "{10: 'py', 20: 'DA', 30: 'ds'}"
      ]
     },
     "execution_count": 29,
     "metadata": {},
     "output_type": "execute_result"
    }
   ],
   "source": [
    "d = dict([(10,'py'),(20,'DA'),(30,'ds')])\n",
    "d"
   ]
  },
  {
   "cell_type": "markdown",
   "id": "6c266d26-2cec-4116-8b63-face3b3b87ba",
   "metadata": {},
   "source": [
    "### 2.len() -> Returns the number of items in the dict."
   ]
  },
  {
   "cell_type": "code",
   "execution_count": 30,
   "id": "dd253874-14d9-401c-8e11-1dc0348b887e",
   "metadata": {},
   "outputs": [
    {
     "data": {
      "text/plain": [
       "3"
      ]
     },
     "execution_count": 30,
     "metadata": {},
     "output_type": "execute_result"
    }
   ],
   "source": [
    "d = dict({100:'python',200:'DS',300:'DA'})\n",
    "len(d)"
   ]
  },
  {
   "cell_type": "markdown",
   "id": "d9c0a5be-0b7b-4cec-8431-21b7bea4a280",
   "metadata": {},
   "source": [
    "### 3.clear() -> To remove all elements from the dict."
   ]
  },
  {
   "cell_type": "code",
   "execution_count": 31,
   "id": "f09be4ae-c058-4eb7-83cf-90ab9005ca8e",
   "metadata": {},
   "outputs": [
    {
     "name": "stdout",
     "output_type": "stream",
     "text": [
      "{100: 'python', 200: 'DS', 300: 'DA'}\n",
      "{}\n"
     ]
    }
   ],
   "source": [
    "d = {100:'python',200:'DS',300:'DA'}\n",
    "print(d)\n",
    "d.clear()\n",
    "print(d)"
   ]
  },
  {
   "cell_type": "markdown",
   "id": "f03d58aa-5023-412d-a610-bcbce47a9903",
   "metadata": {},
   "source": [
    "### 4.get() -> To get the value associated with the key \n",
    "- if the key is available, then it returns the corresponding value; otherwise, it returns None. It won't raise any Error.\n",
    "- d.get(key, defaultvalue)\n",
    "- if the key is available, then it returns the corresponding value; otherwise, it returns the default value"
   ]
  },
  {
   "cell_type": "code",
   "execution_count": 32,
   "id": "3973e50a-4c99-4095-b17c-21ccbcd71418",
   "metadata": {},
   "outputs": [
    {
     "data": {
      "text/plain": [
       "'python'"
      ]
     },
     "execution_count": 32,
     "metadata": {},
     "output_type": "execute_result"
    }
   ],
   "source": [
    "d = {100:'python',200:'DS',300:'DA'}\n",
    "d.get(100)"
   ]
  },
  {
   "cell_type": "code",
   "execution_count": 34,
   "id": "8c588dfe-53a6-40c8-b87c-c4b36102f511",
   "metadata": {},
   "outputs": [
    {
     "name": "stdout",
     "output_type": "stream",
     "text": [
      "None\n"
     ]
    }
   ],
   "source": [
    "print(d.get(400))"
   ]
  },
  {
   "cell_type": "code",
   "execution_count": 35,
   "id": "fb424e14-de13-406c-89a8-ffb007601b04",
   "metadata": {},
   "outputs": [
    {
     "data": {
      "text/plain": [
       "'python'"
      ]
     },
     "execution_count": 35,
     "metadata": {},
     "output_type": "execute_result"
    }
   ],
   "source": [
    "d.get(100,'python')"
   ]
  },
  {
   "cell_type": "code",
   "execution_count": 37,
   "id": "99fef432-74ff-4e27-9941-07ba2f0e66a5",
   "metadata": {},
   "outputs": [
    {
     "data": {
      "text/plain": [
       "'DA'"
      ]
     },
     "execution_count": 37,
     "metadata": {},
     "output_type": "execute_result"
    }
   ],
   "source": [
    "d.get(300,'DS')"
   ]
  },
  {
   "cell_type": "markdown",
   "id": "5b052ae2-189c-4d4d-98a1-e6c8ff37f026",
   "metadata": {},
   "source": [
    "### 5.pop()\n",
    "- d.pop(key)\n",
    "- It removes the entry associated with the specified key and returns the corresponding value.\n",
    "- If the specified key is not available then we will get KeyError"
   ]
  },
  {
   "cell_type": "code",
   "execution_count": 38,
   "id": "249fa272-0c72-401f-821c-4b684dc2778f",
   "metadata": {},
   "outputs": [
    {
     "name": "stdout",
     "output_type": "stream",
     "text": [
      "DA\n",
      "{100: 'python', 200: 'DS'}\n"
     ]
    },
    {
     "ename": "KeyError",
     "evalue": "400",
     "output_type": "error",
     "traceback": [
      "\u001b[1;31m---------------------------------------------------------------------------\u001b[0m",
      "\u001b[1;31mKeyError\u001b[0m                                  Traceback (most recent call last)",
      "Cell \u001b[1;32mIn[38], line 4\u001b[0m\n\u001b[0;32m      2\u001b[0m \u001b[38;5;28mprint\u001b[39m(d\u001b[38;5;241m.\u001b[39mpop(\u001b[38;5;241m300\u001b[39m))\n\u001b[0;32m      3\u001b[0m \u001b[38;5;28mprint\u001b[39m(d)\n\u001b[1;32m----> 4\u001b[0m \u001b[38;5;28mprint\u001b[39m(d\u001b[38;5;241m.\u001b[39mpop(\u001b[38;5;241m400\u001b[39m))\n",
      "\u001b[1;31mKeyError\u001b[0m: 400"
     ]
    }
   ],
   "source": [
    "d = {100:'python',200:'DS',300:'DA'}\n",
    "print(d.pop(300))\n",
    "print(d)\n",
    "print(d.pop(400))"
   ]
  },
  {
   "cell_type": "markdown",
   "id": "541a514e-af26-492f-9f00-49c80b3f9f48",
   "metadata": {},
   "source": [
    "### 6.popitem()\n",
    "- d.popitem()\n",
    "- It removes an arbitrary item (key-value) from the dict and returns it.\n",
    "- If the dict is empty we will get KeyError\n",
    "- d1 = {}\n",
    "- d1.popitem() -> KeyError"
   ]
  },
  {
   "cell_type": "code",
   "execution_count": 39,
   "id": "f7241508-efbc-4a7d-b675-fe4d3aa154ca",
   "metadata": {},
   "outputs": [
    {
     "name": "stdout",
     "output_type": "stream",
     "text": [
      "{100: 'python', 200: 'DS', 300: 'DA'}\n",
      "(300, 'DA')\n",
      "{100: 'python', 200: 'DS'}\n"
     ]
    }
   ],
   "source": [
    "d = {100:'python',200:'DS',300:'DA'}\n",
    "print(d)\n",
    "print(d.popitem())\n",
    "print(d)"
   ]
  },
  {
   "cell_type": "code",
   "execution_count": 40,
   "id": "01757b49-5ca3-4cb7-8a3d-8e8588cc0c67",
   "metadata": {},
   "outputs": [
    {
     "ename": "KeyError",
     "evalue": "'popitem(): dictionary is empty'",
     "output_type": "error",
     "traceback": [
      "\u001b[1;31m---------------------------------------------------------------------------\u001b[0m",
      "\u001b[1;31mKeyError\u001b[0m                                  Traceback (most recent call last)",
      "Cell \u001b[1;32mIn[40], line 2\u001b[0m\n\u001b[0;32m      1\u001b[0m d \u001b[38;5;241m=\u001b[39m {}\n\u001b[1;32m----> 2\u001b[0m d\u001b[38;5;241m.\u001b[39mpopitem()\n",
      "\u001b[1;31mKeyError\u001b[0m: 'popitem(): dictionary is empty'"
     ]
    }
   ],
   "source": [
    "d = {}\n",
    "d.popitem()"
   ]
  },
  {
   "cell_type": "markdown",
   "id": "299ff0a7-b6eb-464e-8772-a0b727bdab55",
   "metadata": {},
   "source": [
    "### 7.keys()\n",
    "- It returns all keys associated with dict.\n",
    "- d.key()"
   ]
  },
  {
   "cell_type": "code",
   "execution_count": 42,
   "id": "2033da0b-9edb-46b6-af39-0e157a91c6e4",
   "metadata": {},
   "outputs": [
    {
     "data": {
      "text/plain": [
       "dict_keys([100, 200, 300])"
      ]
     },
     "execution_count": 42,
     "metadata": {},
     "output_type": "execute_result"
    }
   ],
   "source": [
    "d = {100:'python',200:'DS',300:'DA'}\n",
    "d.keys()"
   ]
  },
  {
   "cell_type": "markdown",
   "id": "8b7fe1d2-9d7d-4215-82c9-18110c6b2773",
   "metadata": {},
   "source": [
    "### 8.values()\n",
    "- It returns all values associated with dict\n",
    "- d.values()"
   ]
  },
  {
   "cell_type": "code",
   "execution_count": 43,
   "id": "15dd8fcc-b30d-4f51-a1fb-3c150937baeb",
   "metadata": {},
   "outputs": [
    {
     "data": {
      "text/plain": [
       "dict_values(['python', 'DS', 'DA'])"
      ]
     },
     "execution_count": 43,
     "metadata": {},
     "output_type": "execute_result"
    }
   ],
   "source": [
    "d = {100:'python',200:'DS',300:'DA'}\n",
    "d.values()"
   ]
  },
  {
   "cell_type": "markdown",
   "id": "ba26f564-f1e0-455f-b2a1-eca4e5415abd",
   "metadata": {},
   "source": [
    "### 9.items()\n",
    "- It returns a list of tuples representing key-value pairs.\n",
    "- [(k,v),(k,v),(k,v)]\n"
   ]
  },
  {
   "cell_type": "code",
   "execution_count": 44,
   "id": "94e7ed2e-7dc5-42e3-afa6-73b8afd9d0c5",
   "metadata": {},
   "outputs": [
    {
     "name": "stdout",
     "output_type": "stream",
     "text": [
      "100 - python\n",
      "200 - DS\n",
      "300 - DA\n"
     ]
    }
   ],
   "source": [
    "d = {100:'python',200:'DS',300:'DA'}\n",
    "for k,v in d.items():\n",
    "    print(k,'-',v)"
   ]
  },
  {
   "cell_type": "markdown",
   "id": "f9bb597b-4ec7-4a8d-9240-429ce8984531",
   "metadata": {},
   "source": [
    "### 10.copy()\n",
    "- To create exactly duplicate dict (cloned copy)"
   ]
  },
  {
   "cell_type": "code",
   "execution_count": 45,
   "id": "37c148c4-025b-47f4-bee9-84e7bbe83bb0",
   "metadata": {},
   "outputs": [
    {
     "name": "stdout",
     "output_type": "stream",
     "text": [
      "{100: 'python', 200: 'DS', 300: 'DA'}\n",
      "{100: 'python', 200: 'DS', 300: 'DA'}\n"
     ]
    }
   ],
   "source": [
    "d = {100:'python',200:'DS',300:'DA'}\n",
    "d1 = d.copy()\n",
    "print(d)\n",
    "print(d1)"
   ]
  },
  {
   "cell_type": "markdown",
   "id": "41595b6a-1f7f-4789-b5c2-72394aedfbd5",
   "metadata": {},
   "source": [
    "### 11.setdefault()\n",
    "- d.setdefault(k,v)\n",
    "- If the key is already available, then this function returns the corresponding value.\n",
    "- If the key is not available then the specified key-value will be added as new item to dict."
   ]
  },
  {
   "cell_type": "code",
   "execution_count": 47,
   "id": "ce44ac55-7eac-40e1-bff7-bd61735c3051",
   "metadata": {},
   "outputs": [
    {
     "name": "stdout",
     "output_type": "stream",
     "text": [
      "ML\n",
      "{100: 'python', 200: 'DS', 300: 'DA', 400: 'ML'}\n",
      "python\n",
      "{100: 'python', 200: 'DS', 300: 'DA', 400: 'ML'}\n"
     ]
    }
   ],
   "source": [
    "d = {100:'python',200:'DS',300:'DA'}\n",
    "print(d.setdefault(400,'ML'))\n",
    "print(d)\n",
    "print(d.setdefault(100,'AI'))\n",
    "print(d)"
   ]
  },
  {
   "cell_type": "markdown",
   "id": "69b37132-ba6e-4447-9220-83e76df27060",
   "metadata": {},
   "source": [
    "### 12.upate():\n",
    "- d.update(x)\n",
    "- All items present in the dict x will be added to dict d"
   ]
  },
  {
   "cell_type": "code",
   "execution_count": 51,
   "id": "ce4d25d3-ea12-497c-ba2f-9b4f49635f95",
   "metadata": {},
   "outputs": [
    {
     "data": {
      "text/plain": [
       "{100: 'python', 200: 'DS', 300: 'DA', 400: 'ML', 500: 'AI'}"
      ]
     },
     "execution_count": 51,
     "metadata": {},
     "output_type": "execute_result"
    }
   ],
   "source": [
    "d = {100:'python',200:'DS',300:'DA'}\n",
    "x = {400:'ML',500:'AI'}\n",
    "d.update(x)\n",
    "d"
   ]
  },
  {
   "cell_type": "markdown",
   "id": "f160ef06-09f8-4d3a-bcad-b118f0da2f69",
   "metadata": {},
   "source": [
    "### 13. d.fromkeys(iterable, value)\n",
    "- d.fromkeys(iterable, value)\n",
    "- To create a new dictionary with specified keys and a common default value.\n",
    "- iterable: a sequence of keys (like list, tuple, or string)\n",
    "- value: the value assigned to all keys (default is None if not specified)"
   ]
  },
  {
   "cell_type": "markdown",
   "id": "dd89ed18-348e-4a47-aed0-3885c6f31d30",
   "metadata": {},
   "source": [
    "#####  Imagine you're building a user access system, and you want to initialize access levels for a new batch of users. All new users should start with \"read-only\" access."
   ]
  },
  {
   "cell_type": "code",
   "execution_count": 52,
   "id": "95c3bb15-3b75-41ae-b684-57d718ab44ce",
   "metadata": {},
   "outputs": [
    {
     "name": "stdout",
     "output_type": "stream",
     "text": [
      "{'alice': 'read-only', 'bob': 'read-only', 'charlie': 'read-only'}\n"
     ]
    }
   ],
   "source": [
    "# List of new users\n",
    "new_users = [\"alice\", \"bob\", \"charlie\"]\n",
    "\n",
    "# Initialize dictionary with same access level\n",
    "access_levels = dict.fromkeys(new_users, \"read-only\")\n",
    "\n",
    "print(access_levels)\n"
   ]
  },
  {
   "cell_type": "code",
   "execution_count": null,
   "id": "1f23256d-99e5-4ceb-8811-612c76398189",
   "metadata": {},
   "outputs": [],
   "source": []
  }
 ],
 "metadata": {
  "kernelspec": {
   "display_name": "Python 3 (ipykernel)",
   "language": "python",
   "name": "python3"
  },
  "language_info": {
   "codemirror_mode": {
    "name": "ipython",
    "version": 3
   },
   "file_extension": ".py",
   "mimetype": "text/x-python",
   "name": "python",
   "nbconvert_exporter": "python",
   "pygments_lexer": "ipython3",
   "version": "3.12.7"
  }
 },
 "nbformat": 4,
 "nbformat_minor": 5
}
