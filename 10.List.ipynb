{
 "cells": [
  {
   "cell_type": "markdown",
   "id": "752ad2cd-1f7e-4273-b4f6-aef6b67b2189",
   "metadata": {},
   "source": [
    "# List"
   ]
  },
  {
   "cell_type": "markdown",
   "id": "cbed1a4c-399d-4b37-a0ce-dc1e9ac21853",
   "metadata": {},
   "source": [
    "#### 1. If we want to represent a group of elements as a single entity where insertion order is preserved and duplicate elements are allowed, then we should go for a list.\n",
    "#### 2. Insertion order is preserved\n",
    "#### 3. Duplicate elements are allowed.\n",
    "#### 4. Heterogeneous elements are allowed\n",
    "#### 5. List is Dynamic, we can increase or decrease based on our requirement.\n",
    "#### 6. In list elements, we can place within the Square brackets with a comma separator. ([]) \n",
    "#### 7. List supports positive and negative indiex.\n",
    "#### 8. list is mutable."
   ]
  },
  {
   "cell_type": "markdown",
   "id": "5e88bfec-9838-4e88-8dd3-febf53b32931",
   "metadata": {},
   "source": [
    "# Craetion of List"
   ]
  },
  {
   "cell_type": "code",
   "execution_count": 3,
   "id": "f684a72b-c1cf-43d2-bd95-c07bbf90810b",
   "metadata": {},
   "outputs": [
    {
     "name": "stdout",
     "output_type": "stream",
     "text": [
      "<class 'list'>\n",
      "[]\n"
     ]
    }
   ],
   "source": [
    "# We can create an empty list\n",
    "l = []\n",
    "print(type(l))\n",
    "print(l)"
   ]
  },
  {
   "cell_type": "code",
   "execution_count": 4,
   "id": "5bb95f36-e7dd-44f2-9efa-36fc8dd1236c",
   "metadata": {},
   "outputs": [
    {
     "data": {
      "text/plain": [
       "[10, 20, 30, 40, 50]"
      ]
     },
     "execution_count": 4,
     "metadata": {},
     "output_type": "execute_result"
    }
   ],
   "source": [
    "# if we know the elements already, then we can create a list as follows\n",
    "l = [10,20,30,40,50]\n",
    "l"
   ]
  },
  {
   "cell_type": "code",
   "execution_count": 7,
   "id": "336f9668-4875-42d9-9541-94ffb47ea399",
   "metadata": {},
   "outputs": [
    {
     "name": "stdin",
     "output_type": "stream",
     "text": [
      "Enter List [10,20,40,50,60,70]\n"
     ]
    },
    {
     "name": "stdout",
     "output_type": "stream",
     "text": [
      "<class 'list'>\n",
      "[10, 20, 40, 50, 60, 70]\n"
     ]
    }
   ],
   "source": [
    "# with dynamic input\n",
    "l = eval(input('Enter List'))\n",
    "print(type(l))\n",
    "print(l)"
   ]
  },
  {
   "cell_type": "code",
   "execution_count": 8,
   "id": "7d2124fc-7ff9-41d1-a2e9-3452a17aa9d5",
   "metadata": {},
   "outputs": [
    {
     "data": {
      "text/plain": [
       "[0, 2, 4, 6, 8]"
      ]
     },
     "execution_count": 8,
     "metadata": {},
     "output_type": "execute_result"
    }
   ],
   "source": [
    "# with list function\n",
    "l = list(range(0,10,2))\n",
    "l"
   ]
  },
  {
   "cell_type": "code",
   "execution_count": 9,
   "id": "492d6883-3471-442a-92f1-8a17a091addf",
   "metadata": {},
   "outputs": [
    {
     "data": {
      "text/plain": [
       "['Learning', 'python', 'is', 'very', 'easy']"
      ]
     },
     "execution_count": 9,
     "metadata": {},
     "output_type": "execute_result"
    }
   ],
   "source": [
    "# with split() function\n",
    "s = 'Learning python is very easy'\n",
    "l = s.split()\n",
    "l"
   ]
  },
  {
   "cell_type": "markdown",
   "id": "475b91e6-6e0d-4428-8089-78b2710c7e5d",
   "metadata": {},
   "source": [
    "### Sometimes we can take a list inside another list, such as a type of list called a nested list."
   ]
  },
  {
   "cell_type": "code",
   "execution_count": 11,
   "id": "e31ffc26-4b38-4dc0-ba0b-3a4f9c4c018e",
   "metadata": {},
   "outputs": [
    {
     "data": {
      "text/plain": [
       "[10, 20, 30, [40, 50, 60]]"
      ]
     },
     "execution_count": 11,
     "metadata": {},
     "output_type": "execute_result"
    }
   ],
   "source": [
    "l = [10,20,30,[40,50,60]]\n",
    "l"
   ]
  },
  {
   "cell_type": "markdown",
   "id": "10843a38-856d-4a4f-b2a0-3908b58b17f0",
   "metadata": {},
   "source": [
    "# Accessing Elements of a List"
   ]
  },
  {
   "cell_type": "markdown",
   "id": "d50e07db-bebc-43d3-8454-40533b27fcd7",
   "metadata": {},
   "source": [
    "### By using an index\n",
    "##### 1. List follows a zero-based index; the index of the first element is zero\n",
    "##### 2. List supports both +ve and -ve index\n",
    "##### 3. +ve index means left to right.\n",
    "##### 4. -ve index means right to left."
   ]
  },
  {
   "cell_type": "code",
   "execution_count": 13,
   "id": "993c6956-187c-488a-bbbc-64bd7d21217c",
   "metadata": {},
   "outputs": [
    {
     "data": {
      "text/plain": [
       "10"
      ]
     },
     "execution_count": 13,
     "metadata": {},
     "output_type": "execute_result"
    }
   ],
   "source": [
    "l = [10,20,30,40,[50,60,70]]\n",
    "l[0]"
   ]
  },
  {
   "cell_type": "code",
   "execution_count": 14,
   "id": "839438f3-016a-4280-85ae-1d5d862cc192",
   "metadata": {},
   "outputs": [
    {
     "data": {
      "text/plain": [
       "[50, 60, 70]"
      ]
     },
     "execution_count": 14,
     "metadata": {},
     "output_type": "execute_result"
    }
   ],
   "source": [
    "l[-1]"
   ]
  },
  {
   "cell_type": "code",
   "execution_count": 15,
   "id": "6be89c9f-02f6-4d40-9803-14a98d3df527",
   "metadata": {},
   "outputs": [
    {
     "data": {
      "text/plain": [
       "70"
      ]
     },
     "execution_count": 15,
     "metadata": {},
     "output_type": "execute_result"
    }
   ],
   "source": [
    "l[-1][-1]"
   ]
  },
  {
   "cell_type": "code",
   "execution_count": 16,
   "id": "5814c4a5-7a79-4fc1-9e2f-b77668132cc0",
   "metadata": {},
   "outputs": [
    {
     "data": {
      "text/plain": [
       "[50, 60, 70]"
      ]
     },
     "execution_count": 16,
     "metadata": {},
     "output_type": "execute_result"
    }
   ],
   "source": [
    "l[4]"
   ]
  },
  {
   "cell_type": "code",
   "execution_count": 17,
   "id": "9969210e-9ad1-4598-bcf6-0a0871bf8e47",
   "metadata": {},
   "outputs": [
    {
     "data": {
      "text/plain": [
       "50"
      ]
     },
     "execution_count": 17,
     "metadata": {},
     "output_type": "execute_result"
    }
   ],
   "source": [
    "l[4][0]"
   ]
  },
  {
   "cell_type": "code",
   "execution_count": 18,
   "id": "0245931d-b15f-4a71-9d30-70fec7a1c07e",
   "metadata": {},
   "outputs": [
    {
     "ename": "IndexError",
     "evalue": "list index out of range",
     "output_type": "error",
     "traceback": [
      "\u001b[1;31m---------------------------------------------------------------------------\u001b[0m",
      "\u001b[1;31mIndexError\u001b[0m                                Traceback (most recent call last)",
      "Cell \u001b[1;32mIn[18], line 1\u001b[0m\n\u001b[1;32m----> 1\u001b[0m l[\u001b[38;5;241m7\u001b[39m]\n",
      "\u001b[1;31mIndexError\u001b[0m: list index out of range"
     ]
    }
   ],
   "source": [
    "l[7]"
   ]
  },
  {
   "cell_type": "markdown",
   "id": "490bba24-f378-4703-8d29-4212b8c9a164",
   "metadata": {},
   "source": [
    "### By using slice\n",
    "##### l2 = l[start : end : stop]\n",
    "##### start -> It indicates the index where the slice has to start. The default value is 0.\n",
    "##### end -> It indicates the index where the slice has to end. The default value is max allowed index of list ie length of the list.\n",
    "##### increment value. Default value is 1"
   ]
  },
  {
   "cell_type": "code",
   "execution_count": 21,
   "id": "2af0a4b4-3e50-4178-aa92-23c4d0ae859b",
   "metadata": {},
   "outputs": [
    {
     "data": {
      "text/plain": [
       "[1, 2, 3, 4, 5, 6, 7, 8, 9, 10]"
      ]
     },
     "execution_count": 21,
     "metadata": {},
     "output_type": "execute_result"
    }
   ],
   "source": [
    "l = [1,2,3,4,5,6,7,8,9,10]\n",
    "l"
   ]
  },
  {
   "cell_type": "code",
   "execution_count": 24,
   "id": "89bd555b-3102-479f-a59e-bb4d91f47dd2",
   "metadata": {},
   "outputs": [
    {
     "data": {
      "text/plain": [
       "[]"
      ]
     },
     "execution_count": 24,
     "metadata": {},
     "output_type": "execute_result"
    }
   ],
   "source": [
    "l[:-1:-1]"
   ]
  },
  {
   "cell_type": "code",
   "execution_count": 25,
   "id": "da5371fd-514c-4181-9873-cb2227507d23",
   "metadata": {},
   "outputs": [
    {
     "data": {
      "text/plain": [
       "[]"
      ]
     },
     "execution_count": 25,
     "metadata": {},
     "output_type": "execute_result"
    }
   ],
   "source": [
    "l[:0:1]"
   ]
  },
  {
   "cell_type": "code",
   "execution_count": 26,
   "id": "94b402b9-572b-4b73-b3ce-02a86ab84c7f",
   "metadata": {},
   "outputs": [
    {
     "data": {
      "text/plain": [
       "[2, 4, 6, 8]"
      ]
     },
     "execution_count": 26,
     "metadata": {},
     "output_type": "execute_result"
    }
   ],
   "source": [
    "l[1:9:2]"
   ]
  },
  {
   "cell_type": "markdown",
   "id": "bffc6a9d-cdfd-4b2a-8c0a-0d4468bcc64d",
   "metadata": {},
   "source": [
    "# List vs Mutability"
   ]
  },
  {
   "cell_type": "markdown",
   "id": "8ebca562-edac-462b-8b3c-568421cf4038",
   "metadata": {},
   "source": [
    "#### once we craete the list we can change its content. Hence list objects are mutable."
   ]
  },
  {
   "cell_type": "code",
   "execution_count": 27,
   "id": "37a7d5ab-8e30-4916-a037-09dd5d4c2b8b",
   "metadata": {},
   "outputs": [
    {
     "name": "stdout",
     "output_type": "stream",
     "text": [
      "[1, 2, 3, 4, True, False, (10+20j), 'AI']\n",
      "[400, 2, 3, 4, True, False, (10+20j), 'AI']\n"
     ]
    }
   ],
   "source": [
    "l = [1,2,3,4,True,False,10+20j,'AI']\n",
    "print(l)\n",
    "l[0] = 400\n",
    "print(l)"
   ]
  },
  {
   "cell_type": "markdown",
   "id": "eee0376d-cd66-422b-a3dc-f4855c8f22c2",
   "metadata": {},
   "source": [
    "# Important Functions of List"
   ]
  },
  {
   "cell_type": "markdown",
   "id": "c32a32d2-5f7b-4c45-a14f-c318cc218d59",
   "metadata": {},
   "source": [
    "## 1. To get information about list"
   ]
  },
  {
   "cell_type": "markdown",
   "id": "e68da04a-4aa8-46b8-95b2-f392a23a6d6c",
   "metadata": {},
   "source": [
    "#### 1.1 len() - Returns the number of elements present in the list"
   ]
  },
  {
   "cell_type": "code",
   "execution_count": 28,
   "id": "82256cc7-e43f-4dc1-9079-7faca4b9fa18",
   "metadata": {},
   "outputs": [
    {
     "data": {
      "text/plain": [
       "8"
      ]
     },
     "execution_count": 28,
     "metadata": {},
     "output_type": "execute_result"
    }
   ],
   "source": [
    "l = [1,2,'ai',True,False,10+20j,20.25,[10,20,30,40]]\n",
    "len(l)"
   ]
  },
  {
   "cell_type": "code",
   "execution_count": 32,
   "id": "f77f93d8-c886-4c79-bb69-d7ba2b9b9d87",
   "metadata": {},
   "outputs": [
    {
     "data": {
      "text/plain": [
       "4"
      ]
     },
     "execution_count": 32,
     "metadata": {},
     "output_type": "execute_result"
    }
   ],
   "source": [
    "len(l[7])"
   ]
  },
  {
   "cell_type": "markdown",
   "id": "815a90a4-76a6-40cc-bce6-67c78f09c8af",
   "metadata": {},
   "source": [
    "#### 1.2 count() - Returns the number of occurrences of specified item in the list"
   ]
  },
  {
   "cell_type": "code",
   "execution_count": 36,
   "id": "c968c51b-ed0e-4932-abb5-c20db0eb57ec",
   "metadata": {},
   "outputs": [
    {
     "data": {
      "text/plain": [
       "4"
      ]
     },
     "execution_count": 36,
     "metadata": {},
     "output_type": "execute_result"
    }
   ],
   "source": [
    "l = [10,20,30,10,50,30,60,10,40,50,10,40,20,40]\n",
    "l.count(10)"
   ]
  },
  {
   "cell_type": "code",
   "execution_count": 37,
   "id": "1e801f1f-e94c-4892-ae36-cb8d7003e77c",
   "metadata": {},
   "outputs": [
    {
     "data": {
      "text/plain": [
       "2"
      ]
     },
     "execution_count": 37,
     "metadata": {},
     "output_type": "execute_result"
    }
   ],
   "source": [
    "l.count(20)"
   ]
  },
  {
   "cell_type": "code",
   "execution_count": 38,
   "id": "ed4603ae-e27d-4ffa-b239-bb2e83071cf6",
   "metadata": {},
   "outputs": [
    {
     "data": {
      "text/plain": [
       "3"
      ]
     },
     "execution_count": 38,
     "metadata": {},
     "output_type": "execute_result"
    }
   ],
   "source": [
    "l.count(40)"
   ]
  },
  {
   "cell_type": "markdown",
   "id": "32454358-0b8d-4f0a-8f98-41426f2250c6",
   "metadata": {},
   "source": [
    "#### 1.3 index() - Returns the index of first occurrence of the specified element item."
   ]
  },
  {
   "cell_type": "code",
   "execution_count": 39,
   "id": "de02fa9a-015b-42c8-86ee-08dd5bb21e3f",
   "metadata": {},
   "outputs": [
    {
     "data": {
      "text/plain": [
       "0"
      ]
     },
     "execution_count": 39,
     "metadata": {},
     "output_type": "execute_result"
    }
   ],
   "source": [
    "l = [10,20,30,10,50,30,60,10,40,50,10,40,20,40]\n",
    "l.index(10)"
   ]
  },
  {
   "cell_type": "code",
   "execution_count": 40,
   "id": "a9c23684-654c-4ce3-87da-a23e54563f61",
   "metadata": {},
   "outputs": [
    {
     "data": {
      "text/plain": [
       "8"
      ]
     },
     "execution_count": 40,
     "metadata": {},
     "output_type": "execute_result"
    }
   ],
   "source": [
    "l.index(40)"
   ]
  },
  {
   "cell_type": "markdown",
   "id": "050d47e6-5647-4924-9946-811a43103fc3",
   "metadata": {},
   "source": [
    "#### Note: if the specified element not present in the list then we will get ValueError. Henece before index() method we have to check whether item present in the list or not by using in operator."
   ]
  },
  {
   "cell_type": "code",
   "execution_count": 42,
   "id": "04f09ec3-b96e-407e-bdc2-1bf0af2ef7cb",
   "metadata": {},
   "outputs": [
    {
     "data": {
      "text/plain": [
       "False"
      ]
     },
     "execution_count": 42,
     "metadata": {},
     "output_type": "execute_result"
    }
   ],
   "source": [
    "100 in l"
   ]
  },
  {
   "cell_type": "code",
   "execution_count": 43,
   "id": "cf54a0d8-cf75-46c3-9078-c2de0d9867b8",
   "metadata": {},
   "outputs": [
    {
     "data": {
      "text/plain": [
       "True"
      ]
     },
     "execution_count": 43,
     "metadata": {},
     "output_type": "execute_result"
    }
   ],
   "source": [
    "40 in l"
   ]
  },
  {
   "cell_type": "markdown",
   "id": "38b6ceb0-10e9-4cb8-a0b5-bb91700a593c",
   "metadata": {},
   "source": [
    "## 2. To Manipulating Elements of list"
   ]
  },
  {
   "cell_type": "markdown",
   "id": "efcca93f-47a3-4448-9c38-320373bccea3",
   "metadata": {},
   "source": [
    "### 2.1 append() \n",
    "#### -> To add item at the end of the list."
   ]
  },
  {
   "cell_type": "code",
   "execution_count": 44,
   "id": "8f733308-fcef-4ab8-ad2c-114d541b1114",
   "metadata": {},
   "outputs": [
    {
     "data": {
      "text/plain": [
       "[10, 20, 30]"
      ]
     },
     "execution_count": 44,
     "metadata": {},
     "output_type": "execute_result"
    }
   ],
   "source": [
    "l = []\n",
    "l.append(10)\n",
    "l.append(20)\n",
    "l.append(30)\n",
    "l"
   ]
  },
  {
   "cell_type": "code",
   "execution_count": 45,
   "id": "28fad5c6-f57b-49fd-9e85-b4ed3dd86949",
   "metadata": {},
   "outputs": [
    {
     "data": {
      "text/plain": [
       "[0, 10, 20, 30, 40, 50, 60, 70, 80, 90, 100]"
      ]
     },
     "execution_count": 45,
     "metadata": {},
     "output_type": "execute_result"
    }
   ],
   "source": [
    "# to add all elements to list upto 100 which are divisible by 10\n",
    "l = []\n",
    "for i in range(101):\n",
    "    if i%10 == 0:\n",
    "        l.append(i)\n",
    "l"
   ]
  },
  {
   "cell_type": "markdown",
   "id": "493dfe76-01ce-4c92-8fa5-b55b6311bf7e",
   "metadata": {},
   "source": [
    "### 2.2 insert() \n",
    "#### to insert item at specified index position\n",
    "#### insert( index, object)"
   ]
  },
  {
   "cell_type": "code",
   "execution_count": 57,
   "id": "1d7b3c83-b9a1-4228-a8ce-f8dce69b3a74",
   "metadata": {},
   "outputs": [
    {
     "data": {
      "text/plain": [
       "[1, 1000, 2, 3, 4, 5, 6, 7]"
      ]
     },
     "execution_count": 57,
     "metadata": {},
     "output_type": "execute_result"
    }
   ],
   "source": [
    "l = [1,2,3,4,5,6,7]\n",
    "l.insert(1,1000)\n",
    "l"
   ]
  },
  {
   "cell_type": "code",
   "execution_count": 58,
   "id": "170f4f1c-3a8a-41d6-ad47-bafd5a8dbb5f",
   "metadata": {},
   "outputs": [
    {
     "data": {
      "text/plain": [
       "[1, 1000, 2, 3, 4, 5, 6, 200, 7]"
      ]
     },
     "execution_count": 58,
     "metadata": {},
     "output_type": "execute_result"
    }
   ],
   "source": [
    "l.insert(7,200)\n",
    "l"
   ]
  },
  {
   "cell_type": "markdown",
   "id": "36c8dfd8-9373-41a3-bc1f-515ee7272ac9",
   "metadata": {},
   "source": [
    "#### Note: if the specified index is greater than the max index then the elemet will be inserted at last position. if the specified index is smaller than min index then element willl be inserted at first position"
   ]
  },
  {
   "cell_type": "code",
   "execution_count": 59,
   "id": "1e465cf4-a119-46d8-b93e-ecef29de5802",
   "metadata": {},
   "outputs": [
    {
     "data": {
      "text/plain": [
       "[10, 20, 30, 500]"
      ]
     },
     "execution_count": 59,
     "metadata": {},
     "output_type": "execute_result"
    }
   ],
   "source": [
    "l = [10,20,30]\n",
    "l.insert(3,500)\n",
    "l"
   ]
  },
  {
   "cell_type": "code",
   "execution_count": 60,
   "id": "19d5f206-3c6e-4fbb-947b-6ee57b9b47af",
   "metadata": {},
   "outputs": [
    {
     "data": {
      "text/plain": [
       "[10, 3000, 20, 30]"
      ]
     },
     "execution_count": 60,
     "metadata": {},
     "output_type": "execute_result"
    }
   ],
   "source": [
    "l = [10,20,30]\n",
    "l.insert(-2,3000)\n",
    "l"
   ]
  },
  {
   "cell_type": "markdown",
   "id": "08ce408b-67be-4cae-90ba-a9acea05b216",
   "metadata": {},
   "source": [
    "#### 2.3 extend() To add all items of one list to another list.\n",
    "#### l1.extend(l2)\n",
    "#### all items present in l2 will be added to l1"
   ]
  },
  {
   "cell_type": "code",
   "execution_count": 62,
   "id": "fc6062dd-e2d6-49d9-bf89-8269e599b883",
   "metadata": {},
   "outputs": [
    {
     "data": {
      "text/plain": [
       "['chicken', 'mutton', 'fish', 'rc', 'kf', 'fo']"
      ]
     },
     "execution_count": 62,
     "metadata": {},
     "output_type": "execute_result"
    }
   ],
   "source": [
    "l1 = ['chicken','mutton','fish']\n",
    "l2 = ['rc','kf','fo']\n",
    "l1.extend(l2)\n",
    "l1"
   ]
  },
  {
   "cell_type": "markdown",
   "id": "cb2e2f50-1691-4307-932f-452f0b0c07f1",
   "metadata": {},
   "source": [
    "### 2.4 remove () -> \n",
    "#### we can use this function to remove specified item from the list. if the item present multiple times then only first occurrence will be removed.\n",
    "#### if the specified element not present not present we get ValueError"
   ]
  },
  {
   "cell_type": "code",
   "execution_count": 63,
   "id": "f4e79842-a0b6-4d68-87d9-810ff31d8306",
   "metadata": {},
   "outputs": [
    {
     "data": {
      "text/plain": [
       "[20, 30, 40, 50]"
      ]
     },
     "execution_count": 63,
     "metadata": {},
     "output_type": "execute_result"
    }
   ],
   "source": [
    "l = [10,20,30,40,50]\n",
    "l.remove(10)\n",
    "l"
   ]
  },
  {
   "cell_type": "code",
   "execution_count": 64,
   "id": "d810c313-902e-4bd1-a9af-b16895138fd7",
   "metadata": {},
   "outputs": [
    {
     "ename": "ValueError",
     "evalue": "list.remove(x): x not in list",
     "output_type": "error",
     "traceback": [
      "\u001b[1;31m---------------------------------------------------------------------------\u001b[0m",
      "\u001b[1;31mValueError\u001b[0m                                Traceback (most recent call last)",
      "Cell \u001b[1;32mIn[64], line 1\u001b[0m\n\u001b[1;32m----> 1\u001b[0m l\u001b[38;5;241m.\u001b[39mremove(\u001b[38;5;241m60\u001b[39m)\n",
      "\u001b[1;31mValueError\u001b[0m: list.remove(x): x not in list"
     ]
    }
   ],
   "source": [
    "l.remove(60)"
   ]
  },
  {
   "cell_type": "markdown",
   "id": "b3ae5323-2bbd-4e9d-8dbf-71d008024801",
   "metadata": {},
   "source": [
    "### 2.5 pop()\n",
    "#### It removes and return the last element of the list.\n",
    "#### This only function which manipulates list and return some element.\n",
    "#### In general we can use pop() function to remove last element of the list. but we can use to remove elements based on index.\n",
    "#### l.pop(index) -> To Remove and Return element present in the specified index.\n",
    "#### l.pop() -> To Remove and return last element of the list"
   ]
  },
  {
   "cell_type": "code",
   "execution_count": 67,
   "id": "8236ff9f-0829-488e-a4ca-7c411c10553b",
   "metadata": {},
   "outputs": [
    {
     "name": "stdout",
     "output_type": "stream",
     "text": [
      "abc\n",
      "[1, 2.5, (10+20j), True, False]\n"
     ]
    }
   ],
   "source": [
    "l = [1,2.5,10+20j,True,False,'abc']\n",
    "print(l.pop()) # it will remove last element from the list and it will return.\n",
    "print(l)"
   ]
  },
  {
   "cell_type": "markdown",
   "id": "e3b47e16-6107-45ab-a34a-53571908aa6f",
   "metadata": {},
   "source": [
    "### 2.6 clear()\n",
    "#### We can use clear() function to remove all elements of list."
   ]
  },
  {
   "cell_type": "code",
   "execution_count": 85,
   "id": "cd338dae-261a-4df0-9ad8-18d750327fb0",
   "metadata": {},
   "outputs": [
    {
     "data": {
      "text/plain": [
       "[]"
      ]
     },
     "execution_count": 85,
     "metadata": {},
     "output_type": "execute_result"
    }
   ],
   "source": [
    "l = [1,2.5,10+20j,True,False,'abc']\n",
    "l.clear()\n",
    "l"
   ]
  },
  {
   "cell_type": "markdown",
   "id": "02da9a62-8ecc-49a7-bb8e-e41eb87ac91e",
   "metadata": {},
   "source": [
    "# Differences between remove() and pop()"
   ]
  },
  {
   "cell_type": "markdown",
   "id": "868f72ee-d287-4c48-966e-2aa721de5cc2",
   "metadata": {},
   "source": [
    "# remove()\n",
    "#### 1. we can use to remove specific element in the list.\n",
    "#### 2. It won't return any value.\n",
    "#### 3. if the specified element not in list we get ValueError.\n",
    "# pop()\n",
    "#### 1. we can use to remove element from the list. if we not specified the element it will remove last element. if we specified element it will remove specified element\n",
    "#### 2. It will return removed element.\n",
    "#### 3. if list emppty then we get error."
   ]
  },
  {
   "cell_type": "markdown",
   "id": "b388ac1f-803b-4c9e-bed4-c5b55166b750",
   "metadata": {},
   "source": [
    "# 3. Ordering Elements of List"
   ]
  },
  {
   "cell_type": "markdown",
   "id": "8920ab85-611c-4e1e-ada6-4510b7d8b8a4",
   "metadata": {},
   "source": [
    "### 3.1 reverse()\n",
    "#### we can use to reverse() order of elements of list"
   ]
  },
  {
   "cell_type": "code",
   "execution_count": 70,
   "id": "ce592c4a-4034-4de1-a40f-96faf1dcecf9",
   "metadata": {},
   "outputs": [
    {
     "data": {
      "text/plain": [
       "[70, 60, 20, 30, 10]"
      ]
     },
     "execution_count": 70,
     "metadata": {},
     "output_type": "execute_result"
    }
   ],
   "source": [
    "l = [10,30,20,60,70]\n",
    "l.reverse()\n",
    "l"
   ]
  },
  {
   "cell_type": "markdown",
   "id": "e604891d-c322-4f8e-a9fc-c7ab0d00b826",
   "metadata": {},
   "source": [
    "### 3.2 sort()\n",
    "#### for numbers -> Default Natural sorting order Ascending Order.\n",
    "#### for Strings -> Default Natural sorting order Aphabetical Order."
   ]
  },
  {
   "cell_type": "code",
   "execution_count": 71,
   "id": "9ad88b57-9dd3-4d16-ba2d-6d681903d132",
   "metadata": {},
   "outputs": [
    {
     "data": {
      "text/plain": [
       "[10, 20, 30, 60, 70]"
      ]
     },
     "execution_count": 71,
     "metadata": {},
     "output_type": "execute_result"
    }
   ],
   "source": [
    "l = l = [10,30,20,60,70]\n",
    "l.sort()\n",
    "l"
   ]
  },
  {
   "cell_type": "code",
   "execution_count": 72,
   "id": "45e8aeaf-465f-42d0-b01e-6d32cd6efff4",
   "metadata": {},
   "outputs": [
    {
     "data": {
      "text/plain": [
       "[70, 60, 30, 20, 10]"
      ]
     },
     "execution_count": 72,
     "metadata": {},
     "output_type": "execute_result"
    }
   ],
   "source": [
    "l = l = [10,30,20,60,70]\n",
    "l.sort(reverse=True)\n",
    "l"
   ]
  },
  {
   "cell_type": "code",
   "execution_count": 73,
   "id": "1d4d3883-9f1a-4191-948d-f1a626516106",
   "metadata": {},
   "outputs": [
    {
     "data": {
      "text/plain": [
       "['Apple', 'Banana', 'Cat', 'Dog']"
      ]
     },
     "execution_count": 73,
     "metadata": {},
     "output_type": "execute_result"
    }
   ],
   "source": [
    "l = ['Dog','Banana','Cat','Apple']\n",
    "l.sort()\n",
    "l"
   ]
  },
  {
   "cell_type": "code",
   "execution_count": 74,
   "id": "6b92b9ac-3646-475a-9f02-43640d8b3ed1",
   "metadata": {},
   "outputs": [
    {
     "data": {
      "text/plain": [
       "['Dog', 'Cat', 'Banana', 'Apple']"
      ]
     },
     "execution_count": 74,
     "metadata": {},
     "output_type": "execute_result"
    }
   ],
   "source": [
    "l = ['Dog','Banana','Cat','Apple']\n",
    "l.sort(reverse=True)\n",
    "l"
   ]
  },
  {
   "cell_type": "markdown",
   "id": "c6482048-2327-40a1-a754-579c366a16f1",
   "metadata": {},
   "source": [
    "### Note: To use sort() function, compulsory list should contains only homogeneous elements otherwise we will get error."
   ]
  },
  {
   "cell_type": "code",
   "execution_count": 75,
   "id": "9ad955a6-086e-40c2-a9d1-26b3e9a0ae80",
   "metadata": {},
   "outputs": [
    {
     "ename": "TypeError",
     "evalue": "'<' not supported between instances of 'str' and 'int'",
     "output_type": "error",
     "traceback": [
      "\u001b[1;31m---------------------------------------------------------------------------\u001b[0m",
      "\u001b[1;31mTypeError\u001b[0m                                 Traceback (most recent call last)",
      "Cell \u001b[1;32mIn[75], line 2\u001b[0m\n\u001b[0;32m      1\u001b[0m l \u001b[38;5;241m=\u001b[39m [\u001b[38;5;241m10\u001b[39m,\u001b[38;5;241m30\u001b[39m,\u001b[38;5;241m20\u001b[39m,\u001b[38;5;241m60\u001b[39m,\u001b[38;5;241m70\u001b[39m,\u001b[38;5;124m'\u001b[39m\u001b[38;5;124mDog\u001b[39m\u001b[38;5;124m'\u001b[39m,\u001b[38;5;124m'\u001b[39m\u001b[38;5;124mBanana\u001b[39m\u001b[38;5;124m'\u001b[39m,\u001b[38;5;124m'\u001b[39m\u001b[38;5;124mCat\u001b[39m\u001b[38;5;124m'\u001b[39m,\u001b[38;5;124m'\u001b[39m\u001b[38;5;124mApple\u001b[39m\u001b[38;5;124m'\u001b[39m]\n\u001b[1;32m----> 2\u001b[0m l\u001b[38;5;241m.\u001b[39msort()\n",
      "\u001b[1;31mTypeError\u001b[0m: '<' not supported between instances of 'str' and 'int'"
     ]
    }
   ],
   "source": [
    "l = [10,30,20,60,70,'Dog','Banana','Cat','Apple']\n",
    "l.sort()"
   ]
  },
  {
   "cell_type": "markdown",
   "id": "36f737fc-5660-4a03-9969-ea476a5e97af",
   "metadata": {},
   "source": [
    "# Aliasing\n",
    "#### The process of giving another reference variable to the existing list is called aliasing\n",
    "#### The problem in this approach is by using one reference variable if we are changing content, then those changes will be reflected to the other reference variable"
   ]
  },
  {
   "cell_type": "code",
   "execution_count": 76,
   "id": "c1b8bdbd-53dd-4297-a24d-c2c000142272",
   "metadata": {},
   "outputs": [
    {
     "name": "stdout",
     "output_type": "stream",
     "text": [
      "2239261708288\n",
      "2239261708288\n"
     ]
    }
   ],
   "source": [
    "l1 = [10,20,30,'ai','da','ds']\n",
    "l1 = l2\n",
    "print(id(l1))\n",
    "print(id(l2))"
   ]
  },
  {
   "cell_type": "code",
   "execution_count": 77,
   "id": "fe528e72-6a47-4d6d-873b-8c255e657ede",
   "metadata": {},
   "outputs": [],
   "source": [
    "l2[2] = 100000"
   ]
  },
  {
   "cell_type": "code",
   "execution_count": 78,
   "id": "061ac1b5-3e91-453f-96ef-ae3b63f70e29",
   "metadata": {},
   "outputs": [
    {
     "name": "stdout",
     "output_type": "stream",
     "text": [
      "['rc', 'kf', 100000]\n",
      "['rc', 'kf', 100000]\n"
     ]
    }
   ],
   "source": [
    "print(l1)\n",
    "print(l2)"
   ]
  },
  {
   "cell_type": "markdown",
   "id": "67976938-4bf5-49d8-983c-44fdfd4e742c",
   "metadata": {},
   "source": [
    "# Cloning\n",
    "#### To Overcome this problem we should go for cloaning.\n",
    "#### The process of creating exactly duplicate independent object is called cloning.\n",
    "#### we can implement cloning by using slice operator and by using copy() function.\n",
    "## Slice Operator"
   ]
  },
  {
   "cell_type": "code",
   "execution_count": 79,
   "id": "87e44c08-3950-4ff7-8cc5-0dd2ef266ac2",
   "metadata": {},
   "outputs": [
    {
     "name": "stdout",
     "output_type": "stream",
     "text": [
      "2239263732544\n",
      "2239262816896\n"
     ]
    }
   ],
   "source": [
    "l1 = [10,20,30,'ai','da','ds']\n",
    "l2 = l1[:]\n",
    "print(id(l1))\n",
    "print(id(l2))"
   ]
  },
  {
   "cell_type": "code",
   "execution_count": 80,
   "id": "376a58cf-8a32-4a63-a04e-9e61a37c82ff",
   "metadata": {},
   "outputs": [
    {
     "data": {
      "text/plain": [
       "[10, 20, [300000], 'ai', 'da', 'ds']"
      ]
     },
     "execution_count": 80,
     "metadata": {},
     "output_type": "execute_result"
    }
   ],
   "source": [
    "l2[2] = [300000]\n",
    "l2"
   ]
  },
  {
   "cell_type": "code",
   "execution_count": 81,
   "id": "a6dc1a18-6e42-41b5-a7db-30aa494364a0",
   "metadata": {},
   "outputs": [
    {
     "data": {
      "text/plain": [
       "[10, 20, 30, 'ai', 'da', 'ds']"
      ]
     },
     "execution_count": 81,
     "metadata": {},
     "output_type": "execute_result"
    }
   ],
   "source": [
    "l1"
   ]
  },
  {
   "cell_type": "markdown",
   "id": "6ae37fd1-e4d7-4312-8d9c-c130f465ac97",
   "metadata": {},
   "source": [
    "## copy()"
   ]
  },
  {
   "cell_type": "code",
   "execution_count": 82,
   "id": "d29a8927-6578-46da-ab2d-55213280b359",
   "metadata": {},
   "outputs": [
    {
     "name": "stdout",
     "output_type": "stream",
     "text": [
      "2239263710848\n",
      "2239263836032\n"
     ]
    }
   ],
   "source": [
    "l1 = [10,20,30,'ai','da','ds']\n",
    "l2 = l1.copy()\n",
    "print(id(l1))\n",
    "print(id(l2))"
   ]
  },
  {
   "cell_type": "code",
   "execution_count": 83,
   "id": "327db2cc-2c47-4d62-8791-769c3853f90f",
   "metadata": {},
   "outputs": [
    {
     "data": {
      "text/plain": [
       "[10, 20, 50000000, 'ai', 'da', 'ds']"
      ]
     },
     "execution_count": 83,
     "metadata": {},
     "output_type": "execute_result"
    }
   ],
   "source": [
    "l2[2] = 50000000\n",
    "l2"
   ]
  },
  {
   "cell_type": "code",
   "execution_count": 84,
   "id": "dc6b17db-ed80-400d-a217-b866cc5a7866",
   "metadata": {},
   "outputs": [
    {
     "data": {
      "text/plain": [
       "[10, 20, 30, 'ai', 'da', 'ds']"
      ]
     },
     "execution_count": 84,
     "metadata": {},
     "output_type": "execute_result"
    }
   ],
   "source": [
    "l1"
   ]
  },
  {
   "cell_type": "markdown",
   "id": "e21805de-9b3b-42ce-a1f6-68bd4c41f516",
   "metadata": {},
   "source": [
    "# Q. difference between = operator and copy() function\n",
    "### = Operator meant for aliasing\n",
    "### copy() Function meant for cloning"
   ]
  },
  {
   "cell_type": "markdown",
   "id": "ff5043c5-56f3-43c0-9ff3-3e8a470fd258",
   "metadata": {},
   "source": [
    "# List Comprehensions\n",
    "#### It is a very easy and compact way of creating a list object from any iterable object like List, Tuple, Dictionary, based on some condition "
   ]
  },
  {
   "cell_type": "markdown",
   "id": "b4efac2d-2bd6-4ecb-8e29-7e38e6ff076e",
   "metadata": {},
   "source": [
    "## [ expression for item in list if condition]"
   ]
  },
  {
   "cell_type": "code",
   "execution_count": 86,
   "id": "bac811d3-6cf9-4ddc-aeb9-d6b1edb93217",
   "metadata": {},
   "outputs": [
    {
     "data": {
      "text/plain": [
       "[2, 4, 6, 8, 10, 12, 14, 16, 18]"
      ]
     },
     "execution_count": 86,
     "metadata": {},
     "output_type": "execute_result"
    }
   ],
   "source": [
    "l = [x for x in range(1,20) if x%2==0]\n",
    "l"
   ]
  },
  {
   "cell_type": "code",
   "execution_count": 90,
   "id": "1f911912-ace9-4d54-9797-17a5ccac3c84",
   "metadata": {},
   "outputs": [
    {
     "data": {
      "text/plain": [
       "[9, 36, 81, 144, 225, 324]"
      ]
     },
     "execution_count": 90,
     "metadata": {},
     "output_type": "execute_result"
    }
   ],
   "source": [
    "l = [x*x for x in range(1,20) if x%3==0]\n",
    "l"
   ]
  },
  {
   "cell_type": "code",
   "execution_count": 93,
   "id": "676c12b7-31d3-4e48-b355-3ec6c231df9e",
   "metadata": {},
   "outputs": [
    {
     "data": {
      "text/plain": [
       "[1600, 100, 400, 900]"
      ]
     },
     "execution_count": 93,
     "metadata": {},
     "output_type": "execute_result"
    }
   ],
   "source": [
    "l = [x*x for x in set([10,20,30,40])]\n",
    "l"
   ]
  },
  {
   "cell_type": "code",
   "execution_count": 94,
   "id": "90a2070d-704d-4c90-a3fc-838e229d032a",
   "metadata": {},
   "outputs": [
    {
     "data": {
      "text/plain": [
       "[10, 20]"
      ]
     },
     "execution_count": 94,
     "metadata": {},
     "output_type": "execute_result"
    }
   ],
   "source": [
    "l1 = [10,20,30,40]\n",
    "l2 = [30,40,50,60]\n",
    "l3 = [x for x in l1 if x not in l2]\n",
    "l3"
   ]
  },
  {
   "cell_type": "code",
   "execution_count": 95,
   "id": "f59596d6-0dda-4117-aa3b-875516736da9",
   "metadata": {},
   "outputs": [
    {
     "data": {
      "text/plain": [
       "[1, 3, 5, 7, 9]"
      ]
     },
     "execution_count": 95,
     "metadata": {},
     "output_type": "execute_result"
    }
   ],
   "source": [
    "l = [x for x in range(1,10) if x%2 != 0]\n",
    "l"
   ]
  },
  {
   "cell_type": "code",
   "execution_count": 98,
   "id": "4edaf3c0-4f22-4070-b924-eef238b69ff8",
   "metadata": {},
   "outputs": [
    {
     "data": {
      "text/plain": [
       "['d', 't', 's', 'c', 'n', 'c']"
      ]
     },
     "execution_count": 98,
     "metadata": {},
     "output_type": "execute_result"
    }
   ],
   "source": [
    "text = \"datascience\"\n",
    "l = [x for x in text if x not in 'aeiou']\n",
    "l"
   ]
  },
  {
   "cell_type": "code",
   "execution_count": 101,
   "id": "b75be455-140a-4559-981c-767937bb1127",
   "metadata": {},
   "outputs": [
    {
     "data": {
      "text/plain": [
       "['HELLO', 'WORLD', 'PYTHON']"
      ]
     },
     "execution_count": 101,
     "metadata": {},
     "output_type": "execute_result"
    }
   ],
   "source": [
    "words = [\"hello\", \"world\", \"python\"]\n",
    "capitalized = [x.upper() for x in words]\n",
    "capitalized "
   ]
  },
  {
   "cell_type": "code",
   "execution_count": null,
   "id": "3de41362-d5ac-431f-8e67-e856c410824b",
   "metadata": {},
   "outputs": [],
   "source": []
  }
 ],
 "metadata": {
  "kernelspec": {
   "display_name": "Python 3 (ipykernel)",
   "language": "python",
   "name": "python3"
  },
  "language_info": {
   "codemirror_mode": {
    "name": "ipython",
    "version": 3
   },
   "file_extension": ".py",
   "mimetype": "text/x-python",
   "name": "python",
   "nbconvert_exporter": "python",
   "pygments_lexer": "ipython3",
   "version": "3.12.7"
  }
 },
 "nbformat": 4,
 "nbformat_minor": 5
}
