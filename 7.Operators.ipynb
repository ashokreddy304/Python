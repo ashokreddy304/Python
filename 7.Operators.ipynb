{
 "cells": [
  {
   "cell_type": "markdown",
   "id": "5307754c-23c2-43d2-b4d6-d9f60d101be7",
   "metadata": {},
   "source": [
    "# Operators"
   ]
  },
  {
   "cell_type": "markdown",
   "id": "ecfc1a1f-fa99-4252-98fa-d64c6c002aa1",
   "metadata": {},
   "source": [
    "# Arithmetic operators"
   ]
  },
  {
   "cell_type": "markdown",
   "id": "8358d28a-a3b5-4038-8fc4-61915467b910",
   "metadata": {},
   "source": [
    "#### + -> Addition\n",
    "#### - -> Subtraction\n",
    "#### * -> Multiplication\n",
    "#### / -> Division \n",
    "#### % -> Modulo\n",
    "#### // -> Floor Division\n",
    "#### ** -> Power "
   ]
  },
  {
   "cell_type": "code",
   "execution_count": 2,
   "id": "bedf0c14-bd9f-4409-8cf5-8e30d64952c1",
   "metadata": {},
   "outputs": [
    {
     "name": "stdout",
     "output_type": "stream",
     "text": [
      "12\n",
      "8\n",
      "20\n",
      "5.0\n",
      "0\n",
      "5\n",
      "100\n"
     ]
    }
   ],
   "source": [
    "a,b = 10,2\n",
    "print(a+b)\n",
    "print(a-b)\n",
    "print(a*b)\n",
    "print(a/b)\n",
    "print(a%b)\n",
    "print(a//b)\n",
    "print(a**b)"
   ]
  },
  {
   "cell_type": "code",
   "execution_count": 3,
   "id": "6f6235eb-8353-4921-b276-d1a34a599958",
   "metadata": {},
   "outputs": [
    {
     "name": "stdout",
     "output_type": "stream",
     "text": [
      "12.5\n",
      "8.5\n",
      "21.0\n",
      "5.25\n",
      "0.5\n",
      "5.0\n",
      "110.25\n"
     ]
    }
   ],
   "source": [
    "a,b = 10.5,2\n",
    "print(a+b)\n",
    "print(a-b)\n",
    "print(a*b)\n",
    "print(a/b)\n",
    "print(a%b)\n",
    "print(a//b)\n",
    "print(a**b)"
   ]
  },
  {
   "cell_type": "markdown",
   "id": "2f0b647e-409c-4f18-a1ea-522d7865bee6",
   "metadata": {},
   "source": [
    "# The difference between / and //"
   ]
  },
  {
   "cell_type": "markdown",
   "id": "e0307691-3769-4eff-bf67-e95100a69c4e",
   "metadata": {},
   "source": [
    "- / (Division) operator always performs floating-point arithmetic. it always returns the float value.\n",
    "- // (Floor Division) performs both floating point and integral arithmetic. If arguments are of type int, then the result type is int. If one argument is a float, then the result is a float type"
   ]
  },
  {
   "cell_type": "markdown",
   "id": "42c74200-acaa-4343-a323-9c56b7613aee",
   "metadata": {},
   "source": [
    "## Note\n",
    "- we can use +, * operators for str type also.\n",
    "- If we want to use + operator for str type then compulsory both arguments should be str otherwise we will get error"
   ]
  },
  {
   "cell_type": "code",
   "execution_count": 4,
   "id": "6b92d567-66d3-4a42-9f14-0786a96c07bf",
   "metadata": {},
   "outputs": [
    {
     "data": {
      "text/plain": [
       "'abc10'"
      ]
     },
     "execution_count": 4,
     "metadata": {},
     "output_type": "execute_result"
    }
   ],
   "source": [
    "'abc'+'10'"
   ]
  },
  {
   "cell_type": "code",
   "execution_count": 5,
   "id": "9c117228-9d17-4919-a679-b693e8d77bb4",
   "metadata": {},
   "outputs": [
    {
     "ename": "TypeError",
     "evalue": "can only concatenate str (not \"int\") to str",
     "output_type": "error",
     "traceback": [
      "\u001b[1;31m---------------------------------------------------------------------------\u001b[0m",
      "\u001b[1;31mTypeError\u001b[0m                                 Traceback (most recent call last)",
      "Cell \u001b[1;32mIn[5], line 1\u001b[0m\n\u001b[1;32m----> 1\u001b[0m \u001b[38;5;124m'\u001b[39m\u001b[38;5;124mabc\u001b[39m\u001b[38;5;124m'\u001b[39m \u001b[38;5;241m+\u001b[39m \u001b[38;5;241m10\u001b[39m\n",
      "\u001b[1;31mTypeError\u001b[0m: can only concatenate str (not \"int\") to str"
     ]
    }
   ],
   "source": [
    "'abc' + 10"
   ]
  },
  {
   "cell_type": "markdown",
   "id": "8064c934-0569-4494-905a-4ac3c340f579",
   "metadata": {},
   "source": [
    "#### If we use the * operator for str, one argument should be int and the other argument should be str"
   ]
  },
  {
   "cell_type": "code",
   "execution_count": 6,
   "id": "31cfeaaf-9328-44f5-b396-c00724178be8",
   "metadata": {},
   "outputs": [
    {
     "data": {
      "text/plain": [
       "'abcabcabcabcabcabcabcabcabcabc'"
      ]
     },
     "execution_count": 6,
     "metadata": {},
     "output_type": "execute_result"
    }
   ],
   "source": [
    "'abc'*10"
   ]
  },
  {
   "cell_type": "code",
   "execution_count": 7,
   "id": "7f521c1a-0f71-450e-987b-3a75e119206b",
   "metadata": {},
   "outputs": [
    {
     "ename": "TypeError",
     "evalue": "can't multiply sequence by non-int of type 'str'",
     "output_type": "error",
     "traceback": [
      "\u001b[1;31m---------------------------------------------------------------------------\u001b[0m",
      "\u001b[1;31mTypeError\u001b[0m                                 Traceback (most recent call last)",
      "Cell \u001b[1;32mIn[7], line 1\u001b[0m\n\u001b[1;32m----> 1\u001b[0m \u001b[38;5;124m'\u001b[39m\u001b[38;5;124mabc\u001b[39m\u001b[38;5;124m'\u001b[39m \u001b[38;5;241m*\u001b[39m \u001b[38;5;124m'\u001b[39m\u001b[38;5;124mdef\u001b[39m\u001b[38;5;124m'\u001b[39m\n",
      "\u001b[1;31mTypeError\u001b[0m: can't multiply sequence by non-int of type 'str'"
     ]
    }
   ],
   "source": [
    "'abc' * 'def'"
   ]
  },
  {
   "cell_type": "markdown",
   "id": "6e77834c-8d94-430e-9e49-3d397d2c4d9a",
   "metadata": {},
   "source": [
    "# Relational operators\n",
    "### >,>=,<,<="
   ]
  },
  {
   "cell_type": "code",
   "execution_count": 8,
   "id": "769cf22b-6fef-41de-8ebd-46dd9af94253",
   "metadata": {},
   "outputs": [
    {
     "name": "stdout",
     "output_type": "stream",
     "text": [
      "a > b is False\n",
      "a >= b is False\n",
      "a < b is True\n",
      "a <= b is True\n"
     ]
    }
   ],
   "source": [
    "a,b = 10,20\n",
    "print(\"a > b is\",a>b)\n",
    "print(\"a >= b is\",a>=b)\n",
    "print(\"a < b is\",a<b)\n",
    "print(\"a <= b is\",a<=b)"
   ]
  },
  {
   "cell_type": "code",
   "execution_count": 11,
   "id": "84791740-961c-4ec8-ac2e-6200174d6fe4",
   "metadata": {},
   "outputs": [
    {
     "name": "stdout",
     "output_type": "stream",
     "text": [
      "a > b is False\n",
      "a >= b is False\n",
      "a < b is True\n",
      "a <= b is True\n"
     ]
    }
   ],
   "source": [
    "# We can apply relational operators for the str type also\n",
    "s1,s2 = 'ashok','data'\n",
    "print(\"a > b is\",a>b)\n",
    "print(\"a >= b is\",a>=b)\n",
    "print(\"a < b is\",a<b)\n",
    "print(\"a <= b is\",a<=b)"
   ]
  },
  {
   "cell_type": "code",
   "execution_count": 12,
   "id": "0fc0d6a6-eba4-4717-98ba-648532acdf57",
   "metadata": {},
   "outputs": [
    {
     "name": "stdout",
     "output_type": "stream",
     "text": [
      "False\n",
      "True\n",
      "False\n"
     ]
    }
   ],
   "source": [
    "print(True > True)\n",
    "print(10>True)\n",
    "print(False > True)"
   ]
  },
  {
   "cell_type": "code",
   "execution_count": 13,
   "id": "4b78b978-d91f-4808-b683-9dcea40dc70b",
   "metadata": {},
   "outputs": [
    {
     "name": "stdin",
     "output_type": "stream",
     "text": [
      "Enter 1st number: 10\n",
      "Enter 2cd number: 20\n"
     ]
    },
    {
     "name": "stdout",
     "output_type": "stream",
     "text": [
      "b is grater than a\n"
     ]
    }
   ],
   "source": [
    "a = int(input('Enter 1st number:'))\n",
    "b = int(input('Enter 2cd number:'))\n",
    "if a >b:\n",
    "    print(\"a is greater than b\")\n",
    "else:\n",
    "    print(\"b is grater than a\")"
   ]
  },
  {
   "cell_type": "markdown",
   "id": "0a5a233e-b6a4-47b5-bfff-2d14302ccef6",
   "metadata": {},
   "source": [
    "## Note"
   ]
  },
  {
   "cell_type": "markdown",
   "id": "bbd5cd58-98fd-4d15-926c-11c609dd6712",
   "metadata": {},
   "source": [
    "#### Chaining of relational operators is possible. In the chaining, all comparisons return True; then only result is True. at least one comparison returns a false result is False"
   ]
  },
  {
   "cell_type": "code",
   "execution_count": 14,
   "id": "6eed3cff-e03a-4ec8-a02f-49c473b0d824",
   "metadata": {},
   "outputs": [
    {
     "name": "stdout",
     "output_type": "stream",
     "text": [
      "True\n",
      "True\n",
      "False\n"
     ]
    }
   ],
   "source": [
    "print(10<20)\n",
    "print(10<20<30)\n",
    "print(10<20<30<40>50)"
   ]
  },
  {
   "cell_type": "markdown",
   "id": "8bdc82db-29bd-422d-b476-2f1877731a70",
   "metadata": {},
   "source": [
    "# Equality Operators \n",
    "#### ==, !="
   ]
  },
  {
   "cell_type": "code",
   "execution_count": 16,
   "id": "1d4ea9e9-584a-4535-aa20-aeb69f84a989",
   "metadata": {},
   "outputs": [
    {
     "name": "stdout",
     "output_type": "stream",
     "text": [
      "False\n",
      "True\n",
      "True\n",
      "False\n"
     ]
    }
   ],
   "source": [
    "print(10 == 20)\n",
    "print(10 != 20)\n",
    "print('ashok' == 'ashok')\n",
    "print(True == False)"
   ]
  },
  {
   "cell_type": "markdown",
   "id": "7185c1e6-45e6-466e-a77c-d6464bac4849",
   "metadata": {},
   "source": [
    "#### Chaining of Equality operators is possible. In the chaining, all comparisons return True; then only result is True. at least one comparison returns a false result is False."
   ]
  },
  {
   "cell_type": "markdown",
   "id": "0bfe2afa-e275-4733-b46a-4843b21f1886",
   "metadata": {},
   "source": [
    "# Logical Operators"
   ]
  },
  {
   "cell_type": "markdown",
   "id": "ecc677c0-ecf4-4ca9-aafa-292be482ed70",
   "metadata": {},
   "source": [
    "- and -> if both arguments are True, then only result is True\n",
    "- or -> if one argument is True, then the result is True\n",
    "- not -> Complement"
   ]
  },
  {
   "cell_type": "markdown",
   "id": "566c7bf5-a91d-4ff5-b453-b88d94de5613",
   "metadata": {},
   "source": [
    "- 0 means False\n",
    "- non-zero means False\n",
    "- empty string is always treated as False"
   ]
  },
  {
   "cell_type": "markdown",
   "id": "f0b04c2c-c23c-4da2-8be8-9c9daa8c1b7e",
   "metadata": {},
   "source": [
    "### x and y\n",
    "- if x evalutes to False then result is x other wise y"
   ]
  },
  {
   "cell_type": "code",
   "execution_count": 19,
   "id": "9b4ad57f-b427-41b7-9739-6932204a7d76",
   "metadata": {},
   "outputs": [
    {
     "data": {
      "text/plain": [
       "10"
      ]
     },
     "execution_count": 19,
     "metadata": {},
     "output_type": "execute_result"
    }
   ],
   "source": [
    "20 and 10"
   ]
  },
  {
   "cell_type": "code",
   "execution_count": 20,
   "id": "98f65577-523e-45df-9eb9-ab00698a912f",
   "metadata": {},
   "outputs": [
    {
     "data": {
      "text/plain": [
       "0"
      ]
     },
     "execution_count": 20,
     "metadata": {},
     "output_type": "execute_result"
    }
   ],
   "source": [
    "0 and 20"
   ]
  },
  {
   "cell_type": "code",
   "execution_count": 22,
   "id": "c62c2618-cdb2-4ee3-b945-290ece013dc3",
   "metadata": {},
   "outputs": [
    {
     "data": {
      "text/plain": [
       "''"
      ]
     },
     "execution_count": 22,
     "metadata": {},
     "output_type": "execute_result"
    }
   ],
   "source": [
    "'' and 20"
   ]
  },
  {
   "cell_type": "markdown",
   "id": "95eb0fe3-e55a-4526-891a-209c81523d6b",
   "metadata": {},
   "source": [
    "## x or y\n",
    "- if x evaluates to True, then result x otherwise result is y"
   ]
  },
  {
   "cell_type": "code",
   "execution_count": 23,
   "id": "49b762f9-dea9-4325-ab57-747473789e66",
   "metadata": {},
   "outputs": [
    {
     "name": "stdout",
     "output_type": "stream",
     "text": [
      "20\n"
     ]
    }
   ],
   "source": [
    "print(0 or 20)"
   ]
  },
  {
   "cell_type": "code",
   "execution_count": 25,
   "id": "f2c9d5ce-d077-4fb2-add8-edcf7b295902",
   "metadata": {},
   "outputs": [
    {
     "name": "stdout",
     "output_type": "stream",
     "text": [
      "10\n"
     ]
    }
   ],
   "source": [
    "print(10 or 20)"
   ]
  },
  {
   "cell_type": "code",
   "execution_count": 26,
   "id": "82a400ff-507d-432d-9874-f9cd00fa96d7",
   "metadata": {},
   "outputs": [
    {
     "name": "stdout",
     "output_type": "stream",
     "text": [
      "20\n"
     ]
    }
   ],
   "source": [
    "print('' or 20)"
   ]
  },
  {
   "cell_type": "markdown",
   "id": "f97230f2-2844-43ad-a203-a04f92dd33b4",
   "metadata": {},
   "source": [
    "## not x\n",
    "- if x is evalutated to False then result is True otherwise False."
   ]
  },
  {
   "cell_type": "code",
   "execution_count": 27,
   "id": "30950f70-67b9-4d7f-be30-3835e126db1d",
   "metadata": {},
   "outputs": [
    {
     "data": {
      "text/plain": [
       "False"
      ]
     },
     "execution_count": 27,
     "metadata": {},
     "output_type": "execute_result"
    }
   ],
   "source": [
    "not 10"
   ]
  },
  {
   "cell_type": "code",
   "execution_count": 28,
   "id": "92a29969-cbf0-4573-8f86-7ba4997626b6",
   "metadata": {},
   "outputs": [
    {
     "data": {
      "text/plain": [
       "True"
      ]
     },
     "execution_count": 28,
     "metadata": {},
     "output_type": "execute_result"
    }
   ],
   "source": [
    "not ''"
   ]
  },
  {
   "cell_type": "code",
   "execution_count": 29,
   "id": "2046dfdd-fdb0-42b5-a432-e4410470b3a8",
   "metadata": {},
   "outputs": [
    {
     "data": {
      "text/plain": [
       "True"
      ]
     },
     "execution_count": 29,
     "metadata": {},
     "output_type": "execute_result"
    }
   ],
   "source": [
    "not 0"
   ]
  },
  {
   "cell_type": "markdown",
   "id": "a8037e6c-386b-467d-9e7a-cd28fe009ce8",
   "metadata": {},
   "source": [
    "# Assignment Operators"
   ]
  },
  {
   "cell_type": "markdown",
   "id": "cae568e1-d172-4b00-bc0f-a6efc40032d8",
   "metadata": {},
   "source": [
    "### +=, -=,*=, /=, %=, //=, **=, &=, |=, ^=, >>=, <=="
   ]
  },
  {
   "cell_type": "code",
   "execution_count": 35,
   "id": "1c50cb7b-6667-4ae3-84ea-f02d5665f016",
   "metadata": {},
   "outputs": [
    {
     "data": {
      "text/plain": [
       "30"
      ]
     },
     "execution_count": 35,
     "metadata": {},
     "output_type": "execute_result"
    }
   ],
   "source": [
    "x = 10\n",
    "x += 20\n",
    "x"
   ]
  },
  {
   "cell_type": "code",
   "execution_count": 40,
   "id": "3f0f9aab-1e1f-4be3-9d59-eb4f01b6cca2",
   "metadata": {},
   "outputs": [
    {
     "data": {
      "text/plain": [
       "30"
      ]
     },
     "execution_count": 40,
     "metadata": {},
     "output_type": "execute_result"
    }
   ],
   "source": [
    "x = 10\n",
    "x = x+20\n",
    "x"
   ]
  },
  {
   "cell_type": "code",
   "execution_count": 38,
   "id": "1eb60dac-fbe0-4aaf-a048-4bae71cd1b68",
   "metadata": {},
   "outputs": [
    {
     "data": {
      "text/plain": [
       "-10"
      ]
     },
     "execution_count": 38,
     "metadata": {},
     "output_type": "execute_result"
    }
   ],
   "source": [
    "x = 10\n",
    "x -= 20\n",
    "x"
   ]
  },
  {
   "cell_type": "code",
   "execution_count": 39,
   "id": "4ee4eb3e-6476-4b55-9933-40fee26da75c",
   "metadata": {},
   "outputs": [
    {
     "data": {
      "text/plain": [
       "-10"
      ]
     },
     "execution_count": 39,
     "metadata": {},
     "output_type": "execute_result"
    }
   ],
   "source": [
    "x = 10\n",
    "x = x-20\n",
    "x"
   ]
  },
  {
   "cell_type": "markdown",
   "id": "96c750dc-a1d8-4fce-b3d3-1658c23c2d7a",
   "metadata": {},
   "source": [
    "# Tenary Operator or Conditional Operator"
   ]
  },
  {
   "cell_type": "markdown",
   "id": "8546ee66-d8c7-410a-83e7-352fc6a16348",
   "metadata": {},
   "source": [
    "### syntax x = firstValue if condition else secondValue.\n",
    "### If condition is True then firstValue will be considered else secondValue will be considered."
   ]
  },
  {
   "cell_type": "code",
   "execution_count": 41,
   "id": "f995b1d1-1f96-4551-9aca-ac6796d4bdc3",
   "metadata": {},
   "outputs": [
    {
     "name": "stdin",
     "output_type": "stream",
     "text": [
      "Enter 1st number:  10\n",
      "Enter 2cd number:  20\n"
     ]
    },
    {
     "data": {
      "text/plain": [
       "10"
      ]
     },
     "execution_count": 41,
     "metadata": {},
     "output_type": "execute_result"
    }
   ],
   "source": [
    "a = int(input('Enter 1st number: '))\n",
    "b = int(input('Enter 2cd number: '))\n",
    "min = a if a<b else b\n",
    "min"
   ]
  },
  {
   "cell_type": "code",
   "execution_count": 43,
   "id": "740140fb-afd1-4b88-a5a4-5e9d81f241ce",
   "metadata": {},
   "outputs": [
    {
     "name": "stdin",
     "output_type": "stream",
     "text": [
      "Enter 1st number:  10\n",
      "Enter 2cd number:  20\n",
      "Enter 3rd number:  30\n"
     ]
    },
    {
     "data": {
      "text/plain": [
       "30"
      ]
     },
     "execution_count": 43,
     "metadata": {},
     "output_type": "execute_result"
    }
   ],
   "source": [
    "a = int(input('Enter 1st number: '))\n",
    "b = int(input('Enter 2cd number: '))\n",
    "c = int(input('Enter 3rd number: '))\n",
    "max = a if a>b and a>c else b if b>c else c\n",
    "max"
   ]
  },
  {
   "cell_type": "code",
   "execution_count": 44,
   "id": "199afec7-292e-42f8-984a-2219a090d10a",
   "metadata": {},
   "outputs": [
    {
     "name": "stdin",
     "output_type": "stream",
     "text": [
      "Enter 1st number:  10\n",
      "Enter 2cd number:  20\n",
      "Enter 3rd number:  30\n"
     ]
    },
    {
     "data": {
      "text/plain": [
       "10"
      ]
     },
     "execution_count": 44,
     "metadata": {},
     "output_type": "execute_result"
    }
   ],
   "source": [
    "a = int(input('Enter 1st number: '))\n",
    "b = int(input('Enter 2cd number: '))\n",
    "c = int(input('Enter 3rd number: '))\n",
    "min = a if a<b and a<c else b if b<c else c\n",
    "min"
   ]
  },
  {
   "cell_type": "markdown",
   "id": "d7769f0a-d38b-4d87-9781-29a9f1be9c44",
   "metadata": {},
   "source": [
    "# Special Operators"
   ]
  },
  {
   "cell_type": "markdown",
   "id": "2108f725-2f5f-4a54-92c3-f5d69ab5f269",
   "metadata": {},
   "source": [
    "## Identity Operators"
   ]
  },
  {
   "cell_type": "markdown",
   "id": "242ee3c1-bb2d-47f1-8c66-aa8d9a1acb95",
   "metadata": {},
   "source": [
    "#### 1. We can use Identity operators for address comparison.\n",
    "#### 2. two types\n",
    "        - is\n",
    "        - is not\n",
    "- r1 is r2 returns True. If both r1 and r2 are pointing to the same object.\n",
    "- r1 is not r2 returns True. if both r1 and r2 are pointing to the same object."
   ]
  },
  {
   "cell_type": "code",
   "execution_count": 47,
   "id": "0717465c-a95f-47da-8512-9f0b5872d376",
   "metadata": {},
   "outputs": [
    {
     "data": {
      "text/plain": [
       "True"
      ]
     },
     "execution_count": 47,
     "metadata": {},
     "output_type": "execute_result"
    }
   ],
   "source": [
    "a,b = 10,10\n",
    "a is b"
   ]
  },
  {
   "cell_type": "code",
   "execution_count": 48,
   "id": "cd4cf924-fe4f-42c5-9bf5-16f98cee0373",
   "metadata": {},
   "outputs": [
    {
     "data": {
      "text/plain": [
       "False"
      ]
     },
     "execution_count": 48,
     "metadata": {},
     "output_type": "execute_result"
    }
   ],
   "source": [
    "a,b = 10,20\n",
    "a is b"
   ]
  },
  {
   "cell_type": "code",
   "execution_count": 49,
   "id": "8ee67f37-12d4-4c45-8c48-d45967ce2df1",
   "metadata": {},
   "outputs": [
    {
     "data": {
      "text/plain": [
       "True"
      ]
     },
     "execution_count": 49,
     "metadata": {},
     "output_type": "execute_result"
    }
   ],
   "source": [
    "a is not b"
   ]
  },
  {
   "cell_type": "markdown",
   "id": "670fff81-3379-44c0-af4a-e46a76d66eb4",
   "metadata": {},
   "source": [
    "### Note: \n",
    "### What is the difference between is and ==\n",
    "- is used to address comparison\n",
    "- == used to content comparison"
   ]
  },
  {
   "cell_type": "markdown",
   "id": "0249abf0-7cf0-4a9b-9f97-50d6d5e557ea",
   "metadata": {},
   "source": [
    "## Membership Operators"
   ]
  },
  {
   "cell_type": "markdown",
   "id": "7cbabf0b-9de9-4135-9478-b89e8b89cd39",
   "metadata": {},
   "source": [
    "#### We can use Membership Operators to check whether the given object is present in the given collection (str, list, tuple, dict, set)\n",
    "- --> in -> Returns True if the given object is present in the specified collection.\n",
    "- --> not in -> Returns True if the given object is not present in the specified collection."
   ]
  },
  {
   "cell_type": "code",
   "execution_count": 50,
   "id": "e9d1d318-c16f-4f94-ae0f-21d5caeccb65",
   "metadata": {},
   "outputs": [
    {
     "data": {
      "text/plain": [
       "True"
      ]
     },
     "execution_count": 50,
     "metadata": {},
     "output_type": "execute_result"
    }
   ],
   "source": [
    "x = 'Hello learning python is very easy'\n",
    "'H' in x"
   ]
  },
  {
   "cell_type": "code",
   "execution_count": 51,
   "id": "ee794d51-a9e6-44a7-a8a8-a6df6f981819",
   "metadata": {},
   "outputs": [
    {
     "data": {
      "text/plain": [
       "True"
      ]
     },
     "execution_count": 51,
     "metadata": {},
     "output_type": "execute_result"
    }
   ],
   "source": [
    "'i' in x"
   ]
  },
  {
   "cell_type": "code",
   "execution_count": 53,
   "id": "57e927f6-6a65-4ed3-9355-73c713828b12",
   "metadata": {},
   "outputs": [
    {
     "data": {
      "text/plain": [
       "False"
      ]
     },
     "execution_count": 53,
     "metadata": {},
     "output_type": "execute_result"
    }
   ],
   "source": [
    "'z' in x"
   ]
  },
  {
   "cell_type": "code",
   "execution_count": 54,
   "id": "dc774fa3-cd66-43f4-94dd-31e73d120a53",
   "metadata": {},
   "outputs": [
    {
     "data": {
      "text/plain": [
       "True"
      ]
     },
     "execution_count": 54,
     "metadata": {},
     "output_type": "execute_result"
    }
   ],
   "source": [
    "'z' not in x"
   ]
  },
  {
   "cell_type": "code",
   "execution_count": 55,
   "id": "2f7844da-bd0a-435d-af81-a471cceec247",
   "metadata": {},
   "outputs": [
    {
     "data": {
      "text/plain": [
       "False"
      ]
     },
     "execution_count": 55,
     "metadata": {},
     "output_type": "execute_result"
    }
   ],
   "source": [
    "l1 = [1,2.5,10+20j]\n",
    "l2 = [3,2.5,20,True]\n",
    "l1 in l2"
   ]
  },
  {
   "cell_type": "code",
   "execution_count": 56,
   "id": "da477ac6-ee13-434e-957d-d60cc25f39cc",
   "metadata": {},
   "outputs": [
    {
     "data": {
      "text/plain": [
       "True"
      ]
     },
     "execution_count": 56,
     "metadata": {},
     "output_type": "execute_result"
    }
   ],
   "source": [
    "1 in l1"
   ]
  },
  {
   "cell_type": "code",
   "execution_count": 57,
   "id": "caf5f1d3-e97d-46b3-9229-73bb820ff218",
   "metadata": {},
   "outputs": [
    {
     "data": {
      "text/plain": [
       "False"
      ]
     },
     "execution_count": 57,
     "metadata": {},
     "output_type": "execute_result"
    }
   ],
   "source": [
    "'abc' in l1"
   ]
  },
  {
   "cell_type": "code",
   "execution_count": 58,
   "id": "50598b93-c386-47a2-ba89-862c66a9f9ac",
   "metadata": {},
   "outputs": [
    {
     "data": {
      "text/plain": [
       "True"
      ]
     },
     "execution_count": 58,
     "metadata": {},
     "output_type": "execute_result"
    }
   ],
   "source": [
    "'abc' not in l1"
   ]
  },
  {
   "cell_type": "markdown",
   "id": "b9973bb5-f85b-4e11-8aed-92f47c9c9a0e",
   "metadata": {},
   "source": [
    "## Bit-wise operators "
   ]
  },
  {
   "cell_type": "markdown",
   "id": "da5524a0-d096-42c7-9c5a-0674c9e78a41",
   "metadata": {},
   "source": [
    "- Decimal form(base-10)\n",
    "    - The allowed digits are 0 to 9\n",
    "- Binary form (base-2)\n",
    "    - The allowed digits are 0 to 1"
   ]
  },
  {
   "cell_type": "markdown",
   "id": "e01cdd46-0b7e-4fc8-9994-deb87e3e67c6",
   "metadata": {},
   "source": [
    "### Converting decimal to binary"
   ]
  },
  {
   "cell_type": "markdown",
   "id": "666e6b09-8528-4979-8706-408abbe655da",
   "metadata": {},
   "source": [
    "7 is converting to binary\n",
    "\n",
    "```markdown\n",
    "| Base | Value | reminder |\n",
    "|------|-------|--------- |\n",
    "| 2    | 7     | 1        |\n",
    "| 2    | 3     | 1        |\n",
    "|      | 1     |          |\n"
   ]
  },
  {
   "cell_type": "code",
   "execution_count": 62,
   "id": "c8af4e32-600e-4e15-9502-61c5f8176cbe",
   "metadata": {},
   "outputs": [
    {
     "data": {
      "text/plain": [
       "'0b111'"
      ]
     },
     "execution_count": 62,
     "metadata": {},
     "output_type": "execute_result"
    }
   ],
   "source": [
    "bin(7)"
   ]
  },
  {
   "cell_type": "code",
   "execution_count": 63,
   "id": "0042ca53-62a6-4607-aac6-16b0a380e5af",
   "metadata": {},
   "outputs": [
    {
     "data": {
      "text/plain": [
       "'0b100'"
      ]
     },
     "execution_count": 63,
     "metadata": {},
     "output_type": "execute_result"
    }
   ],
   "source": [
    "bin(4)"
   ]
  },
  {
   "cell_type": "markdown",
   "id": "58cd43e0-b8b6-407a-90be-0dfde1ee4dad",
   "metadata": {},
   "source": [
    "- 4 is converting to binary\n",
    "\n",
    "```markdown\n",
    "| Base | Value | reminder |\n",
    "|------|-------|--------- |\n",
    "| 2    | 4     | 0        |\n",
    "| 2    | 1     | 0        |\n",
    "|      | 1     |          |\n"
   ]
  },
  {
   "cell_type": "markdown",
   "id": "3ae31db8-3ad6-4133-ba04-907fa68941f3",
   "metadata": {},
   "source": [
    "### 🔢 Binary to Decimal Conversion\n",
    "\n",
    "Convert `0b1011` to decimal:\n",
    "\n",
    "1*(2³) + 0*(2²) + 1*(2¹) + 1*(2⁰)  \n",
    "= 8 + 0 + 2 + 1  \n",
    "= 11\n"
   ]
  },
  {
   "cell_type": "code",
   "execution_count": 80,
   "id": "cf4987f9-c75d-4a1d-b219-0873f6658089",
   "metadata": {},
   "outputs": [
    {
     "data": {
      "text/plain": [
       "13"
      ]
     },
     "execution_count": 80,
     "metadata": {},
     "output_type": "execute_result"
    }
   ],
   "source": [
    "int(0b1101)"
   ]
  },
  {
   "cell_type": "markdown",
   "id": "2d165270-53c9-4a83-9533-f78549bac59f",
   "metadata": {},
   "source": [
    "Convert `0b1101` to decimal:\n",
    "\n",
    "1*(2³) + 1*(2²) + 0*(2¹) + 1*(2⁰)  \n",
    "= 8 + 0 + 4 + 1  \n",
    "= 13"
   ]
  },
  {
   "cell_type": "markdown",
   "id": "4e71d25f-73fe-4faf-9ee6-8478b09c1001",
   "metadata": {},
   "source": [
    "### Octal form (base-8)\n",
    "    - The allowed digits are 0-7\n",
    "    - It should be prefixed 0o (zero o (alpabet o))"
   ]
  },
  {
   "cell_type": "code",
   "execution_count": 81,
   "id": "fe36e4f6-efa1-47be-b6ae-82d53d58767c",
   "metadata": {},
   "outputs": [
    {
     "name": "stdout",
     "output_type": "stream",
     "text": [
      "<class 'int'>\n"
     ]
    }
   ],
   "source": [
    "x = 0o123\n",
    "print(type(x))"
   ]
  },
  {
   "cell_type": "markdown",
   "id": "da6c78bf-a027-4fb7-ace6-d66bb74c90e1",
   "metadata": {},
   "source": [
    "- int to oct form"
   ]
  },
  {
   "cell_type": "code",
   "execution_count": 116,
   "id": "0787bef9-6264-4432-afca-a05b133f9772",
   "metadata": {},
   "outputs": [
    {
     "data": {
      "text/plain": [
       "73"
      ]
     },
     "execution_count": 116,
     "metadata": {},
     "output_type": "execute_result"
    }
   ],
   "source": [
    "int(0o111)"
   ]
  },
  {
   "cell_type": "markdown",
   "id": "85425043-7a1a-401a-8f59-4111e4010590",
   "metadata": {},
   "source": [
    "- oct to int"
   ]
  },
  {
   "cell_type": "code",
   "execution_count": 113,
   "id": "0c665ae0-5277-4195-962e-50f68430c642",
   "metadata": {},
   "outputs": [
    {
     "data": {
      "text/plain": [
       "'0o214'"
      ]
     },
     "execution_count": 113,
     "metadata": {},
     "output_type": "execute_result"
    }
   ],
   "source": [
    "oct(140)"
   ]
  },
  {
   "cell_type": "markdown",
   "id": "2b364749-9284-42d9-b7c7-bf309a71a865",
   "metadata": {},
   "source": [
    "## Hexa decimal form(base-16)\n",
    "- It allowed digits to be 0 to 9, a - f (both lower case and upper case)\n",
    "- The literal value should be prefixed with 0x\n",
    "- a - 10\n",
    "- b - 11\n",
    "- c - 12\n",
    "- d - 13\n",
    "- e - 14\n",
    "- f - 15"
   ]
  },
  {
   "cell_type": "markdown",
   "id": "97a99351-0022-4c11-a938-c6d7347d54c9",
   "metadata": {},
   "source": [
    "''''\n",
    "0x123FACE  \n",
    "= 1×16⁶ + 2×16⁵ + 3×16⁴ + 15×16³ + 10×16² + 12×16¹ + 14×16⁰  \n",
    "= 16777216 + 2097152 + 196608 + 98304 + 2560 + 192 + 14  \n",
    "= 190887726 '''"
   ]
  },
  {
   "cell_type": "code",
   "execution_count": 120,
   "id": "46ae3133-85fe-4884-83fd-4f3dfb13e440",
   "metadata": {},
   "outputs": [
    {
     "data": {
      "text/plain": [
       "19135182"
      ]
     },
     "execution_count": 120,
     "metadata": {},
     "output_type": "execute_result"
    }
   ],
   "source": [
    "int(0x123face)\n",
    "x"
   ]
  },
  {
   "cell_type": "code",
   "execution_count": 124,
   "id": "3bf3712d-e959-4db3-9dc0-d281025d4735",
   "metadata": {},
   "outputs": [
    {
     "data": {
      "text/plain": [
       "'0x3039'"
      ]
     },
     "execution_count": 124,
     "metadata": {},
     "output_type": "execute_result"
    }
   ],
   "source": [
    "hex(12345)"
   ]
  },
  {
   "cell_type": "markdown",
   "id": "dd39f8ff-2eb3-4d06-8a23-dbb90ec6bbe6",
   "metadata": {},
   "source": [
    "### Bit-wise operator"
   ]
  },
  {
   "cell_type": "raw",
   "id": "bd1819d2-36af-4ff1-9602-5fd56421dc92",
   "metadata": {},
   "source": [
    "\n",
    "- We can apply these operators bitwise.\n",
    "- It applies only to int and boolean\n",
    "\n",
    "### 🧮 Bitwise Operators in Python\n",
    "\n",
    "| Symbol | Python Equivalent | Name/Operation         | Description                        |\n",
    "|--------|-------------------|------------------------|------------------------------------|\n",
    "| `&`    | `and`             | Bitwise AND            | Returns 1 if both bits are 1       |\n",
    "| `|`    | `or`              | Bitwise OR             | Returns 1 if at least one bit is 1 |\n",
    "| `^`    | `xor`             | Bitwise XOR            | Returns 1 if bits are different    |\n",
    "| `~`    | —                 | Bitwise Complement     | Inverts all bits                   |\n",
    "| `<<`   | —                 | Left Shift             | Shifts bits to the left            |\n",
    "| `>>`   | —                 | Right Shift            | Shifts bits to the right           |\n"
   ]
  },
  {
   "cell_type": "markdown",
   "id": "23f1e772-67a7-4f87-9814-43747d7cf909",
   "metadata": {},
   "source": [
    "- & both bits are 1 then the result is 1\n",
    "- | if at least one bit 1 then the result is 1\n",
    "- ^ both bits are different then result is 1"
   ]
  },
  {
   "cell_type": "code",
   "execution_count": 126,
   "id": "05e70b3b-faac-4946-9d44-df9ce888755c",
   "metadata": {},
   "outputs": [
    {
     "data": {
      "text/plain": [
       "'0b100'"
      ]
     },
     "execution_count": 126,
     "metadata": {},
     "output_type": "execute_result"
    }
   ],
   "source": [
    "bin(4)"
   ]
  },
  {
   "cell_type": "code",
   "execution_count": 127,
   "id": "21a0b733-8f58-4342-9f39-7b5f7cd99314",
   "metadata": {},
   "outputs": [
    {
     "data": {
      "text/plain": [
       "'0b101'"
      ]
     },
     "execution_count": 127,
     "metadata": {},
     "output_type": "execute_result"
    }
   ],
   "source": [
    "bin(5)"
   ]
  },
  {
   "cell_type": "code",
   "execution_count": 128,
   "id": "adfb059d-d63a-4a53-ab1f-d9a47940e575",
   "metadata": {},
   "outputs": [
    {
     "data": {
      "text/plain": [
       "4"
      ]
     },
     "execution_count": 128,
     "metadata": {},
     "output_type": "execute_result"
    }
   ],
   "source": [
    "5 & 4"
   ]
  },
  {
   "cell_type": "raw",
   "id": "a533e0f8-46d3-4c22-bb7b-c53d88d43de4",
   "metadata": {},
   "source": [
    "4 - 100\n",
    "5 - 101\n",
    "-------\n",
    "    100"
   ]
  },
  {
   "cell_type": "code",
   "execution_count": 130,
   "id": "5752bfcc-e402-4b99-8882-df7f44165c4d",
   "metadata": {},
   "outputs": [
    {
     "data": {
      "text/plain": [
       "6"
      ]
     },
     "execution_count": 130,
     "metadata": {},
     "output_type": "execute_result"
    }
   ],
   "source": [
    "6 & 7"
   ]
  },
  {
   "cell_type": "code",
   "execution_count": 129,
   "id": "bcdb9a3a-2fde-4d15-a8f6-aebe42f65ff9",
   "metadata": {},
   "outputs": [
    {
     "name": "stdout",
     "output_type": "stream",
     "text": [
      "0b110\n",
      "0b111\n"
     ]
    }
   ],
   "source": [
    "print(bin(6))\n",
    "print(bin(7))"
   ]
  },
  {
   "cell_type": "raw",
   "id": "7d4dc681-7a80-4c0f-8b4f-d15b06575b8d",
   "metadata": {},
   "source": [
    "110\n",
    "111\n",
    "---\n",
    "110\n",
    "--"
   ]
  },
  {
   "cell_type": "code",
   "execution_count": 131,
   "id": "32e78bab-5a2f-43cd-9cd3-fe0f7b5621f1",
   "metadata": {},
   "outputs": [
    {
     "data": {
      "text/plain": [
       "5"
      ]
     },
     "execution_count": 131,
     "metadata": {},
     "output_type": "execute_result"
    }
   ],
   "source": [
    "4 | 5"
   ]
  },
  {
   "cell_type": "raw",
   "id": "ca4448b8-2601-4a9e-8524-db493743212e",
   "metadata": {},
   "source": [
    "100\n",
    "101\n",
    "---\n",
    "101"
   ]
  },
  {
   "cell_type": "code",
   "execution_count": 133,
   "id": "e411c85e-c530-4fd8-91bf-84d802fbdcdd",
   "metadata": {},
   "outputs": [
    {
     "data": {
      "text/plain": [
       "15"
      ]
     },
     "execution_count": 133,
     "metadata": {},
     "output_type": "execute_result"
    }
   ],
   "source": [
    "7 | 8"
   ]
  },
  {
   "cell_type": "code",
   "execution_count": 132,
   "id": "151712d8-d442-40c8-816f-780025f242b3",
   "metadata": {},
   "outputs": [
    {
     "name": "stdout",
     "output_type": "stream",
     "text": [
      "0b111\n",
      "0b1000\n"
     ]
    }
   ],
   "source": [
    "print(bin(7))\n",
    "print(bin(8))"
   ]
  },
  {
   "cell_type": "markdown",
   "id": "e7fb691b-d09f-4394-af15-72aa5a50d205",
   "metadata": {},
   "source": [
    "- for 7 we got 0b111 and for 8 we got 0b1000. for we have to take values for 7 is 111 and o is 10000. we we are applying bitwise operator we need to add zero at starting position"
   ]
  },
  {
   "cell_type": "code",
   "execution_count": null,
   "id": "013aa2a9-2be2-4aaf-9c22-bbe7bad82d12",
   "metadata": {},
   "outputs": [],
   "source": [
    "0111\n",
    "1000\n",
    "====\n",
    "1111"
   ]
  },
  {
   "cell_type": "code",
   "execution_count": 134,
   "id": "833bc1d7-fa33-466d-b0b7-0aeeda1e2beb",
   "metadata": {},
   "outputs": [
    {
     "data": {
      "text/plain": [
       "15"
      ]
     },
     "execution_count": 134,
     "metadata": {},
     "output_type": "execute_result"
    }
   ],
   "source": [
    "int(0b1111)"
   ]
  },
  {
   "cell_type": "code",
   "execution_count": 135,
   "id": "253f1994-2773-4e7c-8da1-d5bc34dd8296",
   "metadata": {},
   "outputs": [
    {
     "name": "stdout",
     "output_type": "stream",
     "text": [
      "1\n"
     ]
    }
   ],
   "source": [
    "print(4^5)"
   ]
  },
  {
   "cell_type": "code",
   "execution_count": 136,
   "id": "a1606e8e-61d7-4c23-a40f-11367d31c68a",
   "metadata": {},
   "outputs": [
    {
     "data": {
      "text/plain": [
       "'0b110'"
      ]
     },
     "execution_count": 136,
     "metadata": {},
     "output_type": "execute_result"
    }
   ],
   "source": [
    "bin(6)"
   ]
  },
  {
   "cell_type": "code",
   "execution_count": 137,
   "id": "2ed9db70-1be0-4589-9a74-caf37456b1ea",
   "metadata": {},
   "outputs": [
    {
     "data": {
      "text/plain": [
       "'0b100'"
      ]
     },
     "execution_count": 137,
     "metadata": {},
     "output_type": "execute_result"
    }
   ],
   "source": [
    "bin(4)"
   ]
  },
  {
   "cell_type": "code",
   "execution_count": 138,
   "id": "d1c24a3a-b06e-40ce-b4c8-e4b9da1d1e5e",
   "metadata": {},
   "outputs": [
    {
     "data": {
      "text/plain": [
       "-65"
      ]
     },
     "execution_count": 138,
     "metadata": {},
     "output_type": "execute_result"
    }
   ],
   "source": [
    "~64"
   ]
  },
  {
   "cell_type": "markdown",
   "id": "cc6b16d6-fb6c-4a24-96f4-c2ae03f09caf",
   "metadata": {},
   "source": [
    "# Step-by-step: `~7` (Bitwise Complement)\n",
    "\n",
    "**Quick result:**  \n",
    "`~7 = -8`  \n",
    "Formula: `~n = -(n + 1)`"
   ]
  },
  {
   "cell_type": "markdown",
   "id": "c54c1590-5503-4ef1-9228-62c10b3c24cf",
   "metadata": {},
   "source": [
    "## Step 1 — Represent 7 in binary (8 bits)\n",
    "### Decimal: 7\n",
    "### Binary : 0000 0111"
   ]
  },
  {
   "cell_type": "markdown",
   "id": "7590e692-a405-410c-be20-6437ec98f73d",
   "metadata": {},
   "source": [
    "## Step 2 — Apply bitwise complement (~)\n",
    "Flip each bit (0 → 1, 1 → 0):"
   ]
  },
  {
   "cell_type": "markdown",
   "id": "1730fa4d-373d-4712-b2b6-5e655d9bdfe8",
   "metadata": {},
   "source": [
    "- Decimal: 7\n",
    "- Binary : 0000 0111\n",
    "- After ~ :\n",
    "- Binary : 1111 1000"
   ]
  },
  {
   "cell_type": "markdown",
   "id": "d7ae896e-53e9-4b01-ba06-fe6e1e91691e",
   "metadata": {},
   "source": [
    "`1111 1000` starts with `1` → negative number in two’s complement.\n",
    "\n",
    "## Step 3 — Convert `1111 1000` to decimal\n",
    "\n",
    "### Step 3.1 — Invert bits\n"
   ]
  },
  {
   "cell_type": "markdown",
   "id": "9267891d-a574-4de2-9a82-e9c6e82aabfe",
   "metadata": {},
   "source": [
    "- Binary : 1111 1000\n",
    "- Invert : 0000 0111"
   ]
  },
  {
   "cell_type": "markdown",
   "id": "79523a26-4a6d-4e39-99bc-bd8ad04e567c",
   "metadata": {},
   "source": [
    "#### Step 3.2 — Add 1\n",
    "- 0000 0111\n",
    "-             1\n",
    "- ---------\n",
    "- 0000 0110\n",
    "- ---------"
   ]
  },
  {
   "cell_type": "code",
   "execution_count": 139,
   "id": "17bd9e64-f22f-4a61-969a-e3a3c81d444c",
   "metadata": {},
   "outputs": [
    {
     "data": {
      "text/plain": [
       "-8"
      ]
     },
     "execution_count": 139,
     "metadata": {},
     "output_type": "execute_result"
    }
   ],
   "source": [
    "~7"
   ]
  },
  {
   "cell_type": "markdown",
   "id": "3ec52d23-b179-4a58-bb58-e9fe868c2c60",
   "metadata": {},
   "source": [
    "## 1. Left Shift (`<<`)\n",
    "- The left shift operator moves all bits to the **left** by the specified number of positions.  \n",
    "- Each left shift by `k` positions multiplies the number by `2^k`.\n",
    "- **Formula:**\n",
    "- n << k = n × (2^k)"
   ]
  },
  {
   "cell_type": "code",
   "execution_count": 141,
   "id": "67e88aef-d9ea-45e9-98b3-5c3f22f1875e",
   "metadata": {},
   "outputs": [
    {
     "data": {
      "text/plain": [
       "320"
      ]
     },
     "execution_count": 141,
     "metadata": {},
     "output_type": "execute_result"
    }
   ],
   "source": [
    "5<<6"
   ]
  },
  {
   "cell_type": "code",
   "execution_count": 145,
   "id": "494008f8-02ec-49c2-943e-a8c69d4eccd7",
   "metadata": {},
   "outputs": [
    {
     "data": {
      "text/plain": [
       "320"
      ]
     },
     "execution_count": 145,
     "metadata": {},
     "output_type": "execute_result"
    }
   ],
   "source": [
    "5*(2**6)"
   ]
  },
  {
   "cell_type": "markdown",
   "id": "5cad291b-4c8b-4747-bb9c-b2e93d8e6daa",
   "metadata": {},
   "source": [
    "## 2. Right Shift (`>>`)\n",
    "The right shift operator moves all bits to the **right** by the specified number of positions.  \n",
    "Each right shift by `k` positions divides the number by `2^k` (integer division).\n",
    "\n",
    "**Formula:**  \n",
    "- n >> k = n // (2^k)"
   ]
  },
  {
   "cell_type": "markdown",
   "id": "9ebc5770-8008-4a57-8ac9-dcd076491448",
   "metadata": {},
   "source": [
    "### Example: 20 >> 1\n"
   ]
  },
  {
   "cell_type": "code",
   "execution_count": 146,
   "id": "b07cc49f-d439-46db-acaa-073a9b5ba9c3",
   "metadata": {},
   "outputs": [
    {
     "data": {
      "text/plain": [
       "10"
      ]
     },
     "execution_count": 146,
     "metadata": {},
     "output_type": "execute_result"
    }
   ],
   "source": [
    "20//(2**1)"
   ]
  },
  {
   "cell_type": "code",
   "execution_count": 147,
   "id": "890c4540-cb13-41dc-9273-21e8ad94f3fc",
   "metadata": {},
   "outputs": [
    {
     "data": {
      "text/plain": [
       "10"
      ]
     },
     "execution_count": 147,
     "metadata": {},
     "output_type": "execute_result"
    }
   ],
   "source": [
    "20>>1"
   ]
  },
  {
   "cell_type": "markdown",
   "id": "320f5769-c472-4ba7-80f0-c5783669dbb9",
   "metadata": {},
   "source": [
    "# Operator Precedence\n",
    "### if multiple operators are present, then which operator will be evaluated first is decided by operator precedence\n",
    "-  () -> Parenthesis\n",
    "-  ** -> Exponential\n",
    "-  *, /, %, // -> Multiplication, Divison, Modulo, Floor Division\n",
    "-  +, - -> Addition, Subtraction\n",
    "-  <<, >> -> Left and right shift\n",
    "-  & -> Bitwise AND\n",
    "-  ^ -> Bitwise X-OR\n",
    "-  | -> Bitwise or\n",
    "-  >, >=, <, <=, ==, != -> Relational or Comparison\n",
    "-  =, +=, -=, *= -> Assignment \n",
    "-  is, is not -> Identity\n",
    "-  in, not in -> Membership\n",
    "-  not -> logical not\n",
    "-  and -> logical and\n",
    "-  or -> logical or"
   ]
  },
  {
   "cell_type": "code",
   "execution_count": 149,
   "id": "9f4283f0-fe98-4f4a-a2d1-db7cfadb8920",
   "metadata": {},
   "outputs": [
    {
     "data": {
      "text/plain": [
       "1"
      ]
     },
     "execution_count": 149,
     "metadata": {},
     "output_type": "execute_result"
    }
   ],
   "source": [
    "4 ^ 5"
   ]
  },
  {
   "cell_type": "code",
   "execution_count": null,
   "id": "e9d1f2f2-c623-44ac-83fd-fd040849ec6c",
   "metadata": {},
   "outputs": [],
   "source": []
  }
 ],
 "metadata": {
  "kernelspec": {
   "display_name": "Python 3 (ipykernel)",
   "language": "python",
   "name": "python3"
  },
  "language_info": {
   "codemirror_mode": {
    "name": "ipython",
    "version": 3
   },
   "file_extension": ".py",
   "mimetype": "text/x-python",
   "name": "python",
   "nbconvert_exporter": "python",
   "pygments_lexer": "ipython3",
   "version": "3.12.7"
  }
 },
 "nbformat": 4,
 "nbformat_minor": 5
}
