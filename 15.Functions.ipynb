{
 "cells": [
  {
   "cell_type": "markdown",
   "id": "a2cf3bcd-e65b-4999-8bab-7e6c19c64d53",
   "metadata": {},
   "source": [
    "# Function\n",
    "- If a group of statements is repeatedly required, then it is not recommended to rewrite these statements separately. we have to define these statements as a single unit, and we can call that unit any number of times based on our requirement without rewriting. This unit is nothing but Function.\n",
    "- The main advantage of functions is code Reusability.\n",
    "- Python supports 2 types of functions.\n",
    "    - Build in Function.\n",
    "    - User defined Function."
   ]
  },
  {
   "cell_type": "markdown",
   "id": "805d2531-aab6-4b81-9746-edd815d39864",
   "metadata": {},
   "source": [
    "### Built-in functions\n",
    "- The functions that come along with Python software automatically are called built-in functions or predefined functions.\n",
    "    - Example:\n",
    "    - id(), print(), type(), input(), eval() etc"
   ]
  },
  {
   "cell_type": "markdown",
   "id": "96f1140b-b1c2-4a1d-8fef-39f5d2b76024",
   "metadata": {},
   "source": [
    "### User Defined Functions\n",
    "\n",
    "- The functions that are developed by the programmer explicitly according to business requirements are called user-defined functions.\n",
    "- **Syntax:**\n",
    "\n",
    "```python\n",
    "def function_name(parameters):\n",
    "    ''' doc string '''\n",
    "    ---------\n",
    "    ---------\n",
    "    return"
   ]
  },
  {
   "cell_type": "markdown",
   "id": "6ab54a86-3162-4a6e-9e1c-993f6f2f2745",
   "metadata": {},
   "source": [
    "- While creating functions, we can use 2 keywords\n",
    "    - def (mandatory)\n",
    "    - return (optional)"
   ]
  },
  {
   "cell_type": "markdown",
   "id": "0ee7e6d9-edc4-4184-a2b8-86e8347f0092",
   "metadata": {},
   "source": [
    "- Example to write a function to print hello "
   ]
  },
  {
   "cell_type": "code",
   "execution_count": 1,
   "id": "1f156810-42b5-44f5-b3a7-f2c0c3715d1f",
   "metadata": {},
   "outputs": [
    {
     "name": "stdout",
     "output_type": "stream",
     "text": [
      "Hello Good Morning\n"
     ]
    }
   ],
   "source": [
    "def wish():\n",
    "    print('Hello Good Morning')\n",
    "wish()"
   ]
  },
  {
   "cell_type": "code",
   "execution_count": 3,
   "id": "d72f4248-2a1d-49e4-8a07-c3e0b0b21e54",
   "metadata": {},
   "outputs": [
    {
     "name": "stdout",
     "output_type": "stream",
     "text": [
      "Hello Good Morning\n"
     ]
    }
   ],
   "source": [
    "wish()"
   ]
  },
  {
   "cell_type": "code",
   "execution_count": 4,
   "id": "0083d8a9-6955-4597-ab95-6ceb172f2f6c",
   "metadata": {},
   "outputs": [
    {
     "name": "stdout",
     "output_type": "stream",
     "text": [
      "Hello Good Morning\n"
     ]
    }
   ],
   "source": [
    "wish()"
   ]
  },
  {
   "cell_type": "markdown",
   "id": "ff9b6313-8c96-4e8a-86bb-2371d2c59004",
   "metadata": {},
   "source": [
    "### Parameters\n",
    "- Parameters are input to the function. If the function contains parameters, then at the time of calling compulsory we should provide values; otherwise, we will get an error. "
   ]
  },
  {
   "cell_type": "markdown",
   "id": "40e29a2d-e754-409c-8aae-ef6c3f06d3da",
   "metadata": {},
   "source": [
    "#### WAF to take name of the student as input and print wish message by name"
   ]
  },
  {
   "cell_type": "code",
   "execution_count": 7,
   "id": "405fa352-ef53-404b-a5e5-5e09586d0617",
   "metadata": {},
   "outputs": [
    {
     "name": "stdout",
     "output_type": "stream",
     "text": [
      "Hello Ashok Good Morning\n"
     ]
    }
   ],
   "source": [
    "def wish(name):\n",
    "    print('Hello',name,'Good Morning')\n",
    "wish('Ashok')"
   ]
  },
  {
   "cell_type": "markdown",
   "id": "cd2af6c9-f772-4032-a0f6-f5b6e6e1c323",
   "metadata": {},
   "source": [
    "#### WAF to take a number as input and print its square"
   ]
  },
  {
   "cell_type": "code",
   "execution_count": 8,
   "id": "b7160f95-5077-4f4a-b49a-4de1c575b826",
   "metadata": {},
   "outputs": [
    {
     "name": "stdout",
     "output_type": "stream",
     "text": [
      "The number is 2 is square 4\n"
     ]
    }
   ],
   "source": [
    "def sqr(num):\n",
    "    print('The number is',num,'is square', num*num)\n",
    "sqr(2)"
   ]
  },
  {
   "cell_type": "code",
   "execution_count": 9,
   "id": "eea390a3-4a6c-43c3-9a02-cc74d7097c3c",
   "metadata": {},
   "outputs": [
    {
     "name": "stdout",
     "output_type": "stream",
     "text": [
      "The number is 123456789 is square 15241578750190521\n"
     ]
    }
   ],
   "source": [
    "sqr(123456789)"
   ]
  },
  {
   "cell_type": "markdown",
   "id": "fcc9241b-6cdf-44df-a0e9-5fa437311af2",
   "metadata": {},
   "source": [
    "### Return Statements\n",
    "- A function can take an input value as a parameter and execute business logic, and return output to the caller with a return statement."
   ]
  },
  {
   "cell_type": "code",
   "execution_count": 10,
   "id": "d246936e-2183-45fe-8df7-d6447975add8",
   "metadata": {},
   "outputs": [
    {
     "data": {
      "text/plain": [
       "30"
      ]
     },
     "execution_count": 10,
     "metadata": {},
     "output_type": "execute_result"
    }
   ],
   "source": [
    "def add(x,y):\n",
    "    return x+y\n",
    "add(10,20)"
   ]
  },
  {
   "cell_type": "code",
   "execution_count": 11,
   "id": "7a6aad6a-8917-4920-9047-aacd66db43d9",
   "metadata": {},
   "outputs": [
    {
     "data": {
      "text/plain": [
       "120"
      ]
     },
     "execution_count": 11,
     "metadata": {},
     "output_type": "execute_result"
    }
   ],
   "source": [
    "add(60,60)"
   ]
  },
  {
   "cell_type": "markdown",
   "id": "a06cd936-e2f2-4b33-bdc3-0cdc0319cc8e",
   "metadata": {},
   "source": [
    "### write a function to check whether the given number is Even or odd?"
   ]
  },
  {
   "cell_type": "code",
   "execution_count": 12,
   "id": "11ee9574-d681-402a-8774-62610bcf8b56",
   "metadata": {},
   "outputs": [
    {
     "name": "stdout",
     "output_type": "stream",
     "text": [
      "10 is Even number\n"
     ]
    }
   ],
   "source": [
    "def even_odd(num):\n",
    "    if num%2==0:\n",
    "        print(num,'is Even number')\n",
    "    else:\n",
    "        print(num,'is Odd number')\n",
    "even_odd(10)"
   ]
  },
  {
   "cell_type": "code",
   "execution_count": 13,
   "id": "91cb2333-53d8-48b8-b776-2290ef3da9e4",
   "metadata": {},
   "outputs": [
    {
     "name": "stdout",
     "output_type": "stream",
     "text": [
      "15 is Odd number\n"
     ]
    }
   ],
   "source": [
    "even_odd(15)"
   ]
  },
  {
   "cell_type": "markdown",
   "id": "2b363861-b080-4b0d-890e-593d2db7f381",
   "metadata": {},
   "source": [
    "### WAF to find Factorial of given number"
   ]
  },
  {
   "cell_type": "code",
   "execution_count": 14,
   "id": "57adf6ff-716f-4707-9dcd-5ad883598675",
   "metadata": {},
   "outputs": [
    {
     "name": "stdout",
     "output_type": "stream",
     "text": [
      "The factorial of 1 is: 1\n",
      "The factorial of 2 is: 2\n",
      "The factorial of 3 is: 6\n",
      "The factorial of 4 is: 24\n"
     ]
    }
   ],
   "source": [
    "def fact(num):\n",
    "    result = 1\n",
    "    while num>=1:\n",
    "        result = result*num\n",
    "        num = num-1\n",
    "    return result\n",
    "\n",
    "for i in range(1,5):\n",
    "    print('The factorial of',i,'is:',fact(i))"
   ]
  },
  {
   "cell_type": "markdown",
   "id": "94c23634-ee48-491b-8ad3-9b5202f3c311",
   "metadata": {},
   "source": [
    "### Returning Multiple Values from a Function\n",
    "- a function can return any number of values"
   ]
  },
  {
   "cell_type": "code",
   "execution_count": 15,
   "id": "7ad9bb5f-e0a6-44ee-8d43-d9e425de6cf4",
   "metadata": {},
   "outputs": [
    {
     "data": {
      "text/plain": [
       "(5, -1)"
      ]
     },
     "execution_count": 15,
     "metadata": {},
     "output_type": "execute_result"
    }
   ],
   "source": [
    "def sum_sub(a,b):\n",
    "    sum = a+b\n",
    "    sub = a-b\n",
    "    return sum,sub\n",
    "sum_sub(2,3)"
   ]
  },
  {
   "cell_type": "code",
   "execution_count": 17,
   "id": "0f2f9f09-a963-40c2-b87c-a77f114f9940",
   "metadata": {},
   "outputs": [
    {
     "data": {
      "text/plain": [
       "(15, 5)"
      ]
     },
     "execution_count": 17,
     "metadata": {},
     "output_type": "execute_result"
    }
   ],
   "source": [
    "sum_sub(10,5)"
   ]
  },
  {
   "cell_type": "code",
   "execution_count": 19,
   "id": "00f99df3-95f1-4fc9-ac2c-9bbe27ccae99",
   "metadata": {},
   "outputs": [
    {
     "data": {
      "text/plain": [
       "(3, -1, 2, 2, 4, 1, 0.5)"
      ]
     },
     "execution_count": 19,
     "metadata": {},
     "output_type": "execute_result"
    }
   ],
   "source": [
    "def cal(a,b):\n",
    "    sum = a+b\n",
    "    sub = a-b\n",
    "    mul = a*b\n",
    "    a_suq = a*2\n",
    "    b_suq = b*2\n",
    "    div = a%b\n",
    "    fdiv = a/b\n",
    "    return sum,sub,mul,a_suq,b_suq,div,fdiv\n",
    "cal(1,2)"
   ]
  },
  {
   "cell_type": "code",
   "execution_count": 20,
   "id": "3448c072-762c-475d-9d1d-21ae29ef9418",
   "metadata": {},
   "outputs": [
    {
     "data": {
      "text/plain": [
       "(1500, 500, 500000, 2000, 1000, 0, 2.0)"
      ]
     },
     "execution_count": 20,
     "metadata": {},
     "output_type": "execute_result"
    }
   ],
   "source": [
    "cal(1000,500)"
   ]
  },
  {
   "cell_type": "markdown",
   "id": "c5334ae3-2861-4ef2-938d-bd2a657255ba",
   "metadata": {},
   "source": [
    "## Types of Arguments\n",
    "\n",
    "```python\n",
    "def f1(a, b):\n",
    "    ------\n",
    "    ------\n",
    "f1(10, 20)\n",
    "\n",
    "a, b are formal arguments, whereas 10, 20 are actual arguments.\n",
    "There are 4 types of actual arguments allowed in Python:\n",
    "     1. Positional Arguments\n",
    "     2. Keyword Arguments\n",
    "     3. Default Arguments\n",
    "     4. Variable Length Arguments\n"
   ]
  },
  {
   "cell_type": "markdown",
   "id": "ed7c1f58-40ac-497a-9405-d94daa57e5f1",
   "metadata": {},
   "source": [
    "### Positional Arguments\n",
    "- There are the arguments passed to the function in correct positional order.\n",
    "- The number of arguments and the position of arguments must be matched. If we change the order, then the result may be changed.\n",
    "- If we change the number of arguments, then we will get an error."
   ]
  },
  {
   "cell_type": "code",
   "execution_count": 21,
   "id": "f3ff492d-edee-421f-b53f-b2b12ebb840b",
   "metadata": {},
   "outputs": [
    {
     "data": {
      "text/plain": [
       "-10"
      ]
     },
     "execution_count": 21,
     "metadata": {},
     "output_type": "execute_result"
    }
   ],
   "source": [
    "def sub(a,b):\n",
    "    return a-b\n",
    "sub(10,20)"
   ]
  },
  {
   "cell_type": "code",
   "execution_count": 22,
   "id": "f034d59f-228d-4780-b02e-5cec728d56e3",
   "metadata": {},
   "outputs": [
    {
     "data": {
      "text/plain": [
       "100"
      ]
     },
     "execution_count": 22,
     "metadata": {},
     "output_type": "execute_result"
    }
   ],
   "source": [
    "sub(200,100)"
   ]
  },
  {
   "cell_type": "markdown",
   "id": "86bfe27f-aadd-4c36-95c5-96a141c26a1e",
   "metadata": {},
   "source": [
    "### Keyword Arguments\n",
    "- We can pass argument values by keyword, that is parameter name"
   ]
  },
  {
   "cell_type": "code",
   "execution_count": 25,
   "id": "d2d77070-2618-4501-8705-22b19cc8e271",
   "metadata": {},
   "outputs": [
    {
     "data": {
      "text/plain": [
       "'Hello Ashok,Good Morning'"
      ]
     },
     "execution_count": 25,
     "metadata": {},
     "output_type": "execute_result"
    }
   ],
   "source": [
    "def wish(name,message):\n",
    "    return f'Hello {name},{message}'\n",
    "wish(name='Ashok',message='Good Morning')"
   ]
  },
  {
   "cell_type": "code",
   "execution_count": 26,
   "id": "d6531587-b21d-4193-aac0-3b117fb8d365",
   "metadata": {},
   "outputs": [
    {
     "data": {
      "text/plain": [
       "'Hello Reddy,Good Morning'"
      ]
     },
     "execution_count": 26,
     "metadata": {},
     "output_type": "execute_result"
    }
   ],
   "source": [
    "wish(message='Good Morning',name='Reddy')"
   ]
  },
  {
   "cell_type": "markdown",
   "id": "ab5fb841-c98f-4d8b-a7b3-108a411d236a",
   "metadata": {},
   "source": [
    "- Here the order of arguments is not important but number of arguments must be matched."
   ]
  },
  {
   "cell_type": "markdown",
   "id": "1a89a04c-e888-4a18-9482-2dfde2e3ee18",
   "metadata": {},
   "source": [
    "### Note\n",
    "- We can use both positional and keyword arguments simultaneously. But first, we have to take positional arguments and then keyword arguments; otherwise, we get an error."
   ]
  },
  {
   "cell_type": "code",
   "execution_count": 29,
   "id": "2384175c-b64b-49b9-806d-5f3e945f1b32",
   "metadata": {},
   "outputs": [
    {
     "data": {
      "text/plain": [
       "'hello ashok,good afternoon'"
      ]
     },
     "execution_count": 29,
     "metadata": {},
     "output_type": "execute_result"
    }
   ],
   "source": [
    "def wish(name,message):\n",
    "    return f'hello {name},{message}'\n",
    "wish('ashok',message='good afternoon')"
   ]
  },
  {
   "cell_type": "code",
   "execution_count": 30,
   "id": "4a36856b-8afa-4f85-9aeb-16ade451e84f",
   "metadata": {},
   "outputs": [
    {
     "ename": "SyntaxError",
     "evalue": "positional argument follows keyword argument (2062524780.py, line 3)",
     "output_type": "error",
     "traceback": [
      "\u001b[1;36m  Cell \u001b[1;32mIn[30], line 3\u001b[1;36m\u001b[0m\n\u001b[1;33m    wish(message='good afternoon','ashok')\u001b[0m\n\u001b[1;37m                                         ^\u001b[0m\n\u001b[1;31mSyntaxError\u001b[0m\u001b[1;31m:\u001b[0m positional argument follows keyword argument\n"
     ]
    }
   ],
   "source": [
    "def wish(name,message):\n",
    "    return f'hello {name},{message}'\n",
    "wish(message='good afternoon','ashok')"
   ]
  },
  {
   "cell_type": "markdown",
   "id": "6c91b5a6-4d5b-4b76-b4af-98d66df53b24",
   "metadata": {},
   "source": [
    "## Default Arguments\n",
    "- Sometimes we can provide default values for our positional arguments\n",
    "- If we are not passing any name, then only the default value will be considered.\n",
    "- After default arguments, we should not take non-default arguments."
   ]
  },
  {
   "cell_type": "code",
   "execution_count": 31,
   "id": "5e10d534-ed4c-4f11-897f-a2f34fe63df4",
   "metadata": {},
   "outputs": [
    {
     "data": {
      "text/plain": [
       "'hello,guest'"
      ]
     },
     "execution_count": 31,
     "metadata": {},
     "output_type": "execute_result"
    }
   ],
   "source": [
    "def wish(name='guest'):\n",
    "    return f\"hello,{name}\"\n",
    "wish()"
   ]
  },
  {
   "cell_type": "code",
   "execution_count": 32,
   "id": "671baafc-0352-448f-a9a5-245090d24c70",
   "metadata": {},
   "outputs": [
    {
     "data": {
      "text/plain": [
       "'hello,ashok'"
      ]
     },
     "execution_count": 32,
     "metadata": {},
     "output_type": "execute_result"
    }
   ],
   "source": [
    "wish('ashok')"
   ]
  },
  {
   "cell_type": "markdown",
   "id": "0763a28b-dd69-4afb-8d10-924218187ae5",
   "metadata": {},
   "source": [
    "## Variable Length arguments\n",
    "- Sometimes we can pass a variable number of arguments to our function, such type of arguments are called variable length arguments.\n",
    "- We can declare a variable-length arguments * symbols as follows.\n",
    "- def f1(*n)\n",
    "- We can call this function by passing any number of arguments, including zero.\n",
    "- Internally all these values represented in the form of tuple."
   ]
  },
  {
   "cell_type": "code",
   "execution_count": 36,
   "id": "64af0ae4-e339-4e77-bb97-192d53328162",
   "metadata": {},
   "outputs": [
    {
     "data": {
      "text/plain": [
       "10"
      ]
     },
     "execution_count": 36,
     "metadata": {},
     "output_type": "execute_result"
    }
   ],
   "source": [
    "def sum(*n):\n",
    "    total = 0\n",
    "    for n1 in n:\n",
    "        total += n1\n",
    "    return total\n",
    "\n",
    "sum(10)"
   ]
  },
  {
   "cell_type": "code",
   "execution_count": 37,
   "id": "28483b0b-deaf-425f-a791-4e24c371e888",
   "metadata": {},
   "outputs": [
    {
     "data": {
      "text/plain": [
       "60"
      ]
     },
     "execution_count": 37,
     "metadata": {},
     "output_type": "execute_result"
    }
   ],
   "source": [
    "sum(10,20,30)"
   ]
  },
  {
   "cell_type": "code",
   "execution_count": 38,
   "id": "a6eb63fd-8e48-47b4-8489-2b565e02008a",
   "metadata": {},
   "outputs": [
    {
     "data": {
      "text/plain": [
       "450"
      ]
     },
     "execution_count": 38,
     "metadata": {},
     "output_type": "execute_result"
    }
   ],
   "source": [
    "sum(10,20,30,40,50,60,70,80,90)"
   ]
  },
  {
   "cell_type": "markdown",
   "id": "9981c95d-76bb-483a-a6ca-185dc8d5aa49",
   "metadata": {},
   "source": [
    "### Note: We can mix variable-length arguments with positional arguments"
   ]
  },
  {
   "cell_type": "code",
   "execution_count": 45,
   "id": "1388fdf9-e23c-4bdf-8ad2-d73cf992f495",
   "metadata": {},
   "outputs": [
    {
     "name": "stdout",
     "output_type": "stream",
     "text": [
      "10\n",
      "10\n",
      "20\n",
      "30\n",
      "40\n"
     ]
    }
   ],
   "source": [
    "def f(n1,*s):\n",
    "    print(n1)\n",
    "    for s1 in s:\n",
    "        print(s1)\n",
    "f(10)\n",
    "f(10,20,30,40)"
   ]
  },
  {
   "cell_type": "code",
   "execution_count": 46,
   "id": "8eb585e5-d734-4d3f-987c-d73f8850907a",
   "metadata": {},
   "outputs": [
    {
     "name": "stdout",
     "output_type": "stream",
     "text": [
      "10\n",
      "a\n",
      "30\n",
      "b\n"
     ]
    }
   ],
   "source": [
    "f(10,'a',30,'b')"
   ]
  },
  {
   "cell_type": "markdown",
   "id": "8b7ea958-3875-4b38-89e1-1799fd645145",
   "metadata": {},
   "source": [
    "### Note: \n",
    "### After variable length argument, if we are taking any other arguments, then we should provide values as keyword arguments"
   ]
  },
  {
   "cell_type": "code",
   "execution_count": 48,
   "id": "1e5f8281-dca2-47a8-949f-de708de62dc0",
   "metadata": {},
   "outputs": [
    {
     "ename": "TypeError",
     "evalue": "f1() missing 1 required keyword-only argument: 'n1'",
     "output_type": "error",
     "traceback": [
      "\u001b[1;31m---------------------------------------------------------------------------\u001b[0m",
      "\u001b[1;31mTypeError\u001b[0m                                 Traceback (most recent call last)",
      "Cell \u001b[1;32mIn[48], line 5\u001b[0m\n\u001b[0;32m      3\u001b[0m         \u001b[38;5;28mprint\u001b[39m(s)\n\u001b[0;32m      4\u001b[0m     \u001b[38;5;28mprint\u001b[39m(n1)\n\u001b[1;32m----> 5\u001b[0m f1(\u001b[38;5;241m1\u001b[39m,\u001b[38;5;241m2\u001b[39m,\u001b[38;5;241m3\u001b[39m,\u001b[38;5;241m4\u001b[39m,\u001b[38;5;241m5\u001b[39m,\u001b[38;5;241m6\u001b[39m)\n",
      "\u001b[1;31mTypeError\u001b[0m: f1() missing 1 required keyword-only argument: 'n1'"
     ]
    }
   ],
   "source": [
    "def f1(*n,n1):\n",
    "    for s in n:\n",
    "        print(s)\n",
    "    print(n1)\n",
    "f1(1,2,3,4,5,6)"
   ]
  },
  {
   "cell_type": "code",
   "execution_count": 49,
   "id": "8f5b893f-a258-4b54-8465-7594ca5ef4e6",
   "metadata": {},
   "outputs": [
    {
     "name": "stdout",
     "output_type": "stream",
     "text": [
      "1\n",
      "2\n",
      "3\n",
      "4\n",
      "5\n",
      "6\n"
     ]
    }
   ],
   "source": [
    "def f1(*n,n1):\n",
    "    for s in n:\n",
    "        print(s)\n",
    "    print(n1)\n",
    "f1(1,2,3,4,5,n1=6)"
   ]
  },
  {
   "cell_type": "markdown",
   "id": "7f85e93c-4b1c-410c-81b4-c8fb6dbd8405",
   "metadata": {},
   "source": [
    "## We can declare keyword variable length arguments also.\n",
    "- for this we have to use **\n",
    "- def f1(**n)\n",
    "- We can call this function by passing any number of keyword arguments. Internally, these keyword arguments will be stored inside a dict."
   ]
  },
  {
   "cell_type": "code",
   "execution_count": 50,
   "id": "3de7dd45-ed3c-4d80-95ef-32191a813e8d",
   "metadata": {},
   "outputs": [
    {
     "name": "stdout",
     "output_type": "stream",
     "text": [
      "n1 - 10\n",
      "n2 - 20\n",
      "n3 - 30\n"
     ]
    }
   ],
   "source": [
    "def display(**kwargs):\n",
    "    for k,v in kwargs.items():\n",
    "        print(k,'-',v)\n",
    "display(n1=10,n2=20,n3=30)"
   ]
  },
  {
   "cell_type": "code",
   "execution_count": 56,
   "id": "571958a0-9c86-422f-b2a1-84b323991493",
   "metadata": {},
   "outputs": [
    {
     "name": "stdout",
     "output_type": "stream",
     "text": [
      "Roll_No - 101\n",
      "name - Ashok\n",
      "phone_No - 12345\n"
     ]
    }
   ],
   "source": [
    "display(Roll_No=101,name='Ashok',phone_No = 12345)"
   ]
  },
  {
   "cell_type": "markdown",
   "id": "550a776d-b770-419d-bec3-4acf724c66c1",
   "metadata": {},
   "source": [
    "## 🔁 Difference Between `*args` and `**kwargs`\n",
    "\n",
    "| Feature               | `*args`                                         | `**kwargs`                                      |\n",
    "|------------------------|--------------------------------------------------|-------------------------------------------------|\n",
    "| **Full Form**          | Arguments                                       | Keyword Arguments                               |\n",
    "| **Purpose**            | Passes **variable number of positional arguments** | Passes **variable number of keyword arguments** (key-value pairs) |\n",
    "| **Data Type**          | Tuple                                           | Dictionary                                      |\n",
    "| **Syntax**             | `*args`                                         | `**kwargs`                                      |\n",
    "| **How to Access**      | Iterate like a list/tuple                       | Use `.items()` to access keys and values        |\n",
    "| **Usage Scenario**     | When number of arguments is unknown (no keywords) | When number of named arguments is unknown       |\n",
    "| **Order in Function**  | Must come **before** `**kwargs`                | Must come **after** `*args`                     |\n"
   ]
  },
  {
   "cell_type": "markdown",
   "id": "8de78c61-e568-4b0a-80f6-167eae4fecd4",
   "metadata": {},
   "source": [
    "# Types of Variables\n",
    "- Global Variable\n",
    "- Local Variable"
   ]
  },
  {
   "cell_type": "markdown",
   "id": "6fbcf436-16ca-4d2f-bf9b-db8bda0f3d78",
   "metadata": {},
   "source": [
    "### Global Variable\n",
    "- The variables that are declared outside of a function are called global variables.\n",
    "- These variables can be accessed in all functions of that module."
   ]
  },
  {
   "cell_type": "code",
   "execution_count": 63,
   "id": "ac284b06-bff4-4ec9-a5bd-2d23732174cd",
   "metadata": {},
   "outputs": [
    {
     "name": "stdout",
     "output_type": "stream",
     "text": [
      "10\n"
     ]
    }
   ],
   "source": [
    "a = 10 # Global Variable\n",
    "def f1():\n",
    "    print(a)\n",
    "f1()"
   ]
  },
  {
   "cell_type": "code",
   "execution_count": 58,
   "id": "924a29fe-7747-47b7-b7db-973c9dc78e1e",
   "metadata": {},
   "outputs": [
    {
     "name": "stdout",
     "output_type": "stream",
     "text": [
      "10\n"
     ]
    }
   ],
   "source": [
    "def f2():\n",
    "    print(a)\n",
    "f2()"
   ]
  },
  {
   "cell_type": "markdown",
   "id": "eb0251a4-80d3-49dc-9ac8-2fc502e4de07",
   "metadata": {},
   "source": [
    "#### Local Variable \n",
    "- The variables that are declared inside the function are called local variables.\n",
    "- Local variables are available only for the function in which we declared. i.e, from outside of the function we can't access"
   ]
  },
  {
   "cell_type": "code",
   "execution_count": 64,
   "id": "3e0e9c94-b906-4da2-89b8-acff79316b2e",
   "metadata": {},
   "outputs": [
    {
     "name": "stdout",
     "output_type": "stream",
     "text": [
      "10\n"
     ]
    }
   ],
   "source": [
    "def f1():\n",
    "    b = 10 # Local Variable.\n",
    "    print(b)\n",
    "f1()"
   ]
  },
  {
   "cell_type": "code",
   "execution_count": 65,
   "id": "482deb66-b7e7-4e71-b5c5-d331318e0817",
   "metadata": {},
   "outputs": [
    {
     "ename": "NameError",
     "evalue": "name 'b' is not defined",
     "output_type": "error",
     "traceback": [
      "\u001b[1;31m---------------------------------------------------------------------------\u001b[0m",
      "\u001b[1;31mNameError\u001b[0m                                 Traceback (most recent call last)",
      "Cell \u001b[1;32mIn[65], line 3\u001b[0m\n\u001b[0;32m      1\u001b[0m \u001b[38;5;28;01mdef\u001b[39;00m\u001b[38;5;250m \u001b[39m\u001b[38;5;21mf3\u001b[39m():\n\u001b[0;32m      2\u001b[0m     \u001b[38;5;28mprint\u001b[39m(b)\n\u001b[1;32m----> 3\u001b[0m f3()\n",
      "Cell \u001b[1;32mIn[65], line 2\u001b[0m, in \u001b[0;36mf3\u001b[1;34m()\u001b[0m\n\u001b[0;32m      1\u001b[0m \u001b[38;5;28;01mdef\u001b[39;00m\u001b[38;5;250m \u001b[39m\u001b[38;5;21mf3\u001b[39m():\n\u001b[1;32m----> 2\u001b[0m     \u001b[38;5;28mprint\u001b[39m(b)\n",
      "\u001b[1;31mNameError\u001b[0m: name 'b' is not defined"
     ]
    }
   ],
   "source": [
    "def f3():\n",
    "    print(b)\n",
    "f3()"
   ]
  },
  {
   "cell_type": "markdown",
   "id": "37a6b283-4645-43ad-930d-d626c71b228e",
   "metadata": {},
   "source": [
    "# Global Keyword"
   ]
  },
  {
   "cell_type": "markdown",
   "id": "d69235a4-a97d-451a-9e19-93553da0a0a4",
   "metadata": {},
   "source": [
    "### We can use the global keyword for the following 2 purposes.\n",
    "- To declare a global variable inside the function.\n",
    "- To make global variable available to the function so that we can perform required modifications"
   ]
  },
  {
   "cell_type": "code",
   "execution_count": 71,
   "id": "95c393b5-7661-405a-baf5-aecd0020d222",
   "metadata": {},
   "outputs": [
    {
     "name": "stdout",
     "output_type": "stream",
     "text": [
      "777\n"
     ]
    }
   ],
   "source": [
    "a = 10\n",
    "def f1():\n",
    "    a = 777\n",
    "    print(a)\n",
    "f1()"
   ]
  },
  {
   "cell_type": "code",
   "execution_count": 73,
   "id": "dbe6bdaf-5078-4104-919b-5d2e2dc036ff",
   "metadata": {},
   "outputs": [
    {
     "name": "stdout",
     "output_type": "stream",
     "text": [
      "10\n"
     ]
    }
   ],
   "source": [
    "def f2():\n",
    "    print(a)\n",
    "f2()"
   ]
  },
  {
   "cell_type": "code",
   "execution_count": 74,
   "id": "6e8c837d-bde4-4e88-92c0-4fa831b5a7df",
   "metadata": {},
   "outputs": [
    {
     "name": "stdout",
     "output_type": "stream",
     "text": [
      "66\n"
     ]
    }
   ],
   "source": [
    "a = 10\n",
    "def f1():\n",
    "    global a \n",
    "    a = 66\n",
    "    print(a)\n",
    "f1()"
   ]
  },
  {
   "cell_type": "code",
   "execution_count": 75,
   "id": "f117eb4f-75b5-4bfb-9d7d-0baeeaa5363e",
   "metadata": {},
   "outputs": [
    {
     "name": "stdout",
     "output_type": "stream",
     "text": [
      "66\n"
     ]
    }
   ],
   "source": [
    "def f2():\n",
    "    print(a)\n",
    "f2()"
   ]
  },
  {
   "cell_type": "code",
   "execution_count": 84,
   "id": "8152dfee-a938-4f0a-a842-db29bde4e8bd",
   "metadata": {},
   "outputs": [
    {
     "name": "stdout",
     "output_type": "stream",
     "text": [
      "100\n"
     ]
    }
   ],
   "source": [
    "def f4():\n",
    "    z = 100\n",
    "    print(z)\n",
    "f4()"
   ]
  },
  {
   "cell_type": "code",
   "execution_count": 85,
   "id": "71588bcf-dd1d-472f-b453-64b1f7cda300",
   "metadata": {},
   "outputs": [
    {
     "ename": "NameError",
     "evalue": "name 'z' is not defined",
     "output_type": "error",
     "traceback": [
      "\u001b[1;31m---------------------------------------------------------------------------\u001b[0m",
      "\u001b[1;31mNameError\u001b[0m                                 Traceback (most recent call last)",
      "Cell \u001b[1;32mIn[85], line 3\u001b[0m\n\u001b[0;32m      1\u001b[0m \u001b[38;5;28;01mdef\u001b[39;00m\u001b[38;5;250m \u001b[39m\u001b[38;5;21mf5\u001b[39m():\n\u001b[0;32m      2\u001b[0m     \u001b[38;5;28mprint\u001b[39m(z)\n\u001b[1;32m----> 3\u001b[0m f5()\n",
      "Cell \u001b[1;32mIn[85], line 2\u001b[0m, in \u001b[0;36mf5\u001b[1;34m()\u001b[0m\n\u001b[0;32m      1\u001b[0m \u001b[38;5;28;01mdef\u001b[39;00m\u001b[38;5;250m \u001b[39m\u001b[38;5;21mf5\u001b[39m():\n\u001b[1;32m----> 2\u001b[0m     \u001b[38;5;28mprint\u001b[39m(z)\n",
      "\u001b[1;31mNameError\u001b[0m: name 'z' is not defined"
     ]
    }
   ],
   "source": [
    "def f5():\n",
    "    print(z)\n",
    "f5()"
   ]
  },
  {
   "cell_type": "code",
   "execution_count": 89,
   "id": "2202bbb8-c58f-4ae7-92fb-75ebc7da8406",
   "metadata": {},
   "outputs": [
    {
     "name": "stdout",
     "output_type": "stream",
     "text": [
      "100\n",
      "100\n"
     ]
    }
   ],
   "source": [
    "def f4():\n",
    "    global z\n",
    "    z = 100\n",
    "    print(z)\n",
    "def f5():\n",
    "    print(z)\n",
    "f4()\n",
    "f5()"
   ]
  },
  {
   "cell_type": "markdown",
   "id": "07e8c647-4a36-4a71-a0ed-2d0da3379fb2",
   "metadata": {},
   "source": [
    "## If a global variable and a local variable have the same name, then we can access the global variable inside a function as follows "
   ]
  },
  {
   "cell_type": "code",
   "execution_count": 90,
   "id": "0a380e20-09d0-4702-ab16-620b998b3a03",
   "metadata": {},
   "outputs": [
    {
     "name": "stdout",
     "output_type": "stream",
     "text": [
      "100\n"
     ]
    }
   ],
   "source": [
    "x = 120 # Global Variable\n",
    "def f6():\n",
    "    x = 100 # Local Variable\n",
    "    print(x)\n",
    "f6()"
   ]
  },
  {
   "cell_type": "markdown",
   "id": "b4ae093e-a5eb-42e5-b9fe-6b95c46310ad",
   "metadata": {},
   "source": [
    "- If we assign the same name to a local and a global variable, and we call the variable, we get only the local variable. 1st, it checks the local variable if it is available, then it will return "
   ]
  },
  {
   "cell_type": "code",
   "execution_count": 92,
   "id": "7189f218-24cb-467c-8476-6bde140be267",
   "metadata": {},
   "outputs": [
    {
     "name": "stdout",
     "output_type": "stream",
     "text": [
      "100\n",
      "120\n"
     ]
    }
   ],
   "source": [
    "x = 120 # Global Variable\n",
    "def f6():\n",
    "    x = 100 # Local Variable\n",
    "    print(x)\n",
    "    print(globals()['x']) # To access global variable.\n",
    "f6()"
   ]
  },
  {
   "cell_type": "markdown",
   "id": "365d9393-d5b9-4bd9-b587-d27a9e540221",
   "metadata": {},
   "source": [
    "## Recursive Functions\n",
    "- A function that calls itself is known as a Recursive Function\n",
    "- Advantages of recursive function:\n",
    "    - We can reduce the length of the code and improve readability.\n",
    "    - We can solve complex problems easily"
   ]
  },
  {
   "cell_type": "code",
   "execution_count": 114,
   "id": "561a935a-f15c-412f-b21a-60693706fb8d",
   "metadata": {},
   "outputs": [
    {
     "name": "stdout",
     "output_type": "stream",
     "text": [
      "Factorial 5 of 120\n"
     ]
    }
   ],
   "source": [
    "n = 5\n",
    "j = 1\n",
    "for i in range(1,n+1):\n",
    "    j = j*i\n",
    "print('Factorial {} of {}'.format(i,j))"
   ]
  },
  {
   "cell_type": "code",
   "execution_count": 112,
   "id": "e75e634a-71b6-4aaa-9f66-e404ba315f13",
   "metadata": {},
   "outputs": [
    {
     "data": {
      "text/plain": [
       "120"
      ]
     },
     "execution_count": 112,
     "metadata": {},
     "output_type": "execute_result"
    }
   ],
   "source": [
    "def fact(n):\n",
    "    if n==0:\n",
    "        result = 1\n",
    "    else:\n",
    "        result = n*fact(n-1)\n",
    "    return result\n",
    "fact(5)"
   ]
  },
  {
   "cell_type": "markdown",
   "id": "24f33b5a-87b3-427e-a12a-25c1fde05b5e",
   "metadata": {},
   "source": [
    "# Anonymous Functions\n",
    "- Sometimes we can declare a function without any name; such a type of nameless function is called an anonymous function or a lambda function.\n",
    "- The main purpose of an anonymous function is just for instant use."
   ]
  },
  {
   "cell_type": "markdown",
   "id": "7220675d-c865-4b28-84a7-e819089bcfaf",
   "metadata": {},
   "source": [
    "### 1. Lambda function\n",
    "- We can define by using the lambda keyword lambda n:n*n\n",
    "- syntax:\n",
    "    - argumrnt_list : expression\n",
    "- By using a lambda function, we can write very concise code, so the readability of the program will be improved "
   ]
  },
  {
   "cell_type": "markdown",
   "id": "9ce54930-01ab-46f9-bb9e-76abdcde0398",
   "metadata": {},
   "source": [
    "- WAP to create lambda function to find square of given number."
   ]
  },
  {
   "cell_type": "code",
   "execution_count": 115,
   "id": "f21a0142-af7f-400e-addc-a81ca42229ee",
   "metadata": {},
   "outputs": [
    {
     "data": {
      "text/plain": [
       "100"
      ]
     },
     "execution_count": 115,
     "metadata": {},
     "output_type": "execute_result"
    }
   ],
   "source": [
    "s = lambda n : n*n\n",
    "s(10)"
   ]
  },
  {
   "cell_type": "code",
   "execution_count": 116,
   "id": "0254154d-a1a7-4762-8aaf-ab88b7099efa",
   "metadata": {},
   "outputs": [
    {
     "data": {
      "text/plain": [
       "40000"
      ]
     },
     "execution_count": 116,
     "metadata": {},
     "output_type": "execute_result"
    }
   ],
   "source": [
    "s(200)"
   ]
  },
  {
   "cell_type": "markdown",
   "id": "35f7cfa3-a487-45c6-85ea-7f948e483e04",
   "metadata": {},
   "source": [
    "- WAP TO Find sum of 2 numbers"
   ]
  },
  {
   "cell_type": "code",
   "execution_count": 118,
   "id": "776acc2c-d8c1-4c70-882c-55a1c8498574",
   "metadata": {},
   "outputs": [
    {
     "name": "stdout",
     "output_type": "stream",
     "text": [
      "30\n",
      "300\n"
     ]
    }
   ],
   "source": [
    "sum = lambda a,b:a+b\n",
    "print(sum(10,20))\n",
    "print(sum(100,200))"
   ]
  },
  {
   "cell_type": "markdown",
   "id": "3cd45915-51bb-47cf-bc5f-113b65190f78",
   "metadata": {},
   "source": [
    "- WAP to find biggest of given two numbers"
   ]
  },
  {
   "cell_type": "code",
   "execution_count": 120,
   "id": "c4bd6da5-311c-4b67-bc72-d0e121428b20",
   "metadata": {},
   "outputs": [
    {
     "data": {
      "text/plain": [
       "20"
      ]
     },
     "execution_count": 120,
     "metadata": {},
     "output_type": "execute_result"
    }
   ],
   "source": [
    "big_num = lambda a,b,c: a if a>b else b if b>c else c\n",
    "big_num(10,12,20)"
   ]
  },
  {
   "cell_type": "markdown",
   "id": "bac1d6e9-420f-4140-9811-39b960795089",
   "metadata": {},
   "source": [
    "- fact number by using lambda"
   ]
  },
  {
   "cell_type": "code",
   "execution_count": 132,
   "id": "3438c79b-b40b-431f-b572-a518a73d2a49",
   "metadata": {},
   "outputs": [
    {
     "data": {
      "text/plain": [
       "120"
      ]
     },
     "execution_count": 132,
     "metadata": {},
     "output_type": "execute_result"
    }
   ],
   "source": [
    "fact = lambda a,b,c,d,e : a*b*c*d*e\n",
    "fact(1,2,3,4,5)"
   ]
  },
  {
   "cell_type": "markdown",
   "id": "07db0a10-8f28-4588-8e2b-ad6ff27e5f45",
   "metadata": {},
   "source": [
    "# filter() function:\n",
    "- We can use filter() function to filter values from the given sequence based on some condition.\n",
    "### filter(function,sequence)\n",
    "- Where the function argument is responsible for performing a conditional check sequence can be List, Tuple, string"
   ]
  },
  {
   "cell_type": "code",
   "execution_count": 137,
   "id": "d2f3f223-bbd4-490d-9a56-b374690f52aa",
   "metadata": {},
   "outputs": [
    {
     "data": {
      "text/plain": [
       "[2, 4, 6]"
      ]
     },
     "execution_count": 137,
     "metadata": {},
     "output_type": "execute_result"
    }
   ],
   "source": [
    "def isEven(x):\n",
    "    if x%2==0:\n",
    "        return True\n",
    "    else:\n",
    "        return False\n",
    "l = [1,2,3,4,5,6]\n",
    "l2 =  list(filter(isEven,l))\n",
    "l2"
   ]
  },
  {
   "cell_type": "code",
   "execution_count": 138,
   "id": "092dabe0-020e-49b1-a02e-9f6f32859df7",
   "metadata": {},
   "outputs": [
    {
     "data": {
      "text/plain": [
       "[2, 4, 6]"
      ]
     },
     "execution_count": 138,
     "metadata": {},
     "output_type": "execute_result"
    }
   ],
   "source": [
    "l = [1,2,3,4,5,6]\n",
    "l1 = list(filter(lambda a : a%2==0,l))\n",
    "l1"
   ]
  },
  {
   "cell_type": "markdown",
   "id": "189d9c88-265e-468d-9802-a1b2b17757e3",
   "metadata": {},
   "source": [
    "## map() function"
   ]
  },
  {
   "cell_type": "markdown",
   "id": "94c93a7a-22ac-4b10-9918-073bff02c25a",
   "metadata": {},
   "source": [
    "- For every element present in the given sequence, apply some functionality and generate a new element with required modifications. For this requirement, we should go for a map.\n",
    "- Ex: For every element present in the list, perform a double and generate a new list.\n",
    "- **syntax: map(function,sequence)**\n",
    "- The function can be applied to each element of a sequence and generate a new sequence."
   ]
  },
  {
   "cell_type": "code",
   "execution_count": 140,
   "id": "4cb1ac48-e1d1-4401-a61c-5c0a23ab7eb1",
   "metadata": {},
   "outputs": [
    {
     "data": {
      "text/plain": [
       "[100, 400, 900, 1600, 2500]"
      ]
     },
     "execution_count": 140,
     "metadata": {},
     "output_type": "execute_result"
    }
   ],
   "source": [
    "l = [10,20,30,40,50]\n",
    "def double(x):\n",
    "    return x*x\n",
    "list(map(double,l))"
   ]
  },
  {
   "cell_type": "code",
   "execution_count": 145,
   "id": "c7027f74-5d08-4f55-bf2a-f5458acfd1ba",
   "metadata": {},
   "outputs": [
    {
     "data": {
      "text/plain": [
       "[100, 400, 900, 1600]"
      ]
     },
     "execution_count": 145,
     "metadata": {},
     "output_type": "execute_result"
    }
   ],
   "source": [
    "list(map(lambda a:a*a,[10,20,30,40]))"
   ]
  },
  {
   "cell_type": "code",
   "execution_count": 150,
   "id": "f95a1be7-41fc-4c1a-8846-f759fdd420cd",
   "metadata": {},
   "outputs": [
    {
     "data": {
      "text/plain": [
       "[100, 400, 1600, 2500]"
      ]
     },
     "execution_count": 150,
     "metadata": {},
     "output_type": "execute_result"
    }
   ],
   "source": [
    "l1 = [10,20,40,50]\n",
    "l2 = [60,20,30,40]\n",
    "l3 = list(map(lambda x,y:x*y,l1,l1))\n",
    "l3"
   ]
  },
  {
   "cell_type": "markdown",
   "id": "e6f79f07-97b1-4c2f-a1de-b6ba4b57253e",
   "metadata": {},
   "source": [
    "## reduce()"
   ]
  },
  {
   "cell_type": "markdown",
   "id": "bd499a64-221d-4bcb-bd16-fe9a60d46916",
   "metadata": {},
   "source": [
    "- reduce() function reduces a sequence of elements into a single element by applying the specified function.\n",
    "- **reduce(function, sequence)**\n",
    "- reduce() function present in functiontools module and hence we should write import statement"
   ]
  },
  {
   "cell_type": "code",
   "execution_count": 151,
   "id": "1f75645b-ccfc-4ec1-97ea-605f71f4e446",
   "metadata": {},
   "outputs": [
    {
     "data": {
      "text/plain": [
       "150"
      ]
     },
     "execution_count": 151,
     "metadata": {},
     "output_type": "execute_result"
    }
   ],
   "source": [
    "from functools import *\n",
    "l = [10,20,30,40,50]\n",
    "r = reduce(lambda x,y:x+y,l)\n",
    "r"
   ]
  },
  {
   "cell_type": "code",
   "execution_count": 152,
   "id": "39b752ea-685a-4dfd-a015-4042159417b8",
   "metadata": {},
   "outputs": [
    {
     "data": {
      "text/plain": [
       "12000000"
      ]
     },
     "execution_count": 152,
     "metadata": {},
     "output_type": "execute_result"
    }
   ],
   "source": [
    "l = [10,20,30,40,50]\n",
    "r = reduce(lambda x,y:x*y,l)\n",
    "r"
   ]
  },
  {
   "cell_type": "code",
   "execution_count": 154,
   "id": "fe5238b2-e90f-4a69-b3d8-155936fc001d",
   "metadata": {},
   "outputs": [
    {
     "data": {
      "text/plain": [
       "24"
      ]
     },
     "execution_count": 154,
     "metadata": {},
     "output_type": "execute_result"
    }
   ],
   "source": [
    "reduce(lambda x,y:x*y,range(1,5))"
   ]
  },
  {
   "cell_type": "markdown",
   "id": "365ef557-8953-4964-91bd-3a5dde8b1dae",
   "metadata": {},
   "source": [
    "# Function aliasing\n",
    "- For the existing function, we can give another name, which is nothing but function aliasing."
   ]
  },
  {
   "cell_type": "code",
   "execution_count": 156,
   "id": "aa6190b7-8d7e-4204-aecb-bc64d99e2b84",
   "metadata": {},
   "outputs": [
    {
     "name": "stdout",
     "output_type": "stream",
     "text": [
      "1762036153728\n",
      "1762036153728\n"
     ]
    }
   ],
   "source": [
    "def wish(name):\n",
    "    print('Hey hello good morning',name)\n",
    "\n",
    "greeting = wish\n",
    "print(id(greeting))\n",
    "print(id(wish))"
   ]
  },
  {
   "cell_type": "code",
   "execution_count": 157,
   "id": "89583a43-7c7a-4172-9476-a409081a4959",
   "metadata": {},
   "outputs": [
    {
     "name": "stdout",
     "output_type": "stream",
     "text": [
      "Hey hello good morning Ashok\n",
      "Hey hello good morning Reddy\n"
     ]
    }
   ],
   "source": [
    "wish('Ashok')\n",
    "greeting('Reddy')"
   ]
  },
  {
   "cell_type": "markdown",
   "id": "923afb72-d1fb-409a-8a9f-2edbcde4e6ee",
   "metadata": {},
   "source": [
    "# Note"
   ]
  },
  {
   "cell_type": "markdown",
   "id": "64f16711-dfed-4cf5-9f1b-b4317178ba54",
   "metadata": {},
   "source": [
    "- In the above example, only one function is available, but we can call that function by using either wish name or greeting name.\n",
    "- If we delete one name still we can access that function by using alias name"
   ]
  },
  {
   "cell_type": "code",
   "execution_count": 158,
   "id": "e8ce5474-a755-4d41-9719-818e63faed8f",
   "metadata": {},
   "outputs": [
    {
     "name": "stdout",
     "output_type": "stream",
     "text": [
      "Hey hello good morning Ashok\n",
      "Hey hello good morning Reddy\n"
     ]
    }
   ],
   "source": [
    "def wish(name):\n",
    "    print('Hey hello good morning',name)\n",
    "\n",
    "greeting = wish\n",
    "wish('Ashok')\n",
    "greeting('Reddy')"
   ]
  },
  {
   "cell_type": "code",
   "execution_count": 159,
   "id": "1e48e26a-7f35-4a94-a4d5-bf24fc087026",
   "metadata": {},
   "outputs": [],
   "source": [
    "del wish"
   ]
  },
  {
   "cell_type": "code",
   "execution_count": 160,
   "id": "268d01e1-eff2-47eb-b4d6-dad8bb8d793b",
   "metadata": {},
   "outputs": [
    {
     "ename": "NameError",
     "evalue": "name 'wish' is not defined",
     "output_type": "error",
     "traceback": [
      "\u001b[1;31m---------------------------------------------------------------------------\u001b[0m",
      "\u001b[1;31mNameError\u001b[0m                                 Traceback (most recent call last)",
      "Cell \u001b[1;32mIn[160], line 1\u001b[0m\n\u001b[1;32m----> 1\u001b[0m wish(\u001b[38;5;124m'\u001b[39m\u001b[38;5;124mAshok\u001b[39m\u001b[38;5;124m'\u001b[39m)\n",
      "\u001b[1;31mNameError\u001b[0m: name 'wish' is not defined"
     ]
    }
   ],
   "source": [
    "wish('Ashok')"
   ]
  },
  {
   "cell_type": "code",
   "execution_count": 161,
   "id": "180614a1-5a42-469c-a571-000e45ac62f1",
   "metadata": {},
   "outputs": [
    {
     "name": "stdout",
     "output_type": "stream",
     "text": [
      "Hey hello good morning Reddy\n"
     ]
    }
   ],
   "source": [
    "greeting('Reddy')"
   ]
  },
  {
   "cell_type": "code",
   "execution_count": 176,
   "id": "7cf71706-6a51-4355-a33d-4cd84d997a2b",
   "metadata": {},
   "outputs": [
    {
     "name": "stdout",
     "output_type": "stream",
     "text": [
      "outer function started\n",
      "Outer function calling inner function\n",
      "inner function started\n"
     ]
    }
   ],
   "source": [
    "def outer():\n",
    "    print('outer function started')\n",
    "    def inner():\n",
    "        print(\"inner function started\")\n",
    "    print('Outer function calling inner function')\n",
    "    return inner\n",
    "f1 = outer()\n",
    "f1()"
   ]
  },
  {
   "cell_type": "code",
   "execution_count": 177,
   "id": "517d1a18-8531-432b-ad43-539074ccd8dc",
   "metadata": {},
   "outputs": [
    {
     "name": "stdout",
     "output_type": "stream",
     "text": [
      "inner function started\n"
     ]
    }
   ],
   "source": [
    "f1()"
   ]
  },
  {
   "cell_type": "code",
   "execution_count": 182,
   "id": "dc49c01f-e1cd-41a9-b310-53841c3800a2",
   "metadata": {},
   "outputs": [
    {
     "name": "stdout",
     "output_type": "stream",
     "text": [
      "8\n",
      "15\n"
     ]
    }
   ],
   "source": [
    "def math_op(x,y):\n",
    "    def add():\n",
    "        return x+y\n",
    "    def mul():\n",
    "        return x*y\n",
    "    return add,mul\n",
    "a,b = math_op(3,5)\n",
    "print(a())\n",
    "print(b())"
   ]
  },
  {
   "cell_type": "code",
   "execution_count": 183,
   "id": "20f2c9c8-8e30-42ab-85ee-354696a5d695",
   "metadata": {},
   "outputs": [
    {
     "data": {
      "text/plain": [
       "<function __main__.power.<locals>.raise_base(y)>"
      ]
     },
     "execution_count": 183,
     "metadata": {},
     "output_type": "execute_result"
    }
   ],
   "source": [
    "def power(x):\n",
    "    def raise_base(y):\n",
    "        return x*y\n",
    "    return raise_base\n",
    "c = power(50)\n",
    "c"
   ]
  },
  {
   "cell_type": "code",
   "execution_count": null,
   "id": "54ae3758-57d6-4b91-b177-7e093ae611cd",
   "metadata": {},
   "outputs": [],
   "source": []
  }
 ],
 "metadata": {
  "kernelspec": {
   "display_name": "Python 3 (ipykernel)",
   "language": "python",
   "name": "python3"
  },
  "language_info": {
   "codemirror_mode": {
    "name": "ipython",
    "version": 3
   },
   "file_extension": ".py",
   "mimetype": "text/x-python",
   "name": "python",
   "nbconvert_exporter": "python",
   "pygments_lexer": "ipython3",
   "version": "3.12.7"
  }
 },
 "nbformat": 4,
 "nbformat_minor": 5
}
