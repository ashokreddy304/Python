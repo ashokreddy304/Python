{
 "cells": [
  {
   "cell_type": "markdown",
   "id": "f0be9a68-37e3-41e6-b4f4-e9797d7df0c2",
   "metadata": {},
   "source": [
    "# Tuple"
   ]
  },
  {
   "cell_type": "markdown",
   "id": "55f697a7-1018-4462-b6d9-17040d64cf5a",
   "metadata": {},
   "source": [
    "#### 1. A tuple is the same as a list except that it is immutable. Once we create a tuble object, we can perform any changes in that object\n",
    "#### 2. Hence, a Tuple is Read only version of a list.\n",
    "#### 3. If our data is fixed and never changes, then we should go for a Tuple.\n",
    "#### 4. Insertion order is preserved.\n",
    "#### 5. Duplicates are allowed.\n",
    "#### 6. Heterogeneous objects are allowed.\n",
    "#### 7. we can preserve insertion order, and we can differentiate duplicate objects by using an index. Hence Tuple support index.\n",
    "#### 8. Tuple supports +ve and -ve index.\n",
    "#### 9. we can represent tuple elements within parentheses and a comma separator.\n",
    "#### 10. parentheses are optional but recommended to use."
   ]
  },
  {
   "cell_type": "code",
   "execution_count": 5,
   "id": "132f3aa8-02e7-4c5b-84a5-5fe8e2c6ee26",
   "metadata": {},
   "outputs": [
    {
     "name": "stdout",
     "output_type": "stream",
     "text": [
      "<class 'tuple'>\n"
     ]
    }
   ],
   "source": [
    "t = 10,20,30,40\n",
    "print(type(t))"
   ]
  },
  {
   "cell_type": "code",
   "execution_count": 6,
   "id": "9f13f2e2-943b-40de-9bb4-f9ad9d8d2e9b",
   "metadata": {},
   "outputs": [
    {
     "name": "stdout",
     "output_type": "stream",
     "text": [
      "<class 'tuple'>\n"
     ]
    }
   ],
   "source": [
    "t = (10,20,30,40)\n",
    "print(type(t))"
   ]
  },
  {
   "cell_type": "code",
   "execution_count": 7,
   "id": "e7566197-a882-43ce-a40d-ecd69393b140",
   "metadata": {},
   "outputs": [
    {
     "data": {
      "text/plain": [
       "(10, 20, 30, 40)"
      ]
     },
     "execution_count": 7,
     "metadata": {},
     "output_type": "execute_result"
    }
   ],
   "source": [
    "t"
   ]
  },
  {
   "cell_type": "code",
   "execution_count": 8,
   "id": "98522438-8f5e-4f84-8ec4-d6c340ba515a",
   "metadata": {},
   "outputs": [
    {
     "name": "stdout",
     "output_type": "stream",
     "text": [
      "<class 'tuple'>\n"
     ]
    }
   ],
   "source": [
    "t = ()\n",
    "print(type(t))"
   ]
  },
  {
   "cell_type": "markdown",
   "id": "7e13bd71-a9b2-485d-837e-31cfb257bcd8",
   "metadata": {},
   "source": [
    "### Note: we have to take care of single valued tuple. compulsary the value should ends with comma, otherwise it is not treated as tuple"
   ]
  },
  {
   "cell_type": "code",
   "execution_count": 9,
   "id": "ae222d9c-42b3-4477-814b-075630fbc32d",
   "metadata": {},
   "outputs": [
    {
     "name": "stdout",
     "output_type": "stream",
     "text": [
      "<class 'int'>\n",
      "10\n"
     ]
    }
   ],
   "source": [
    "t = (10)\n",
    "print(type(t))\n",
    "print(t)"
   ]
  },
  {
   "cell_type": "code",
   "execution_count": 10,
   "id": "4ad34fad-3bc9-4bca-909d-103dee768ac7",
   "metadata": {},
   "outputs": [
    {
     "name": "stdout",
     "output_type": "stream",
     "text": [
      "<class 'tuple'>\n",
      "(10,)\n"
     ]
    }
   ],
   "source": [
    "t = (10,)\n",
    "print(type(t))\n",
    "print(t)"
   ]
  },
  {
   "cell_type": "code",
   "execution_count": 11,
   "id": "98f174c8-eb5e-476a-abf3-e10de9e3103a",
   "metadata": {},
   "outputs": [
    {
     "data": {
      "text/plain": [
       "(1, 2, 3, 4, 5, 6)"
      ]
     },
     "execution_count": 11,
     "metadata": {},
     "output_type": "execute_result"
    }
   ],
   "source": [
    "l1 = [1,2,3,4,5,6]\n",
    "t = tuple(l1)\n",
    "t"
   ]
  },
  {
   "cell_type": "markdown",
   "id": "53c233ee-09f7-405d-9eab-2a7a04ba5cc2",
   "metadata": {},
   "source": [
    "### To access tuple by using index and slicing"
   ]
  },
  {
   "cell_type": "code",
   "execution_count": 12,
   "id": "cb5fe365-53a0-4aa6-b7ec-9e61115292e6",
   "metadata": {},
   "outputs": [
    {
     "data": {
      "text/plain": [
       "(1, 2, 3, 4, 5, 6)"
      ]
     },
     "execution_count": 12,
     "metadata": {},
     "output_type": "execute_result"
    }
   ],
   "source": [
    "# by using index\n",
    "t"
   ]
  },
  {
   "cell_type": "code",
   "execution_count": 14,
   "id": "4911abd3-78df-44d5-afc8-38b31318d860",
   "metadata": {},
   "outputs": [
    {
     "data": {
      "text/plain": [
       "1"
      ]
     },
     "execution_count": 14,
     "metadata": {},
     "output_type": "execute_result"
    }
   ],
   "source": [
    "t[0]"
   ]
  },
  {
   "cell_type": "code",
   "execution_count": 15,
   "id": "e6820ba4-eb78-4ffe-8e62-368fac6ab6ff",
   "metadata": {},
   "outputs": [
    {
     "data": {
      "text/plain": [
       "6"
      ]
     },
     "execution_count": 15,
     "metadata": {},
     "output_type": "execute_result"
    }
   ],
   "source": [
    "t[5]"
   ]
  },
  {
   "cell_type": "code",
   "execution_count": 16,
   "id": "549b1545-07fb-4f94-a984-7f9fd7ee9e65",
   "metadata": {},
   "outputs": [
    {
     "ename": "IndexError",
     "evalue": "tuple index out of range",
     "output_type": "error",
     "traceback": [
      "\u001b[1;31m---------------------------------------------------------------------------\u001b[0m",
      "\u001b[1;31mIndexError\u001b[0m                                Traceback (most recent call last)",
      "Cell \u001b[1;32mIn[16], line 1\u001b[0m\n\u001b[1;32m----> 1\u001b[0m t[\u001b[38;5;241m20\u001b[39m]\n",
      "\u001b[1;31mIndexError\u001b[0m: tuple index out of range"
     ]
    }
   ],
   "source": [
    "t[20]"
   ]
  },
  {
   "cell_type": "code",
   "execution_count": 18,
   "id": "94a8109e-a791-4315-9b22-6ff53106286c",
   "metadata": {},
   "outputs": [
    {
     "data": {
      "text/plain": [
       "(2,)"
      ]
     },
     "execution_count": 18,
     "metadata": {},
     "output_type": "execute_result"
    }
   ],
   "source": [
    "# slice\n",
    "t[1:2:3]"
   ]
  },
  {
   "cell_type": "code",
   "execution_count": 19,
   "id": "99331cd2-47a8-45ee-b11c-c44a1141bdf2",
   "metadata": {},
   "outputs": [
    {
     "data": {
      "text/plain": [
       "()"
      ]
     },
     "execution_count": 19,
     "metadata": {},
     "output_type": "execute_result"
    }
   ],
   "source": [
    "t[:0:1]"
   ]
  },
  {
   "cell_type": "code",
   "execution_count": 20,
   "id": "5ae1de4b-d0c1-4d0b-a23f-7a0a59c994e6",
   "metadata": {},
   "outputs": [
    {
     "data": {
      "text/plain": [
       "()"
      ]
     },
     "execution_count": 20,
     "metadata": {},
     "output_type": "execute_result"
    }
   ],
   "source": [
    "t[:-1:-1]"
   ]
  },
  {
   "cell_type": "markdown",
   "id": "4a7e57e5-80eb-4482-a49c-802b2f2d53f9",
   "metadata": {},
   "source": [
    "## Mathematical Operators for Tuple\n",
    "#### Concatenation Operator(+)"
   ]
  },
  {
   "cell_type": "code",
   "execution_count": 21,
   "id": "c834cc28-7a40-4775-9933-7994c5721df9",
   "metadata": {},
   "outputs": [
    {
     "data": {
      "text/plain": [
       "(10, 20, 30, 40, 10, 20, 'AI', True, (20+10j))"
      ]
     },
     "execution_count": 21,
     "metadata": {},
     "output_type": "execute_result"
    }
   ],
   "source": [
    "t1 = (10,20,30,40)\n",
    "t2 = (10,20,'AI',True,20+10j)\n",
    "t1+t2"
   ]
  },
  {
   "cell_type": "markdown",
   "id": "2872a61e-fd21-4a05-a7cb-71e087cc801e",
   "metadata": {},
   "source": [
    "#### Multiplication Operator"
   ]
  },
  {
   "cell_type": "code",
   "execution_count": 22,
   "id": "5808dc58-6275-48a5-8e07-e9a48cd64381",
   "metadata": {},
   "outputs": [
    {
     "data": {
      "text/plain": [
       "(10, 20, 30, 10, 20, 30)"
      ]
     },
     "execution_count": 22,
     "metadata": {},
     "output_type": "execute_result"
    }
   ],
   "source": [
    "t1 = (10,20,30)\n",
    "t2 = t1*2\n",
    "t2"
   ]
  },
  {
   "cell_type": "markdown",
   "id": "e5957c03-3d01-4501-81b0-a9b2b60cdb54",
   "metadata": {},
   "source": [
    "## Important Functions of Tuple"
   ]
  },
  {
   "cell_type": "markdown",
   "id": "c1856b1a-6b49-4ceb-845f-c3d7d206e2fd",
   "metadata": {},
   "source": [
    "#### len() : Returns the number of elements present in the tuple"
   ]
  },
  {
   "cell_type": "code",
   "execution_count": 23,
   "id": "80ee8d39-9dc8-4f04-a540-22134e09e8e5",
   "metadata": {},
   "outputs": [
    {
     "data": {
      "text/plain": [
       "12"
      ]
     },
     "execution_count": 23,
     "metadata": {},
     "output_type": "execute_result"
    }
   ],
   "source": [
    "t = (10,20,10,30,40,30,40,True,False,'AI','ML',10+20j)\n",
    "len(t)"
   ]
  },
  {
   "cell_type": "markdown",
   "id": "9dca71df-9879-4e24-b88a-291042c74e8d",
   "metadata": {},
   "source": [
    "#### count() : Returns the number occurrences of given element in the tuple."
   ]
  },
  {
   "cell_type": "code",
   "execution_count": 24,
   "id": "eec39d39-520e-4c84-86c7-5eaf113b9dfb",
   "metadata": {},
   "outputs": [
    {
     "data": {
      "text/plain": [
       "2"
      ]
     },
     "execution_count": 24,
     "metadata": {},
     "output_type": "execute_result"
    }
   ],
   "source": [
    "t.count(10)"
   ]
  },
  {
   "cell_type": "markdown",
   "id": "ad80c213-4b77-437c-b65b-ea24194d9d45",
   "metadata": {},
   "source": [
    "#### index()\n",
    "#### Returns the index of the first occurrence of the given element\n",
    "#### if the specified element is not present in the tuple we will get value error."
   ]
  },
  {
   "cell_type": "code",
   "execution_count": 25,
   "id": "f625049f-5204-4787-97c2-9e5ac7524a22",
   "metadata": {},
   "outputs": [
    {
     "data": {
      "text/plain": [
       "0"
      ]
     },
     "execution_count": 25,
     "metadata": {},
     "output_type": "execute_result"
    }
   ],
   "source": [
    "t.index(10)"
   ]
  },
  {
   "cell_type": "code",
   "execution_count": 26,
   "id": "15dde333-7de3-40d9-9718-5831ebefaa7f",
   "metadata": {},
   "outputs": [
    {
     "data": {
      "text/plain": [
       "4"
      ]
     },
     "execution_count": 26,
     "metadata": {},
     "output_type": "execute_result"
    }
   ],
   "source": [
    "t.index(40)"
   ]
  },
  {
   "cell_type": "markdown",
   "id": "54b424d4-14e5-4f33-8b0b-95e93d7cf4df",
   "metadata": {},
   "source": [
    "#### sorted() : To sort elements based on default natural sorting order."
   ]
  },
  {
   "cell_type": "code",
   "execution_count": 27,
   "id": "b0ea94b2-17c2-4341-9319-79cfa7962ab3",
   "metadata": {},
   "outputs": [
    {
     "data": {
      "text/plain": [
       "[10, 20, 30, 40, 70]"
      ]
     },
     "execution_count": 27,
     "metadata": {},
     "output_type": "execute_result"
    }
   ],
   "source": [
    "t = (40,20,30,10,70)\n",
    "t1 = sorted(t)\n",
    "t1"
   ]
  },
  {
   "cell_type": "code",
   "execution_count": 28,
   "id": "a14f76db-5e3b-4e36-93da-154879d37067",
   "metadata": {},
   "outputs": [
    {
     "data": {
      "text/plain": [
       "[70, 40, 30, 20, 10]"
      ]
     },
     "execution_count": 28,
     "metadata": {},
     "output_type": "execute_result"
    }
   ],
   "source": [
    "t = (40,20,30,10,70)\n",
    "t1 = sorted(t,reverse=True)\n",
    "t1"
   ]
  },
  {
   "cell_type": "markdown",
   "id": "34c2b3ca-9f86-4c98-9ef0-3b14f70dc8a4",
   "metadata": {},
   "source": [
    "#### min() and max()\n",
    "#### This function return min and max values according to default sorting order"
   ]
  },
  {
   "cell_type": "code",
   "execution_count": 29,
   "id": "c9c565f1-10e9-4982-bea8-3fab8c08d014",
   "metadata": {},
   "outputs": [
    {
     "name": "stdout",
     "output_type": "stream",
     "text": [
      "70\n",
      "10\n"
     ]
    }
   ],
   "source": [
    "t = (40,20,30,10,70)\n",
    "print(max(t))\n",
    "print(min(t))"
   ]
  },
  {
   "cell_type": "markdown",
   "id": "02140225-728a-4afa-8994-062cf29ebb75",
   "metadata": {},
   "source": [
    "# Tuple Packing and Unpacking"
   ]
  },
  {
   "cell_type": "markdown",
   "id": "3fb76685-21ee-4dda-abcd-89d20a88c400",
   "metadata": {},
   "source": [
    "#### we can create a tuple by packing a group of variable"
   ]
  },
  {
   "cell_type": "code",
   "execution_count": 32,
   "id": "cab623e1-53e5-4282-8a6a-8e38402acd6a",
   "metadata": {},
   "outputs": [
    {
     "name": "stdout",
     "output_type": "stream",
     "text": [
      "(10, 20, 30, 20)\n",
      "<class 'tuple'>\n"
     ]
    }
   ],
   "source": [
    "a = 10\n",
    "b = 20\n",
    "c = 30\n",
    "d = 20\n",
    "t = a,b,c,d\n",
    "print(t)\n",
    "print(type(t))"
   ]
  },
  {
   "cell_type": "markdown",
   "id": "06f31304-9b82-4241-b98e-338a74925827",
   "metadata": {},
   "source": [
    "#### Here, a,b,c,d are packed into a Tuple: this is nothing but tuple packing.\n",
    "#### Tuple unpacking is the reverse process of Tuple Packing.\n",
    "#### we can unpack a Tuple and assign its values to different variables."
   ]
  },
  {
   "cell_type": "code",
   "execution_count": 34,
   "id": "e92a97e9-dc0e-45cc-8ce2-de3998ff82a3",
   "metadata": {},
   "outputs": [
    {
     "name": "stdout",
     "output_type": "stream",
     "text": [
      "a= 10 b= 20 c= 30 d= 40\n"
     ]
    }
   ],
   "source": [
    "t = (10,20,30,40)\n",
    "a,b,c,d = t\n",
    "print('a=',a,'b=',b,'c=',c,'d=',d)"
   ]
  },
  {
   "cell_type": "code",
   "execution_count": 35,
   "id": "f42bf729-5abf-4975-b6ec-9a182bba0661",
   "metadata": {},
   "outputs": [
    {
     "name": "stdout",
     "output_type": "stream",
     "text": [
      "a= 10 b= 20 c= 30\n"
     ]
    }
   ],
   "source": [
    "t = (10,20,30,40)\n",
    "a,b,c,d = t\n",
    "print('a=',a,'b=',b,'c=',c)"
   ]
  },
  {
   "cell_type": "markdown",
   "id": "47c0d57e-ba94-4881-b3ed-03120713224a",
   "metadata": {},
   "source": [
    "#### Note At the time of tuple unpacking the number of variables and number of values should be same. otherwise we will get ValueError"
   ]
  },
  {
   "cell_type": "code",
   "execution_count": 36,
   "id": "099aeb40-b502-452f-b991-a67b89f7fa7c",
   "metadata": {},
   "outputs": [
    {
     "ename": "ValueError",
     "evalue": "too many values to unpack (expected 3)",
     "output_type": "error",
     "traceback": [
      "\u001b[1;31m---------------------------------------------------------------------------\u001b[0m",
      "\u001b[1;31mValueError\u001b[0m                                Traceback (most recent call last)",
      "Cell \u001b[1;32mIn[36], line 2\u001b[0m\n\u001b[0;32m      1\u001b[0m t \u001b[38;5;241m=\u001b[39m (\u001b[38;5;241m10\u001b[39m,\u001b[38;5;241m20\u001b[39m,\u001b[38;5;241m30\u001b[39m,\u001b[38;5;241m40\u001b[39m)\n\u001b[1;32m----> 2\u001b[0m a,b,c\u001b[38;5;241m=\u001b[39m t\n\u001b[0;32m      3\u001b[0m \u001b[38;5;28mprint\u001b[39m(\u001b[38;5;124m'\u001b[39m\u001b[38;5;124ma=\u001b[39m\u001b[38;5;124m'\u001b[39m,a,\u001b[38;5;124m'\u001b[39m\u001b[38;5;124mb=\u001b[39m\u001b[38;5;124m'\u001b[39m,b,\u001b[38;5;124m'\u001b[39m\u001b[38;5;124mc=\u001b[39m\u001b[38;5;124m'\u001b[39m,c)\n",
      "\u001b[1;31mValueError\u001b[0m: too many values to unpack (expected 3)"
     ]
    }
   ],
   "source": [
    "t = (10,20,30,40)\n",
    "a,b,c= t\n",
    "print('a=',a,'b=',b,'c=',c)"
   ]
  },
  {
   "cell_type": "code",
   "execution_count": null,
   "id": "81f1410b-6ae9-46aa-9bd5-bb861e1471ea",
   "metadata": {},
   "outputs": [],
   "source": []
  }
 ],
 "metadata": {
  "kernelspec": {
   "display_name": "Python 3 (ipykernel)",
   "language": "python",
   "name": "python3"
  },
  "language_info": {
   "codemirror_mode": {
    "name": "ipython",
    "version": 3
   },
   "file_extension": ".py",
   "mimetype": "text/x-python",
   "name": "python",
   "nbconvert_exporter": "python",
   "pygments_lexer": "ipython3",
   "version": "3.12.7"
  }
 },
 "nbformat": 4,
 "nbformat_minor": 5
}
