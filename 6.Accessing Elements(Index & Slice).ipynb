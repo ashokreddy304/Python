{
 "cells": [
  {
   "cell_type": "markdown",
   "id": "0cfb6f4d-4090-4474-b58b-0c796a2fd77e",
   "metadata": {},
   "source": [
    "## How to access characters of a string\n",
    "#### 1. By using an index\n",
    "####  2. By using a slice operator"
   ]
  },
  {
   "cell_type": "markdown",
   "id": "743cf7a8-3d69-4056-a593-4f9e2d0ae47b",
   "metadata": {},
   "source": [
    "# By using an index\n",
    "#### 1. Python supports +ve and -ve Index\n",
    "#### 2. +ve Index means left to right (Forward Direction)\n",
    "#### 3. The Forward Direction index starts from 0 (zero)\n",
    "#### 4. -ve Index means right to left (Backward Direction)\n",
    "#### 5. The Backward Direction index starts from -1"
   ]
  },
  {
   "cell_type": "code",
   "execution_count": 9,
   "id": "90188792-3795-4cf0-af1f-344e1b1ae166",
   "metadata": {},
   "outputs": [
    {
     "name": "stdout",
     "output_type": "stream",
     "text": [
      "<class 'str'>\n",
      "ai is the feature\n"
     ]
    }
   ],
   "source": [
    "s = 'ai is the feature'\n",
    "print(type(s))\n",
    "print(s)"
   ]
  },
  {
   "cell_type": "code",
   "execution_count": 10,
   "id": "97f19b7f-c0cd-45a9-be7d-ce33e3bf2303",
   "metadata": {},
   "outputs": [
    {
     "data": {
      "text/plain": [
       "17"
      ]
     },
     "execution_count": 10,
     "metadata": {},
     "output_type": "execute_result"
    }
   ],
   "source": [
    "len(s)"
   ]
  },
  {
   "cell_type": "code",
   "execution_count": 11,
   "id": "62d63e84-91ed-4b6e-8895-4e5ecb11e632",
   "metadata": {},
   "outputs": [
    {
     "data": {
      "text/plain": [
       "'i'"
      ]
     },
     "execution_count": 11,
     "metadata": {},
     "output_type": "execute_result"
    }
   ],
   "source": [
    "s[3]"
   ]
  },
  {
   "cell_type": "code",
   "execution_count": 12,
   "id": "e1a6c8db-0798-4271-b2f1-353df9b0a8cf",
   "metadata": {},
   "outputs": [
    {
     "data": {
      "text/plain": [
       "'e'"
      ]
     },
     "execution_count": 12,
     "metadata": {},
     "output_type": "execute_result"
    }
   ],
   "source": [
    "s[-1]"
   ]
  },
  {
   "cell_type": "code",
   "execution_count": 13,
   "id": "72aba640-a039-488e-94fd-79b34ca95f2c",
   "metadata": {},
   "outputs": [
    {
     "data": {
      "text/plain": [
       "' '"
      ]
     },
     "execution_count": 13,
     "metadata": {},
     "output_type": "execute_result"
    }
   ],
   "source": [
    "s[2]"
   ]
  },
  {
   "cell_type": "code",
   "execution_count": 14,
   "id": "edda2fb5-d733-4012-8138-0056b8dadc90",
   "metadata": {},
   "outputs": [
    {
     "ename": "IndexError",
     "evalue": "string index out of range",
     "output_type": "error",
     "traceback": [
      "\u001b[1;31m---------------------------------------------------------------------------\u001b[0m",
      "\u001b[1;31mIndexError\u001b[0m                                Traceback (most recent call last)",
      "Cell \u001b[1;32mIn[14], line 1\u001b[0m\n\u001b[1;32m----> 1\u001b[0m s[\u001b[38;5;241m18\u001b[39m]\n",
      "\u001b[1;31mIndexError\u001b[0m: string index out of range"
     ]
    }
   ],
   "source": [
    "s[18]"
   ]
  },
  {
   "cell_type": "markdown",
   "id": "9dfbbbb0-4bac-45e7-bf5e-7e47eb23d655",
   "metadata": {},
   "source": [
    "#### if we are trying to access characters of string with out of range index then we will get error saying IndexError"
   ]
  },
  {
   "cell_type": "markdown",
   "id": "ee4ac4dd-aba9-42d5-89eb-cb3436c6568f",
   "metadata": {},
   "source": [
    "# By using a slice operator"
   ]
  },
  {
   "cell_type": "markdown",
   "id": "4248f271-4a62-4958-8f1f-a05b78c08793",
   "metadata": {},
   "source": [
    "## syntax: s[ beginindex : endindex : step]"
   ]
  },
  {
   "cell_type": "code",
   "execution_count": 15,
   "id": "594f9b10-65cb-4992-bc23-678c55183f6e",
   "metadata": {},
   "outputs": [
    {
     "data": {
      "text/plain": [
       "'python leraning is Eary'"
      ]
     },
     "execution_count": 15,
     "metadata": {},
     "output_type": "execute_result"
    }
   ],
   "source": [
    "s = 'python leraning is Eary'\n",
    "s"
   ]
  },
  {
   "cell_type": "code",
   "execution_count": 16,
   "id": "d180bc7d-75e1-4db8-9972-4ae19c5987bd",
   "metadata": {},
   "outputs": [
    {
     "data": {
      "text/plain": [
       "23"
      ]
     },
     "execution_count": 16,
     "metadata": {},
     "output_type": "execute_result"
    }
   ],
   "source": [
    "len(s)"
   ]
  },
  {
   "cell_type": "code",
   "execution_count": 17,
   "id": "01f9dc31-148b-42ac-991d-80eb16be8cf5",
   "metadata": {},
   "outputs": [
    {
     "data": {
      "text/plain": [
       "'pytho'"
      ]
     },
     "execution_count": 17,
     "metadata": {},
     "output_type": "execute_result"
    }
   ],
   "source": [
    "s[0:5]"
   ]
  },
  {
   "cell_type": "markdown",
   "id": "7f5bd199-e846-4691-8484-cfdbeccbae6d",
   "metadata": {},
   "source": [
    "#### always end index is endindex - 1"
   ]
  },
  {
   "cell_type": "code",
   "execution_count": 18,
   "id": "17168d7f-2af0-43ca-9427-9eb4fbec3e71",
   "metadata": {},
   "outputs": [
    {
     "data": {
      "text/plain": [
       "'python '"
      ]
     },
     "execution_count": 18,
     "metadata": {},
     "output_type": "execute_result"
    }
   ],
   "source": [
    "s[:7]"
   ]
  },
  {
   "cell_type": "markdown",
   "id": "40183e4d-ad5b-4c70-87d4-ec11309d0162",
   "metadata": {},
   "source": [
    "#### beginindex is optional. It defaults to start with zero\n",
    "#### beginindex and endindex and step are also optional. it will return the entire string"
   ]
  },
  {
   "cell_type": "code",
   "execution_count": 19,
   "id": "ff649d9a-a3b3-46ec-9910-ba322eca68d0",
   "metadata": {},
   "outputs": [
    {
     "data": {
      "text/plain": [
       "'python leraning is Eary'"
      ]
     },
     "execution_count": 19,
     "metadata": {},
     "output_type": "execute_result"
    }
   ],
   "source": [
    "s[:]"
   ]
  },
  {
   "cell_type": "code",
   "execution_count": 20,
   "id": "4e715a99-3257-43d6-a281-b46e332c144e",
   "metadata": {},
   "outputs": [
    {
     "data": {
      "text/plain": [
       "'python leraning is Eary'"
      ]
     },
     "execution_count": 20,
     "metadata": {},
     "output_type": "execute_result"
    }
   ],
   "source": [
    "s[::]"
   ]
  },
  {
   "cell_type": "markdown",
   "id": "74b68e60-b63b-4c35-8d40-af501d68d873",
   "metadata": {},
   "source": [
    "#### 1. s[ beginindex : endindex : step]\n",
    "#### 2. step values either postive (+ve) or (-ve)\n",
    "#### 3. if step is +ve, it should be forward direction (left to right), we have to consider begin to end - 1\n",
    "#### 4. if step is -ve, it should be backward direction (right to left), we have to consider begin to end + 1\n",
    "#### 5. In the backward direction, if the end value is -1, then the result is always empty.\n",
    "#### 6. In the forward direction, if the end value is 0, then the result is always empty."
   ]
  },
  {
   "cell_type": "code",
   "execution_count": 21,
   "id": "ec3043ed-9e82-4fc1-9468-535145ca91b7",
   "metadata": {},
   "outputs": [
    {
     "data": {
      "text/plain": [
       "8"
      ]
     },
     "execution_count": 21,
     "metadata": {},
     "output_type": "execute_result"
    }
   ],
   "source": [
    "s = 'abcdefgh'\n",
    "len(s)"
   ]
  },
  {
   "cell_type": "code",
   "execution_count": 23,
   "id": "b2bd5581-6c8a-46af-a2ba-844296e417e0",
   "metadata": {},
   "outputs": [
    {
     "data": {
      "text/plain": [
       "'fgh'"
      ]
     },
     "execution_count": 23,
     "metadata": {},
     "output_type": "execute_result"
    }
   ],
   "source": [
    "s[5:10:1]"
   ]
  },
  {
   "cell_type": "code",
   "execution_count": 24,
   "id": "c9bb796b-64d2-43d6-b193-a1b95a063f8a",
   "metadata": {},
   "outputs": [
    {
     "data": {
      "text/plain": [
       "''"
      ]
     },
     "execution_count": 24,
     "metadata": {},
     "output_type": "execute_result"
    }
   ],
   "source": [
    "s[5:-10:1]"
   ]
  },
  {
   "cell_type": "code",
   "execution_count": 27,
   "id": "3f6777dc-54c6-490e-b6d0-bb641f16c64c",
   "metadata": {},
   "outputs": [
    {
     "data": {
      "text/plain": [
       "''"
      ]
     },
     "execution_count": 27,
     "metadata": {},
     "output_type": "execute_result"
    }
   ],
   "source": [
    "s[5:-10:1]"
   ]
  },
  {
   "cell_type": "code",
   "execution_count": 29,
   "id": "fbeb2281-3854-4d22-85fe-487cecd9c86a",
   "metadata": {},
   "outputs": [
    {
     "data": {
      "text/plain": [
       "''"
      ]
     },
     "execution_count": 29,
     "metadata": {},
     "output_type": "execute_result"
    }
   ],
   "source": [
    "s[4:-1:-1]"
   ]
  },
  {
   "cell_type": "code",
   "execution_count": 31,
   "id": "b8c8ceaa-2079-414a-a181-1b521236296f",
   "metadata": {},
   "outputs": [
    {
     "data": {
      "text/plain": [
       "''"
      ]
     },
     "execution_count": 31,
     "metadata": {},
     "output_type": "execute_result"
    }
   ],
   "source": [
    "s[3:0:1]"
   ]
  },
  {
   "cell_type": "code",
   "execution_count": null,
   "id": "8cde00f1-dd8b-43a6-b174-e4474b3cefc6",
   "metadata": {},
   "outputs": [],
   "source": []
  }
 ],
 "metadata": {
  "kernelspec": {
   "display_name": "Python 3 (ipykernel)",
   "language": "python",
   "name": "python3"
  },
  "language_info": {
   "codemirror_mode": {
    "name": "ipython",
    "version": 3
   },
   "file_extension": ".py",
   "mimetype": "text/x-python",
   "name": "python",
   "nbconvert_exporter": "python",
   "pygments_lexer": "ipython3",
   "version": "3.12.7"
  }
 },
 "nbformat": 4,
 "nbformat_minor": 5
}
