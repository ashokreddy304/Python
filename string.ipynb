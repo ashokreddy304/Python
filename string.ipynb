{
 "cells": [
  {
   "cell_type": "markdown",
   "id": "142b3b8a-e9fc-416c-beaa-a8643f1925c0",
   "metadata": {},
   "source": [
    "## What is string"
   ]
  },
  {
   "cell_type": "markdown",
   "id": "120e0fc3-9445-4bd0-a486-4751eca7b165",
   "metadata": {},
   "source": [
    "#### Any Sequence of characters within either single quotes or double quotes is considered as string."
   ]
  },
  {
   "cell_type": "code",
   "execution_count": 1,
   "id": "a43a6e39-8ef3-4e75-95ab-011ece274ca2",
   "metadata": {},
   "outputs": [
    {
     "name": "stdout",
     "output_type": "stream",
     "text": [
      "python\n",
      "<class 'str'>\n"
     ]
    }
   ],
   "source": [
    "s = 'python'\n",
    "print(s)\n",
    "print(type(s))"
   ]
  },
  {
   "cell_type": "markdown",
   "id": "0a2c297e-df8f-4c3c-b123-d25731d80553",
   "metadata": {},
   "source": [
    "#### define multiple string"
   ]
  },
  {
   "cell_type": "code",
   "execution_count": 5,
   "id": "7e6aaae0-91b3-4258-bce3-e799f08492b9",
   "metadata": {},
   "outputs": [
    {
     "name": "stdout",
     "output_type": "stream",
     "text": [
      "python \n",
      "is\n",
      "very \n",
      "easy \n",
      "to\n",
      "learn\n"
     ]
    }
   ],
   "source": [
    "s = '''python \n",
    "is\n",
    "very \n",
    "easy \n",
    "to\n",
    "learn'''\n",
    "print(s)"
   ]
  },
  {
   "cell_type": "code",
   "execution_count": 6,
   "id": "db227596-21a0-4d5f-842b-b7ad3fd0e556",
   "metadata": {},
   "outputs": [
    {
     "name": "stdout",
     "output_type": "stream",
     "text": [
      "python is 'very' easy to learn\n"
     ]
    }
   ],
   "source": [
    "print(\"python is 'very' easy to learn\")"
   ]
  },
  {
   "cell_type": "code",
   "execution_count": 7,
   "id": "fbfd7fb9-57d2-4775-a680-84e6e42fca49",
   "metadata": {},
   "outputs": [
    {
     "name": "stdout",
     "output_type": "stream",
     "text": [
      "python is \"very\" easy to learn\n"
     ]
    }
   ],
   "source": [
    "print('''python is \"very\" easy to learn''')"
   ]
  },
  {
   "cell_type": "code",
   "execution_count": 9,
   "id": "4616b803-a049-4b6a-b9a2-9a756dc662ab",
   "metadata": {},
   "outputs": [
    {
     "name": "stdout",
     "output_type": "stream",
     "text": [
      "python \"is\" very 'easy' to learn\n"
     ]
    }
   ],
   "source": [
    "print('python \\\"is\\\" very \\'easy\\' to learn')"
   ]
  },
  {
   "cell_type": "markdown",
   "id": "594c87d6-973a-4d29-8c99-05ed535df887",
   "metadata": {},
   "source": [
    "## How to access characters of a string"
   ]
  },
  {
   "cell_type": "markdown",
   "id": "9a2fc870-d37a-4265-bb7c-bd826e3aabbf",
   "metadata": {},
   "source": [
    "- We can access characters of a string in the following ways \n",
    "  - index\n",
    "  - slice operator"
   ]
  },
  {
   "cell_type": "markdown",
   "id": "b89fcc1d-0b75-4314-a879-f37f4e4df108",
   "metadata": {},
   "source": [
    "## index\n",
    "- Python supports both +ve and -ve index.\n",
    "    - +ve Index means Left to right (Forward Direction)\n",
    "    - -ve Index means Right to left (Backward Direction)"
   ]
  },
  {
   "cell_type": "code",
   "execution_count": 10,
   "id": "3c220e55-8772-4d38-859b-8a7324344074",
   "metadata": {},
   "outputs": [
    {
     "data": {
      "text/plain": [
       "'python'"
      ]
     },
     "execution_count": 10,
     "metadata": {},
     "output_type": "execute_result"
    }
   ],
   "source": [
    "s = 'python'\n",
    "s"
   ]
  },
  {
   "cell_type": "code",
   "execution_count": 11,
   "id": "eb3cccbc-cefc-4cba-b59a-ace27e5fc4ca",
   "metadata": {},
   "outputs": [
    {
     "data": {
      "text/plain": [
       "6"
      ]
     },
     "execution_count": 11,
     "metadata": {},
     "output_type": "execute_result"
    }
   ],
   "source": [
    "len(s)"
   ]
  },
  {
   "cell_type": "code",
   "execution_count": 12,
   "id": "29ac774b-14e9-446c-a29f-b75963e949f8",
   "metadata": {},
   "outputs": [
    {
     "data": {
      "text/plain": [
       "'p'"
      ]
     },
     "execution_count": 12,
     "metadata": {},
     "output_type": "execute_result"
    }
   ],
   "source": [
    "s[0]"
   ]
  },
  {
   "cell_type": "code",
   "execution_count": 13,
   "id": "7c36d769-da0a-43d0-8ee6-d6234b46a27e",
   "metadata": {},
   "outputs": [
    {
     "data": {
      "text/plain": [
       "'t'"
      ]
     },
     "execution_count": 13,
     "metadata": {},
     "output_type": "execute_result"
    }
   ],
   "source": [
    "s[2]"
   ]
  },
  {
   "cell_type": "code",
   "execution_count": 14,
   "id": "e3b17eee-2d9f-4682-a8c8-1581abe3563e",
   "metadata": {},
   "outputs": [
    {
     "data": {
      "text/plain": [
       "'n'"
      ]
     },
     "execution_count": 14,
     "metadata": {},
     "output_type": "execute_result"
    }
   ],
   "source": [
    "s[-1]"
   ]
  },
  {
   "cell_type": "code",
   "execution_count": 15,
   "id": "dd7caa93-6299-4cc6-86a5-73fa5baa6cc8",
   "metadata": {},
   "outputs": [
    {
     "data": {
      "text/plain": [
       "'h'"
      ]
     },
     "execution_count": 15,
     "metadata": {},
     "output_type": "execute_result"
    }
   ],
   "source": [
    "s[-3]"
   ]
  },
  {
   "cell_type": "code",
   "execution_count": 16,
   "id": "3bc12102-de34-48a8-aabb-ea8e627c522d",
   "metadata": {},
   "outputs": [
    {
     "ename": "IndexError",
     "evalue": "string index out of range",
     "output_type": "error",
     "traceback": [
      "\u001b[1;31m---------------------------------------------------------------------------\u001b[0m",
      "\u001b[1;31mIndexError\u001b[0m                                Traceback (most recent call last)",
      "Cell \u001b[1;32mIn[16], line 1\u001b[0m\n\u001b[1;32m----> 1\u001b[0m s[\u001b[38;5;241m10\u001b[39m]\n",
      "\u001b[1;31mIndexError\u001b[0m: string index out of range"
     ]
    }
   ],
   "source": [
    "s[10]"
   ]
  },
  {
   "cell_type": "markdown",
   "id": "a58dc1d1-7e5c-478a-8b36-e82f6f12832a",
   "metadata": {},
   "source": [
    "- If we are trying to access characters of a string with out of range index then we will get error saying IndexError"
   ]
  },
  {
   "cell_type": "markdown",
   "id": "390b1a94-b775-4ff9-aa0f-112d97e485ab",
   "metadata": {},
   "source": [
    "## slice Operator"
   ]
  },
  {
   "cell_type": "markdown",
   "id": "32a87ace-d0ef-46c1-b505-98a5fd9b507a",
   "metadata": {},
   "source": [
    "### syntax: s[beginindex : endindex : step]"
   ]
  },
  {
   "cell_type": "code",
   "execution_count": 17,
   "id": "eafbb7b3-803f-43f2-8060-2425a7656568",
   "metadata": {},
   "outputs": [
    {
     "data": {
      "text/plain": [
       "'python'"
      ]
     },
     "execution_count": 17,
     "metadata": {},
     "output_type": "execute_result"
    }
   ],
   "source": [
    "s"
   ]
  },
  {
   "cell_type": "code",
   "execution_count": 18,
   "id": "e78f24ab-663a-47a5-8737-5d6eaac07299",
   "metadata": {},
   "outputs": [
    {
     "data": {
      "text/plain": [
       "'nohtyp'"
      ]
     },
     "execution_count": 18,
     "metadata": {},
     "output_type": "execute_result"
    }
   ],
   "source": [
    "s[::-1]"
   ]
  },
  {
   "cell_type": "code",
   "execution_count": 20,
   "id": "b84e774f-30eb-4485-95c1-7d028dfc2b5c",
   "metadata": {},
   "outputs": [
    {
     "data": {
      "text/plain": [
       "6"
      ]
     },
     "execution_count": 20,
     "metadata": {},
     "output_type": "execute_result"
    }
   ],
   "source": [
    "len(s)"
   ]
  },
  {
   "cell_type": "code",
   "execution_count": 21,
   "id": "64f71122-195b-4f63-a416-cbf949289c9a",
   "metadata": {},
   "outputs": [
    {
     "data": {
      "text/plain": [
       "''"
      ]
     },
     "execution_count": 21,
     "metadata": {},
     "output_type": "execute_result"
    }
   ],
   "source": [
    "s[:-1:-1]"
   ]
  },
  {
   "cell_type": "code",
   "execution_count": 22,
   "id": "accce137-47c6-478f-9f7a-bacd579546ea",
   "metadata": {},
   "outputs": [
    {
     "data": {
      "text/plain": [
       "''"
      ]
     },
     "execution_count": 22,
     "metadata": {},
     "output_type": "execute_result"
    }
   ],
   "source": [
    "s[:0:1]"
   ]
  },
  {
   "cell_type": "code",
   "execution_count": 23,
   "id": "a992f516-6b10-489b-ba5b-5af0382cab45",
   "metadata": {},
   "outputs": [
    {
     "ename": "ValueError",
     "evalue": "slice step cannot be zero",
     "output_type": "error",
     "traceback": [
      "\u001b[1;31m---------------------------------------------------------------------------\u001b[0m",
      "\u001b[1;31mValueError\u001b[0m                                Traceback (most recent call last)",
      "Cell \u001b[1;32mIn[23], line 1\u001b[0m\n\u001b[1;32m----> 1\u001b[0m s[::\u001b[38;5;241m0\u001b[39m]\n",
      "\u001b[1;31mValueError\u001b[0m: slice step cannot be zero"
     ]
    }
   ],
   "source": [
    "s[::0]"
   ]
  },
  {
   "cell_type": "markdown",
   "id": "63b99d49-fada-4d63-a92d-0e54a9aa89b9",
   "metadata": {},
   "source": [
    "## Mathematical Operators\n",
    "#### + concatenation -> compulsory, both arguments should be str type.\n",
    "#### * Repetition -> compulsory one argumnet should be str and other should be int"
   ]
  },
  {
   "cell_type": "code",
   "execution_count": 24,
   "id": "612b0d4d-dcb0-4e27-88bc-50d1c8ea3a4f",
   "metadata": {},
   "outputs": [
    {
     "data": {
      "text/plain": [
       "'string'"
      ]
     },
     "execution_count": 24,
     "metadata": {},
     "output_type": "execute_result"
    }
   ],
   "source": [
    "'str'+'ing'"
   ]
  },
  {
   "cell_type": "code",
   "execution_count": 26,
   "id": "d74ac4c9-9b48-4229-a71e-ed3f02817ba7",
   "metadata": {},
   "outputs": [
    {
     "data": {
      "text/plain": [
       "'str str str '"
      ]
     },
     "execution_count": 26,
     "metadata": {},
     "output_type": "execute_result"
    }
   ],
   "source": [
    "'str '*3"
   ]
  },
  {
   "cell_type": "markdown",
   "id": "931bc48c-cddb-4537-8f88-054d23e37532",
   "metadata": {},
   "source": [
    "## Checking Membership\n",
    "### we can check whether the character or string is the member of another string or not. by using in and not in operator"
   ]
  },
  {
   "cell_type": "code",
   "execution_count": 27,
   "id": "5b161ef7-8f99-4fe2-9927-9deb2262edcf",
   "metadata": {},
   "outputs": [
    {
     "data": {
      "text/plain": [
       "'learning python is easy'"
      ]
     },
     "execution_count": 27,
     "metadata": {},
     "output_type": "execute_result"
    }
   ],
   "source": [
    "s = 'learning python is easy'\n",
    "s"
   ]
  },
  {
   "cell_type": "code",
   "execution_count": 29,
   "id": "8bd78ac7-88a5-4fba-8427-453812919e7f",
   "metadata": {},
   "outputs": [
    {
     "data": {
      "text/plain": [
       "True"
      ]
     },
     "execution_count": 29,
     "metadata": {},
     "output_type": "execute_result"
    }
   ],
   "source": [
    "'l' in s"
   ]
  },
  {
   "cell_type": "code",
   "execution_count": 30,
   "id": "1ede4db4-6302-41db-b355-a78900663109",
   "metadata": {},
   "outputs": [
    {
     "data": {
      "text/plain": [
       "False"
      ]
     },
     "execution_count": 30,
     "metadata": {},
     "output_type": "execute_result"
    }
   ],
   "source": [
    "'l' not in s"
   ]
  },
  {
   "cell_type": "code",
   "execution_count": 32,
   "id": "e617c777-ebf5-4622-b063-1ab060a36e92",
   "metadata": {},
   "outputs": [
    {
     "data": {
      "text/plain": [
       "False"
      ]
     },
     "execution_count": 32,
     "metadata": {},
     "output_type": "execute_result"
    }
   ],
   "source": [
    "'p' not in s"
   ]
  },
  {
   "cell_type": "code",
   "execution_count": 33,
   "id": "f437f101-ca9c-4d76-b6e4-527b022661d2",
   "metadata": {},
   "outputs": [
    {
     "data": {
      "text/plain": [
       "True"
      ]
     },
     "execution_count": 33,
     "metadata": {},
     "output_type": "execute_result"
    }
   ],
   "source": [
    "'q' not in s"
   ]
  },
  {
   "cell_type": "code",
   "execution_count": 34,
   "id": "b56d859d-b0de-40b4-9675-eef1a5605d5a",
   "metadata": {},
   "outputs": [
    {
     "data": {
      "text/plain": [
       "True"
      ]
     },
     "execution_count": 34,
     "metadata": {},
     "output_type": "execute_result"
    }
   ],
   "source": [
    "'is' in s"
   ]
  },
  {
   "cell_type": "markdown",
   "id": "6fca72fc-ee79-48a8-b8cb-5f2dbc9c0c1b",
   "metadata": {},
   "source": [
    "## Comparison of String\n",
    "#### We can use comparison operators (<,<=,>,>=) and equality operators (==,!=) for strings.\n",
    "#### Comparison will be performed based on alphabetical order."
   ]
  },
  {
   "cell_type": "code",
   "execution_count": 36,
   "id": "eef8b626-df86-473e-8b40-53fca611cfe9",
   "metadata": {},
   "outputs": [
    {
     "name": "stdout",
     "output_type": "stream",
     "text": [
      "True\n"
     ]
    }
   ],
   "source": [
    "s1 = 'python'\n",
    "s2 = 'python'\n",
    "print(s1==s2)"
   ]
  },
  {
   "cell_type": "code",
   "execution_count": 37,
   "id": "85bcfc45-0ae1-420c-8bab-fa3f526a0d1e",
   "metadata": {},
   "outputs": [
    {
     "name": "stdout",
     "output_type": "stream",
     "text": [
      "True\n"
     ]
    }
   ],
   "source": [
    "s1 = 'python'\n",
    "s2 = 'easy'\n",
    "print(s1>=s2)"
   ]
  },
  {
   "cell_type": "code",
   "execution_count": 38,
   "id": "413f0c44-d601-4b9d-9d5a-cc5d545019bf",
   "metadata": {},
   "outputs": [
    {
     "name": "stdout",
     "output_type": "stream",
     "text": [
      "True\n"
     ]
    }
   ],
   "source": [
    "s1 = 'python'\n",
    "s2 = 'not easy'\n",
    "print(s1!=s2)"
   ]
  },
  {
   "cell_type": "code",
   "execution_count": 1,
   "id": "40102c46-24b8-46cb-a109-bec78d011882",
   "metadata": {},
   "outputs": [
    {
     "name": "stdout",
     "output_type": "stream",
     "text": [
      "False\n"
     ]
    }
   ],
   "source": [
    "s1 = 'python'\n",
    "s2 = 'not easy'\n",
    "print(s1<=s2)"
   ]
  },
  {
   "cell_type": "markdown",
   "id": "10e7bf95-ef9e-4a52-913e-b61115e4784b",
   "metadata": {},
   "source": [
    "## Removing spaces from the string\n",
    "- we can use the following 3 methods\n",
    "    - rstrip() -> To remove spaces at the right-hand side.\n",
    "    - lstrip() -> To remove spaces at the left-hand side.\n",
    "    - strip() -> To remove spaces both side"
   ]
  },
  {
   "cell_type": "code",
   "execution_count": 7,
   "id": "64151c2b-8024-4e9d-8b02-142d175e30ec",
   "metadata": {},
   "outputs": [
    {
     "data": {
      "text/plain": [
       "' python very easy to learn '"
      ]
     },
     "execution_count": 7,
     "metadata": {},
     "output_type": "execute_result"
    }
   ],
   "source": [
    "s = ' python very easy to learn '\n",
    "s"
   ]
  },
  {
   "cell_type": "code",
   "execution_count": 8,
   "id": "d5d1cd8c-2445-4053-81dd-de91d016a43b",
   "metadata": {},
   "outputs": [
    {
     "data": {
      "text/plain": [
       "'python very easy to learn '"
      ]
     },
     "execution_count": 8,
     "metadata": {},
     "output_type": "execute_result"
    }
   ],
   "source": [
    "s1 = s.lstrip()\n",
    "s1"
   ]
  },
  {
   "cell_type": "code",
   "execution_count": 9,
   "id": "3651e8d7-8bba-420b-9548-917a133d6d3b",
   "metadata": {},
   "outputs": [
    {
     "data": {
      "text/plain": [
       "' python very easy to learn'"
      ]
     },
     "execution_count": 9,
     "metadata": {},
     "output_type": "execute_result"
    }
   ],
   "source": [
    "s2 = s.rstrip()\n",
    "s2"
   ]
  },
  {
   "cell_type": "code",
   "execution_count": 12,
   "id": "00676eee-1d5f-4aae-acb9-db7267574769",
   "metadata": {},
   "outputs": [
    {
     "data": {
      "text/plain": [
       "'python very easy to learn'"
      ]
     },
     "execution_count": 12,
     "metadata": {},
     "output_type": "execute_result"
    }
   ],
   "source": [
    "s3 = s.strip()\n",
    "s3"
   ]
  },
  {
   "cell_type": "markdown",
   "id": "f2618804-6347-4ccb-958d-fae6c8cdd4f1",
   "metadata": {},
   "source": [
    "## Finding substring\n",
    "- forward direction\n",
    "    - find() \n",
    "    - index()\n",
    "- backward direction\n",
    "    - rfind()\n",
    "    - rindex()"
   ]
  },
  {
   "cell_type": "markdown",
   "id": "5d1c7090-75d3-40b9-beee-3aebe3bea043",
   "metadata": {},
   "source": [
    "### s.find(substring, begin, end)\n",
    "#### Returns the index of the first occurrence of the given string. if it is not available, then we will get -1"
   ]
  },
  {
   "cell_type": "code",
   "execution_count": 14,
   "id": "ff13c1d0-94fc-492a-b211-fe20fa5ebd46",
   "metadata": {},
   "outputs": [
    {
     "data": {
      "text/plain": [
       "1"
      ]
     },
     "execution_count": 14,
     "metadata": {},
     "output_type": "execute_result"
    }
   ],
   "source": [
    "s = 'Learning python is very easy'\n",
    "s.find('e')"
   ]
  },
  {
   "cell_type": "code",
   "execution_count": 15,
   "id": "de426705-3d78-473c-aca9-55ebca737993",
   "metadata": {},
   "outputs": [
    {
     "data": {
      "text/plain": [
       "-1"
      ]
     },
     "execution_count": 15,
     "metadata": {},
     "output_type": "execute_result"
    }
   ],
   "source": [
    "s.find('z')"
   ]
  },
  {
   "cell_type": "markdown",
   "id": "49373fc2-362a-4935-968e-235a4c3b8144",
   "metadata": {},
   "source": [
    "### s.index()\n",
    "#### index() method is exactly same as find() method except that is the specified substring is not available then we will get ValuError."
   ]
  },
  {
   "cell_type": "code",
   "execution_count": 16,
   "id": "23796558-578f-4d05-acd8-7e4a8b2ac9d4",
   "metadata": {},
   "outputs": [
    {
     "data": {
      "text/plain": [
       "10"
      ]
     },
     "execution_count": 16,
     "metadata": {},
     "output_type": "execute_result"
    }
   ],
   "source": [
    "s.index('y')"
   ]
  },
  {
   "cell_type": "code",
   "execution_count": 17,
   "id": "1ed35c72-150b-4364-8010-fe24cb97757d",
   "metadata": {},
   "outputs": [
    {
     "data": {
      "text/plain": [
       "8"
      ]
     },
     "execution_count": 17,
     "metadata": {},
     "output_type": "execute_result"
    }
   ],
   "source": [
    "s.index(' ')"
   ]
  },
  {
   "cell_type": "code",
   "execution_count": 19,
   "id": "152c1a39-c184-402b-b533-27887b4869cf",
   "metadata": {},
   "outputs": [
    {
     "ename": "ValueError",
     "evalue": "substring not found",
     "output_type": "error",
     "traceback": [
      "\u001b[1;31m---------------------------------------------------------------------------\u001b[0m",
      "\u001b[1;31mValueError\u001b[0m                                Traceback (most recent call last)",
      "Cell \u001b[1;32mIn[19], line 1\u001b[0m\n\u001b[1;32m----> 1\u001b[0m s\u001b[38;5;241m.\u001b[39mindex(\u001b[38;5;124m'\u001b[39m\u001b[38;5;124mz\u001b[39m\u001b[38;5;124m'\u001b[39m)\n",
      "\u001b[1;31mValueError\u001b[0m: substring not found"
     ]
    }
   ],
   "source": [
    "s.index('z')"
   ]
  },
  {
   "cell_type": "code",
   "execution_count": 20,
   "id": "f7045d97-a526-401f-9b18-6968a82351ad",
   "metadata": {},
   "outputs": [
    {
     "data": {
      "text/plain": [
       "27"
      ]
     },
     "execution_count": 20,
     "metadata": {},
     "output_type": "execute_result"
    }
   ],
   "source": [
    "s.rfind('y')"
   ]
  },
  {
   "cell_type": "code",
   "execution_count": 21,
   "id": "d48c64a0-d7a7-456b-be5d-908055697d85",
   "metadata": {},
   "outputs": [
    {
     "data": {
      "text/plain": [
       "27"
      ]
     },
     "execution_count": 21,
     "metadata": {},
     "output_type": "execute_result"
    }
   ],
   "source": [
    "s.rindex('y')"
   ]
  },
  {
   "cell_type": "code",
   "execution_count": 22,
   "id": "4d993a8a-eb95-4466-b845-29b233499a62",
   "metadata": {},
   "outputs": [
    {
     "ename": "ValueError",
     "evalue": "substring not found",
     "output_type": "error",
     "traceback": [
      "\u001b[1;31m---------------------------------------------------------------------------\u001b[0m",
      "\u001b[1;31mValueError\u001b[0m                                Traceback (most recent call last)",
      "Cell \u001b[1;32mIn[22], line 1\u001b[0m\n\u001b[1;32m----> 1\u001b[0m s\u001b[38;5;241m.\u001b[39mrindex(\u001b[38;5;124m'\u001b[39m\u001b[38;5;124mz\u001b[39m\u001b[38;5;124m'\u001b[39m)\n",
      "\u001b[1;31mValueError\u001b[0m: substring not found"
     ]
    }
   ],
   "source": [
    "s.rindex('z')"
   ]
  },
  {
   "cell_type": "markdown",
   "id": "dfed9b8b-72db-448a-9c60-0e118200d4d7",
   "metadata": {},
   "source": [
    "# Counting substring in the given string\n",
    "## s.count(begin,end,stop)"
   ]
  },
  {
   "cell_type": "code",
   "execution_count": 23,
   "id": "91c005e0-2dfa-49cb-b684-21fd85b3972b",
   "metadata": {},
   "outputs": [
    {
     "data": {
      "text/plain": [
       "3"
      ]
     },
     "execution_count": 23,
     "metadata": {},
     "output_type": "execute_result"
    }
   ],
   "source": [
    "s.count('y')"
   ]
  },
  {
   "cell_type": "code",
   "execution_count": 24,
   "id": "34eccc46-4817-4ac5-9a26-2e87672fefd3",
   "metadata": {},
   "outputs": [
    {
     "data": {
      "text/plain": [
       "'Learning python is very easy'"
      ]
     },
     "execution_count": 24,
     "metadata": {},
     "output_type": "execute_result"
    }
   ],
   "source": [
    "s"
   ]
  },
  {
   "cell_type": "code",
   "execution_count": 26,
   "id": "587a1014-4cb2-4d45-aec9-6602c6a4f027",
   "metadata": {},
   "outputs": [
    {
     "data": {
      "text/plain": [
       "3"
      ]
     },
     "execution_count": 26,
     "metadata": {},
     "output_type": "execute_result"
    }
   ],
   "source": [
    "s.count('e')"
   ]
  },
  {
   "cell_type": "code",
   "execution_count": 27,
   "id": "46225ee9-0217-4cb6-9340-c6d87f69ff1c",
   "metadata": {},
   "outputs": [
    {
     "data": {
      "text/plain": [
       "2"
      ]
     },
     "execution_count": 27,
     "metadata": {},
     "output_type": "execute_result"
    }
   ],
   "source": [
    "s.count('a')"
   ]
  },
  {
   "cell_type": "markdown",
   "id": "20d224da-1044-49f8-adfd-06109e9e53bb",
   "metadata": {},
   "source": [
    "# Replacing a string with another string\n",
    "## s.replace(old_str,new_str)"
   ]
  },
  {
   "cell_type": "code",
   "execution_count": 28,
   "id": "78c9a95e-b3a1-4ecf-b207-3b44329ae255",
   "metadata": {},
   "outputs": [
    {
     "data": {
      "text/plain": [
       "'Learning python is very easy'"
      ]
     },
     "execution_count": 28,
     "metadata": {},
     "output_type": "execute_result"
    }
   ],
   "source": [
    "s "
   ]
  },
  {
   "cell_type": "code",
   "execution_count": 31,
   "id": "4ebf5631-a45f-4d33-88c2-85cde7b26bee",
   "metadata": {},
   "outputs": [
    {
     "data": {
      "text/plain": [
       "'Learning python is very hard'"
      ]
     },
     "execution_count": 31,
     "metadata": {},
     "output_type": "execute_result"
    }
   ],
   "source": [
    "s1 = s.replace('easy','hard')\n",
    "s1"
   ]
  },
  {
   "cell_type": "code",
   "execution_count": 32,
   "id": "8ef5f472-95b8-40a5-956c-297a72a00f08",
   "metadata": {},
   "outputs": [
    {
     "data": {
      "text/plain": [
       "'Learning python is very Easy'"
      ]
     },
     "execution_count": 32,
     "metadata": {},
     "output_type": "execute_result"
    }
   ],
   "source": [
    "s2 = s.replace('easy','Easy')\n",
    "s2"
   ]
  },
  {
   "cell_type": "markdown",
   "id": "358b2e87-3539-452b-8a0d-dd0c3969f6be",
   "metadata": {},
   "source": [
    "## string object is immutable, then how can we change the content by using the replace() method?\n",
    "- Once we create the string object, we can not change the content. This non-changeable behaviour is nothing but immutability. If we are trying to change the content by using any method, then those changes will create a new object will be created and changes won't happen on the existing object.\n",
    "- Hence, with the replace() method, also new object is created, but the existing object won't be changed."
   ]
  },
  {
   "cell_type": "markdown",
   "id": "35dc8604-491b-4faf-85ea-b3e64001f0d3",
   "metadata": {},
   "source": [
    "## Splitting of strings\n",
    "- We can split the given string according to the specified seperator by using the split() method.\n",
    "- l = s.split(seperator)\n",
    "- The default seperator is space. The return type of split() method is List."
   ]
  },
  {
   "cell_type": "code",
   "execution_count": 38,
   "id": "34be3ddf-adf4-4f98-808d-c8d56eb625d4",
   "metadata": {},
   "outputs": [
    {
     "name": "stdout",
     "output_type": "stream",
     "text": [
      "<class 'str'>\n",
      "['python', 'is', 'easy']\n",
      "<class 'list'>\n"
     ]
    }
   ],
   "source": [
    "s = 'python is easy'\n",
    "print(type(s))\n",
    "spl = s.split()\n",
    "print(spl)\n",
    "print(type(spl))"
   ]
  },
  {
   "cell_type": "code",
   "execution_count": 42,
   "id": "94c9ddc7-7358-4c37-bc3a-33f50ed702e9",
   "metadata": {},
   "outputs": [
    {
     "data": {
      "text/plain": [
       "['python', 'is', 'easy']"
      ]
     },
     "execution_count": 42,
     "metadata": {},
     "output_type": "execute_result"
    }
   ],
   "source": [
    "s = 'python-is-easy'\n",
    "#print(type(s))\n",
    "spl = s.split('-')\n",
    "spl"
   ]
  },
  {
   "cell_type": "code",
   "execution_count": 51,
   "id": "a6fc832c-cd4f-4c6d-a856-88d4dcae5c40",
   "metadata": {},
   "outputs": [
    {
     "data": {
      "text/plain": [
       "'python-is-easy'"
      ]
     },
     "execution_count": 51,
     "metadata": {},
     "output_type": "execute_result"
    }
   ],
   "source": [
    "s = 'python-is&easy'\n",
    "s2= s.replace('&','-')\n",
    "s2"
   ]
  },
  {
   "cell_type": "code",
   "execution_count": 52,
   "id": "96ec7e80-f993-49b9-8b05-7554ab1f4c8a",
   "metadata": {},
   "outputs": [
    {
     "data": {
      "text/plain": [
       "['python', 'is', 'easy']"
      ]
     },
     "execution_count": 52,
     "metadata": {},
     "output_type": "execute_result"
    }
   ],
   "source": [
    "l = s2.split('-')\n",
    "l"
   ]
  },
  {
   "cell_type": "markdown",
   "id": "00b85dba-35db-4a4c-837a-516be4ddc522",
   "metadata": {},
   "source": [
    "## Joining of strings\n",
    "- We can join a group of strings (List or Tuple) with a given Seperator.\n",
    "- s.seperator.joint(group of strings)"
   ]
  },
  {
   "cell_type": "code",
   "execution_count": 53,
   "id": "20478361-45e2-4a49-bc65-28d9fd43df23",
   "metadata": {},
   "outputs": [
    {
     "data": {
      "text/plain": [
       "'python-very-easy-to-learn'"
      ]
     },
     "execution_count": 53,
     "metadata": {},
     "output_type": "execute_result"
    }
   ],
   "source": [
    "l = ['python','very','easy','to','learn']\n",
    "st = '-'.join(l)\n",
    "st"
   ]
  },
  {
   "cell_type": "code",
   "execution_count": 54,
   "id": "3d9861a0-e54e-4e35-8489-e62bbe6e8880",
   "metadata": {},
   "outputs": [
    {
     "data": {
      "text/plain": [
       "'python_very_easy_to_learn'"
      ]
     },
     "execution_count": 54,
     "metadata": {},
     "output_type": "execute_result"
    }
   ],
   "source": [
    "l = ['python','very','easy','to','learn']\n",
    "st = '_'.join(l)\n",
    "st"
   ]
  },
  {
   "cell_type": "code",
   "execution_count": 55,
   "id": "9dd86a8d-b71c-4b14-bbd4-f51661c56536",
   "metadata": {},
   "outputs": [
    {
     "data": {
      "text/plain": [
       "'3_5_6_2_7_1_4'"
      ]
     },
     "execution_count": 55,
     "metadata": {},
     "output_type": "execute_result"
    }
   ],
   "source": [
    "s = {'1','2','3','4','5','6','7'}\n",
    "st = '_'.join(s)\n",
    "st"
   ]
  },
  {
   "cell_type": "markdown",
   "id": "a82fb5c1-b943-43d3-bf9e-f20017dc9b1a",
   "metadata": {},
   "source": [
    "## Changing Cases of String\n",
    "- upper() To convert all characters to upper case.\n",
    "- lower() To convert all characters to lower case.\n",
    "- swapcase() To convert all upper case to lower case and lower case to upper case.\n",
    "- title () To convert all characters to title case. The first character in every word should be upper case, and all remaining characters should be lower case.\n",
    "- capitalize() only the first character will be converted to upper case, and all remaining characters can be converted to lower case"
   ]
  },
  {
   "cell_type": "code",
   "execution_count": 64,
   "id": "9412cfd6-709e-4633-bb8e-6fc54b9c8118",
   "metadata": {},
   "outputs": [],
   "source": [
    "s = 'Learning Python is Very Easy'"
   ]
  },
  {
   "cell_type": "code",
   "execution_count": 59,
   "id": "6e1fb191-2db4-44ee-8777-38b1665950b1",
   "metadata": {},
   "outputs": [
    {
     "data": {
      "text/plain": [
       "'LEARNING PYTHON IS VERY EASY'"
      ]
     },
     "execution_count": 59,
     "metadata": {},
     "output_type": "execute_result"
    }
   ],
   "source": [
    "s.upper()"
   ]
  },
  {
   "cell_type": "code",
   "execution_count": 60,
   "id": "92ca6629-eb76-442b-b2af-c41e9117bc2f",
   "metadata": {},
   "outputs": [
    {
     "data": {
      "text/plain": [
       "'learning python is very easy'"
      ]
     },
     "execution_count": 60,
     "metadata": {},
     "output_type": "execute_result"
    }
   ],
   "source": [
    "s.lower()"
   ]
  },
  {
   "cell_type": "code",
   "execution_count": 65,
   "id": "927d686b-034a-4389-bd1e-e9ea6a880f4c",
   "metadata": {},
   "outputs": [
    {
     "data": {
      "text/plain": [
       "'lEARNING pYTHON IS vERY eASY'"
      ]
     },
     "execution_count": 65,
     "metadata": {},
     "output_type": "execute_result"
    }
   ],
   "source": [
    "s.swapcase()"
   ]
  },
  {
   "cell_type": "code",
   "execution_count": 66,
   "id": "c32515bd-3493-4d29-8039-bf973deee661",
   "metadata": {},
   "outputs": [
    {
     "data": {
      "text/plain": [
       "'Learning Python Is Very Easy'"
      ]
     },
     "execution_count": 66,
     "metadata": {},
     "output_type": "execute_result"
    }
   ],
   "source": [
    "s.title()"
   ]
  },
  {
   "cell_type": "code",
   "execution_count": 67,
   "id": "0c9f3cba-0059-41e5-bf8c-d486d65a20b8",
   "metadata": {},
   "outputs": [
    {
     "data": {
      "text/plain": [
       "'Learning python is very easy'"
      ]
     },
     "execution_count": 67,
     "metadata": {},
     "output_type": "execute_result"
    }
   ],
   "source": [
    "s.capitalize()"
   ]
  },
  {
   "cell_type": "code",
   "execution_count": null,
   "id": "73c9e22b-df04-47f4-b755-94984c008634",
   "metadata": {},
   "outputs": [],
   "source": [
    "s"
   ]
  }
 ],
 "metadata": {
  "kernelspec": {
   "display_name": "Python 3 (ipykernel)",
   "language": "python",
   "name": "python3"
  },
  "language_info": {
   "codemirror_mode": {
    "name": "ipython",
    "version": 3
   },
   "file_extension": ".py",
   "mimetype": "text/x-python",
   "name": "python",
   "nbconvert_exporter": "python",
   "pygments_lexer": "ipython3",
   "version": "3.12.7"
  }
 },
 "nbformat": 4,
 "nbformat_minor": 5
}
