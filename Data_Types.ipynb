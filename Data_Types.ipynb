{
 "cells": [
  {
   "cell_type": "markdown",
   "id": "48de80e7-934a-4312-a508-d3fe6d8385a2",
   "metadata": {},
   "source": [
    "#### It represents the type of data represented by the variable \n",
    "#### In Python, we do not specify the type explicitly based on the value provided. The type will be assigned automatically. Hence, Python is a dynamically typed language"
   ]
  },
  {
   "cell_type": "markdown",
   "id": "9b714baa-4d3f-4926-9dd9-783b0e38fec7",
   "metadata": {},
   "source": [
    "### Following  data types\n",
    "#### 1. int\n",
    "#### 2. float\n",
    "#### 3. complex\n",
    "#### 4. bool\n",
    "#### 5. str"
   ]
  },
  {
   "cell_type": "markdown",
   "id": "468d768e-4d4e-4154-811a-dec8cd4b6de1",
   "metadata": {},
   "source": [
    "# int"
   ]
  },
  {
   "cell_type": "markdown",
   "id": "755c32cd-686f-444d-81ea-30599c5a0ac2",
   "metadata": {},
   "source": [
    "#### int = to represent integral value without decimal number"
   ]
  },
  {
   "cell_type": "code",
   "execution_count": 1,
   "id": "0d9f666a-f458-4d6a-b592-5e41c72ac7a7",
   "metadata": {},
   "outputs": [
    {
     "name": "stdout",
     "output_type": "stream",
     "text": [
      "10\n",
      "<class 'int'>\n"
     ]
    }
   ],
   "source": [
    "a = 10\n",
    "print(a)\n",
    "print(type(a))"
   ]
  },
  {
   "cell_type": "markdown",
   "id": "d9991b5b-2b28-4857-82e4-28bcb54716a3",
   "metadata": {},
   "source": [
    "# float"
   ]
  },
  {
   "cell_type": "markdown",
   "id": "9f9d4811-22a3-4f17-ad05-5b5424c89923",
   "metadata": {},
   "source": [
    "#### flot = to represent floating value\n",
    "#### float value we should specify only in decimal form."
   ]
  },
  {
   "cell_type": "code",
   "execution_count": 3,
   "id": "32977138-2435-4f41-bba5-f99169eb9a88",
   "metadata": {},
   "outputs": [
    {
     "name": "stdout",
     "output_type": "stream",
     "text": [
      "1.234\n",
      "<class 'float'>\n"
     ]
    }
   ],
   "source": [
    "f = 1.234\n",
    "print(f)\n",
    "print(type(f))"
   ]
  },
  {
   "cell_type": "markdown",
   "id": "40303bb3-4cab-4249-bbd9-1c5d16a47716",
   "metadata": {},
   "source": [
    "#### flot also represents exponential or scientific notation"
   ]
  },
  {
   "cell_type": "code",
   "execution_count": 4,
   "id": "5b6f2b53-e074-4066-9a99-d7b705caf8ca",
   "metadata": {},
   "outputs": [
    {
     "name": "stdout",
     "output_type": "stream",
     "text": [
      "1200.0\n",
      "<class 'float'>\n"
     ]
    }
   ],
   "source": [
    "f = 1.2e3 # 1.2*1000\n",
    "print(f)\n",
    "print(type(f))"
   ]
  },
  {
   "cell_type": "markdown",
   "id": "602bc853-b203-48a7-ab15-87cf912090b3",
   "metadata": {},
   "source": [
    "#### We can represent big values in less memory"
   ]
  },
  {
   "cell_type": "markdown",
   "id": "56c27bb4-26ac-4f0d-a8db-81799736f33a",
   "metadata": {},
   "source": [
    "# complex"
   ]
  },
  {
   "cell_type": "markdown",
   "id": "05ae05c1-12ec-45d1-8542-c1adf57b2107",
   "metadata": {},
   "source": [
    "#### a + bj\n",
    "#### a = Real Part\n",
    "#### b = imaginary part\n",
    "#### j = fixed values (sqr root -1)"
   ]
  },
  {
   "cell_type": "code",
   "execution_count": 7,
   "id": "b7ff6a8a-5fd4-40a0-933f-2a2b877e6f8e",
   "metadata": {},
   "outputs": [
    {
     "name": "stdout",
     "output_type": "stream",
     "text": [
      "(20+40j)\n",
      "(10.5+20.4j)\n",
      "<class 'complex'>\n",
      "<class 'complex'>\n"
     ]
    }
   ],
   "source": [
    "a_c = 20+40j\n",
    "b_c = 10.5+20.4j\n",
    "print(a_c)\n",
    "print(b_c)\n",
    "print(type(a_c))\n",
    "print(type(b_c))"
   ]
  },
  {
   "cell_type": "markdown",
   "id": "62785432-1b37-4308-b2e8-844692f2087d",
   "metadata": {},
   "source": [
    "#### to acess real part and imaginary part"
   ]
  },
  {
   "cell_type": "code",
   "execution_count": 8,
   "id": "65ec593a-d6a1-4583-895e-d55dcac08849",
   "metadata": {},
   "outputs": [
    {
     "name": "stdout",
     "output_type": "stream",
     "text": [
      "20.0\n",
      "40.0\n"
     ]
    }
   ],
   "source": [
    "print(a_c.real)\n",
    "print(a_c.imag)"
   ]
  },
  {
   "cell_type": "markdown",
   "id": "65bc72b9-fcd5-4ad2-bbde-93a7de6c29c0",
   "metadata": {},
   "source": [
    "# bool"
   ]
  },
  {
   "cell_type": "markdown",
   "id": "f2568b87-5dc6-4fe7-aa49-390d25979953",
   "metadata": {},
   "source": [
    "#### To represent boolean values / logical values\n",
    "#### True( 1 )\n",
    "#### False( 0 )"
   ]
  },
  {
   "cell_type": "code",
   "execution_count": 9,
   "id": "e68ec0aa-0100-455e-b796-4501f64f579a",
   "metadata": {},
   "outputs": [
    {
     "name": "stdout",
     "output_type": "stream",
     "text": [
      "True\n",
      "False\n",
      "<class 'bool'>\n",
      "<class 'bool'>\n"
     ]
    }
   ],
   "source": [
    "a = True\n",
    "b = False\n",
    "print(a)\n",
    "print(b)\n",
    "print(type(a))\n",
    "print(type(b))"
   ]
  },
  {
   "cell_type": "code",
   "execution_count": 10,
   "id": "63810314-ba6b-485c-a73f-930b92b51ec4",
   "metadata": {},
   "outputs": [
    {
     "name": "stdout",
     "output_type": "stream",
     "text": [
      "2\n",
      "1\n",
      "1\n",
      "0\n",
      "0\n"
     ]
    }
   ],
   "source": [
    "print(True + True)\n",
    "print(True + False)\n",
    "print(False + True)\n",
    "print(False + False)\n",
    "print(True * False)"
   ]
  },
  {
   "cell_type": "markdown",
   "id": "bfdac2b0-e555-451f-9cff-42f42332ff14",
   "metadata": {},
   "source": [
    "# str"
   ]
  },
  {
   "cell_type": "markdown",
   "id": "2a2fe7b4-7a67-4228-8f10-84e0e851469b",
   "metadata": {},
   "source": [
    "#### To represents any sequence of characters within single or double quotes"
   ]
  },
  {
   "cell_type": "code",
   "execution_count": 11,
   "id": "a275ed97-7332-4b1e-b411-dff56effa65c",
   "metadata": {},
   "outputs": [
    {
     "name": "stdout",
     "output_type": "stream",
     "text": [
      "abc\n",
      "def\n",
      "<class 'str'>\n",
      "<class 'str'>\n"
     ]
    }
   ],
   "source": [
    "s1 = 'abc'\n",
    "s2 = \"def\"\n",
    "print(s1)\n",
    "print(s2)\n",
    "print(type(s1))\n",
    "print(type(s2))"
   ]
  },
  {
   "cell_type": "markdown",
   "id": "f4db5c14-5f23-40c8-9baa-c0d7664a763a",
   "metadata": {},
   "source": [
    "#### To represent a multi-line string literal, use triple quotes"
   ]
  },
  {
   "cell_type": "code",
   "execution_count": 14,
   "id": "c42eeedd-dc6b-4b03-8c5a-8331b42f3b1d",
   "metadata": {},
   "outputs": [
    {
     "data": {
      "text/plain": [
       "' ashok\\n            reddy is\\n            data scientist'"
      ]
     },
     "execution_count": 14,
     "metadata": {},
     "output_type": "execute_result"
    }
   ],
   "source": [
    "s3 = ''' ashok\n",
    "            reddy is\n",
    "            data scientist'''\n",
    "s3"
   ]
  },
  {
   "cell_type": "code",
   "execution_count": null,
   "id": "ec98629d-13ae-49f3-862b-03dfff67c5e2",
   "metadata": {},
   "outputs": [],
   "source": []
  }
 ],
 "metadata": {
  "kernelspec": {
   "display_name": "Python 3 (ipykernel)",
   "language": "python",
   "name": "python3"
  },
  "language_info": {
   "codemirror_mode": {
    "name": "ipython",
    "version": 3
   },
   "file_extension": ".py",
   "mimetype": "text/x-python",
   "name": "python",
   "nbconvert_exporter": "python",
   "pygments_lexer": "ipython3",
   "version": "3.12.7"
  }
 },
 "nbformat": 4,
 "nbformat_minor": 5
}
